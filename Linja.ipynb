{
 "cells": [
  {
   "cell_type": "markdown",
   "id": "9750190e",
   "metadata": {},
   "source": [
    "# PRÁCTICA 1 - LINJA\n",
    "*Amanda Pérez Olmos*<br>\n",
    "Fecha de entrega: 8 diciembre 2023<br>\n",
    "\n",
    "(!) Nota: La entrada por teclado a veces se desordena, pero una vez se ejecuta el turno aparece correctamente."
   ]
  },
  {
   "cell_type": "markdown",
   "id": "b9fae40a",
   "metadata": {},
   "source": [
    "## Clase *Tablerolinja*\n",
    "Contiene la matriz asociada a la visualización del tablero y todos los métodos necesarios para llevar a cabo una partida.\n",
    "\n",
    "---\n",
    "CONCEPTOS BÁSICOS:<br>\n",
    "- Jugador 1 (Ordenador) >> Fichas NEGRAS >> 'N' >> 1\n",
    "- Jugador 2 (Nosotros) >> Fichas ROJAS >> 'R' >> 2\n",
    "- Casilla vacía >> 'V' >> 0"
   ]
  },
  {
   "cell_type": "code",
   "execution_count": 1,
   "id": "637555d8",
   "metadata": {},
   "outputs": [],
   "source": [
    "from copy import deepcopy\n",
    "from typing import Tuple, List\n",
    "import math"
   ]
  },
  {
   "cell_type": "code",
   "execution_count": 2,
   "id": "bf447a8b",
   "metadata": {},
   "outputs": [],
   "source": [
    "class Tablerolinja:\n",
    "    ''' Representa un estado del tablero del juego Linja en un momento determinado. '''\n",
    "    \n",
    "    def __init__(self, matrix):\n",
    "        '''\n",
    "        Inicializa un tablero a partir de la matriz proporcionada.\n",
    "        \n",
    "        Args:\n",
    "            matrix: Matriz sobre la que se formará un tablero.\n",
    "        '''\n",
    "        self.setMatrix(matrix)\n",
    "    \n",
    "    \n",
    "    def __eq__(self, other) -> bool:\n",
    "        '''\n",
    "        Evalúa si el tablero pasado es igual al actual, es decir, las fichas se encuentran en la misma posición.\n",
    "        \n",
    "        Args:\n",
    "            other: Tablero para comparar.\n",
    "        \n",
    "        Returns:\n",
    "            bool: Indica si el tablero es igual o no.\n",
    "        '''\n",
    "        if isinstance(other, Tablerolinja):\n",
    "            for i in range(len(self.matrix)):\n",
    "                for j in range(len(self.matrix[i])):\n",
    "                    if self.matrix[i][j] != other.matrix[i][j]:\n",
    "                        return False\n",
    "            return True\n",
    "        return False\n",
    "    \n",
    "    \n",
    "    def setMatrix(self, matrix):\n",
    "        '''\n",
    "        Actualiza la matriz del tablero con la nueva matriz proporcionada.\n",
    "        \n",
    "        Args:\n",
    "            matrix: Nueva matriz del tablero.\n",
    "        '''\n",
    "        self.matrix = deepcopy(matrix)\n",
    "    \n",
    "    \n",
    "    def getMatrix(self) -> List[List]:\n",
    "        '''\n",
    "        Devuelve la matriz asociada al tablero.\n",
    "        \n",
    "        Returns:\n",
    "            List[List]: Copia de la matriz del tablero.\n",
    "        '''\n",
    "        return deepcopy(self.matrix)\n",
    "    \n",
    "    \n",
    "    def placeTile(self, row: int, col: int, tile: int):\n",
    "        '''\n",
    "        Coloca una ficha en las coordenadas proporcionadas.\n",
    "        \n",
    "        Args:\n",
    "            row (int): Fila donde se colocará la ficha.\n",
    "            col (int): Columna donde se colocará la ficha.\n",
    "            tile (int): Número asociado al jugador que mueve la ficha.\n",
    "        '''\n",
    "        if self.estaEnTablero(row,col) and row in self.isAvailable():\n",
    "            self.matrix[row][col] = tile\n",
    "    \n",
    "    \n",
    "    def deleteTile(self, row: int, col: int):\n",
    "        '''\n",
    "        Borra una ficha de las coordenadas indicadas.\n",
    "        \n",
    "        Args:\n",
    "            row (int): Fila donde se encuentra la ficha.\n",
    "            col (int): Columna donde se encuentra la ficha.\n",
    "        '''\n",
    "        if self.estaEnTablero(row,col):\n",
    "            self.matrix[row][col] = 0\n",
    "  \n",
    "\n",
    "    def utility(self) -> int:\n",
    "        ''' \n",
    "        Función de coste - Método 1: Puntuación positiva.\n",
    "        \n",
    "        Returns:\n",
    "            int: Valor de utilidad en un momento determinado.\n",
    "                    - Diferencia de la puntuación entre fichas negras y rojas.\n",
    "        '''\n",
    "        puntosN = 0\n",
    "        puntosR = 0\n",
    "        valoresN = (0,0,0,0,1,2,3,5) # Las fichas negras (Jugador1) empiezan desde arriba y puntúan abajo.\n",
    "        valoresR= (5,3,2,1,0,0,0,0)  # Las fichas rojas (Jugador2) empiezan desde abajo y puntúan arriba.\n",
    "        \n",
    "        for i in range(len(self.matrix)):\n",
    "            \n",
    "            countNfila = 0\n",
    "            countRfila = 0\n",
    "            \n",
    "            for j in range(len(self.matrix[i])):\n",
    "                if self.matrix[i][j] == 1:\n",
    "                    countNfila += 1\n",
    "                elif self.matrix[i][j] == 2:\n",
    "                    countRfila += 1\n",
    "                \n",
    "            puntosN += countNfila * valoresN[i]\n",
    "            puntosR += countRfila * valoresR[i]\n",
    "\n",
    "        return puntosN - puntosR\n",
    "\n",
    "    \n",
    "    def estaEnTablero(self, fila: int, col: int) -> bool:\n",
    "        '''\n",
    "        Evalúa si la posición pasada se encuentra dentro de los límites del tablero.\n",
    "        \n",
    "        Args:\n",
    "            fila (int): Fila que se quiere evaluar.\n",
    "            col (int): Columna que se quiere evaluar.\n",
    "            \n",
    "        Returns:\n",
    "            True si la posición está en el tablero y False en caso contrario.\n",
    "        '''\n",
    "        if fila is None or col is None:\n",
    "            return False\n",
    "        else:\n",
    "            return 0 <= fila < len(self.matrix) and 0 <= col < len(self.matrix[0])\n",
    "    \n",
    "    \n",
    "    def isAvailable(self) -> List:\n",
    "        '''\n",
    "        Devuelve una lista de las filas del tablero que tienen posiciones vacías.\n",
    "        \n",
    "        Returns:\n",
    "            listaFilas (List): Lista de las filas que no están completas.\n",
    "        '''\n",
    "        listaFilas = []\n",
    "        \n",
    "        for i in range(len(self.matrix)):\n",
    "            for j in range(len(self.matrix[i])):\n",
    "                if self.matrix[i][j] == 0:\n",
    "                    listaFilas.append(i)\n",
    "              \n",
    "        return listaFilas\n",
    "    \n",
    "    \n",
    "    def numMovs(self, row: int) -> int:\n",
    "        '''\n",
    "        Número de posiciones que se podrá mover una ficha si en el 1er movimiento cae en esta fila.\n",
    "        \n",
    "        Args:\n",
    "            row (int): Fila en la que caerá la ficha.\n",
    "        \n",
    "        Returns:\n",
    "            nm (int): Número de posiciones que podrá moverse (nº fichas actual - la ficha que acaba de llegar).\n",
    "        '''\n",
    "        nm = 0\n",
    "        for j in range(len(self.matrix[row])):\n",
    "            if self.matrix[row][j] != 0:\n",
    "                nm += 1\n",
    "        return nm - 1  # Porque queremos ver cuántas fichas había antes de realizar el 1er movimiento.\n",
    "    \n",
    "    \n",
    "    def turno(self, rowIni: int, colIni: int, playerID: int):\n",
    "        '''\n",
    "        Representa un turno (1º y 2º movimiento) realizado por un jugador no físico (ordenador).\n",
    "            - Externamente se habrán elegido las coordenadas de la ficha que hará el 1º movimiento.\n",
    "            - Se comprobará si avanzar una casilla es posible para dicha ficha. Si no lo es, retorna False.\n",
    "            - Volverá a recorrer el tablero para escoger ficha del 2º movimiento con la misma lógica.\n",
    "            \n",
    "        Args:\n",
    "            rowIni (int): Fila de la ficha que hará el 1º movimiento.\n",
    "            colIni (int): Columna de la ficha que hará el 1º movimiento.\n",
    "            playerID (int): Jugador que lleva a cabo los movimientos.\n",
    "            \n",
    "        Returns:\n",
    "            Tuple(bool,List[List])\n",
    "                - esPosibleMvto (bool): indica si el movimiento ha sido posible o no.\n",
    "                - List[List]: matriz que representa el estado del tablero después de haber realizado el turno.\n",
    "        '''\n",
    "        esPosibleMvto = False\n",
    "        filaActual = 0\n",
    "        \n",
    "        # ------------------------------------- PRIMER MOVIMIENTO -------------------------------------\n",
    "        rowFin = rowIni+1 if playerID == 1 else rowIni-1\n",
    "        colFin = self.primeraColLibre(rowFin)\n",
    "        \n",
    "        if self.estaEnTablero(rowFin,colFin) and colFin is not None:\n",
    "            filaActual = self.moverFicha(rowIni,colIni,rowFin,colFin,playerID)\n",
    "        else:\n",
    "            return (esPosibleMvto,self.getMatrix())\n",
    "\n",
    "        \n",
    "        # ------------------------------------- SEGUNDO MOVIMIENTO -------------------------------------\n",
    "\n",
    "        # Si en el 1º movimiento el jugador va a una casilla del extremo opuesto, en el 2º movimiento\n",
    "        # solo podrá avanzar una casilla.\n",
    "        if playerID == 1 and filaActual == 7:\n",
    "            nm = 1\n",
    "        elif playerID == 2 and filaActual == 0:\n",
    "            nm = 1\n",
    "        else:\n",
    "            nm = self.numMovs(filaActual)\n",
    "        \n",
    "        fila = 0\n",
    "        \n",
    "        if nm > 0:\n",
    "            while fila < len(self.matrix) and esPosibleMvto is False:\n",
    "                col = 0\n",
    "                while col < len(self.matrix[fila]) and esPosibleMvto is False:\n",
    "\n",
    "                    if self.matrix[fila][col] == playerID:\n",
    "\n",
    "                        rowFin = fila+nm if playerID == 1 else fila-nm\n",
    "                        colFin = self.primeraColLibre(rowFin)\n",
    "\n",
    "                        if self.estaEnTablero(rowFin,colFin) and colFin is not None:\n",
    "                            esPosibleMvto = True\n",
    "                            self.moverFicha(fila,col,rowFin,colFin,playerID)\n",
    "\n",
    "                    col += 1\n",
    "                fila += 1\n",
    "\n",
    "                \n",
    "        return (esPosibleMvto,self.getMatrix())\n",
    "    \n",
    "    \n",
    "    def primeraColLibre(self, row: int):\n",
    "        '''\n",
    "        Devuelve la posición de la primera columna libre de una fila.\n",
    "        \n",
    "        Args:\n",
    "            row (int): Fila a evaluar.\n",
    "        \n",
    "        Returns:\n",
    "            Primera columna libre o None si la fila no tiene posiciones libres.\n",
    "        '''\n",
    "        if self.estaEnTablero(row,0):\n",
    "            for j in range(len(self.matrix[row])):\n",
    "                if self.matrix[row][j] == 0: return j\n",
    "        return None      \n",
    "        \n",
    "    \n",
    "    def imprimirTablero(self):\n",
    "        ''' Imprime el estado del tablero en un momento dado. '''\n",
    "        matTab = self.getMatrix()\n",
    "        display(HTML(get_html(matTab, imgs)))\n",
    "        \n",
    "    \n",
    "    def haFinalizadoJuego(self) -> bool:\n",
    "        '''\n",
    "        El juego finaliza cuando todas las fichas de ambos jugadores se encuentran en la mitad opuesta.\n",
    "        \n",
    "        Returns:\n",
    "            bool: Indica si ha finalizado o no la partida.\n",
    "        '''\n",
    "        fichasN = 0\n",
    "        fichasR = 0\n",
    "        \n",
    "        for i in range(len(self.matrix)):\n",
    "            for j in range(len(self.matrix[i])):\n",
    "                \n",
    "                if i < 4: # Mitad superior. Aquí se cuentan las fichas del jugador 2 (Rojo).\n",
    "                    if self.matrix[i][j] == 2: fichasR += 1\n",
    "                else:     # Mitad inferior. Aquí se cuentan las fichas del jugador 1 (Negro).\n",
    "                    if self.matrix[i][j] == 1: fichasN += 1\n",
    "                        \n",
    "        return fichasN == 12 and fichasR == 12\n",
    "    \n",
    "    \n",
    "    def turnoJugador(self, matTab, imgs):\n",
    "        '''\n",
    "        Representa un turno (1º y 2º movimiento) realizado por un jugador físico (nosotros).\n",
    "            - Se pedirán por teclado las coordenadas de la ficha que hará el 1º movimiento.\n",
    "            - Después, se pedirán por teclado las coordenadas de la ficha que hará el 2º movimiento.\n",
    "            - En cualquier caso, si las coordenadas no fueran válidas (límites tablero, casillas ocupadas),\n",
    "            se volverían a pedir los inputs hasta que fueran correctas.\n",
    "        \n",
    "        Args:\n",
    "            matTab: Matriz del tablero. Se utiliza para la visualización del tablero.\n",
    "            imgs: Conjunto de imágenes para la visualización del tablero.\n",
    "        '''\n",
    "        valido = False\n",
    "        filaActual = 0\n",
    "\n",
    "        # ------------------------------------- PRIMER MOVIMIENTO -------------------------------------\n",
    "        while not valido:\n",
    "            \n",
    "            coordsInput = input(\"[1er mov] Ingrese la FILA y COLUMNA de la ficha que desea mover (ej: f,c): \")\n",
    "            fila_str, columna_str = coordsInput.split(',')\n",
    "            rowIni = int(fila_str)\n",
    "            colIni = int(columna_str)\n",
    "\n",
    "            rowFin = rowIni-1\n",
    "            colFin = self.primeraColLibre(rowFin)\n",
    "\n",
    "            if self.estaEnTablero(rowIni,colIni) and colFin is not None and self.estaEnTablero(rowFin,colFin):\n",
    "                valido = True\n",
    "                filaActual = self.moverFicha(rowIni,colIni,rowFin,colFin,2)\n",
    "            else:\n",
    "                print(\"NO VÁLIDO\")\n",
    "\n",
    "        valido = False\n",
    "\n",
    "        if filaActual == 0: # Se da por hecho que el jugador físico es el 2.\n",
    "            nm = 1\n",
    "        else:\n",
    "            nm = self.numMovs(filaActual)\n",
    "        \n",
    "        self.imprimirTablero()\n",
    "\n",
    "        if nm > 0:\n",
    "            # ------------------------------------- SEGUNDO MOVIMIENTO -------------------------------------\n",
    "            while not valido:\n",
    "\n",
    "                coordsInput = input(f\"[2ndo mov] Ingrese la FILA y COLUMNA de la ficha que desea mover ({nm} posiciones) (ej: f,c): \")\n",
    "                fila_str, columna_str = coordsInput.split(',')\n",
    "                rowIni = int(fila_str)\n",
    "                colIni = int(columna_str)\n",
    "\n",
    "                rowFin = rowIni-nm\n",
    "                colFin = self.primeraColLibre(rowFin)\n",
    "\n",
    "                if self.estaEnTablero(rowIni,colIni) and colFin is not None and self.estaEnTablero(rowFin,colFin):\n",
    "                    valido = True\n",
    "                    filaActual = self.moverFicha(rowIni,colIni,rowFin,colFin,2)\n",
    "                else:\n",
    "                    print(\"NO VÁLIDO\")\n",
    "\n",
    "    \n",
    "    def moverFicha(self, rowIni: int, colIni: int, rowFin: int, colFin: int, playerID: int) -> int:\n",
    "        '''\n",
    "        Mueve una ficha de un jugador a otra posición del tablero.\n",
    "        \n",
    "        Args:\n",
    "            rowIni (int): Fila inicial de la ficha.\n",
    "            colIni (int): Columna inicial de la ficha.\n",
    "            rowFin (int): Fila final de la ficha.\n",
    "            colFin (int): Columna final de la ficha.\n",
    "            playerID (int): Número asociado al jugador que mueve la ficha.\n",
    "            \n",
    "        Returns:\n",
    "            rowFin (int): Columna final. Para conocer, en el 2º movimiento, cuántas posiciones puede moverse.\n",
    "        '''\n",
    "        self.deleteTile(rowIni,colIni)\n",
    "        self.placeTile(rowFin,colFin,playerID)\n",
    "        return rowFin\n",
    "    \n",
    "    \n",
    "    def endGame(self) -> int:\n",
    "        '''\n",
    "        Va a determinar qué jugador es el ganador. Negro == 1. Rojo == 2. Si la función de coste es\n",
    "        positiva, es porque las fichas negras tienen más puntos.\n",
    "        \n",
    "        Returns:\n",
    "            (int): Número asociado al jugador ganador.\n",
    "        '''\n",
    "        return 1 if self.utility() > 0 else 2"
   ]
  },
  {
   "cell_type": "markdown",
   "id": "32a3dff6",
   "metadata": {},
   "source": [
    "## Tablero visual\n",
    "Creación de un tablero visual simple a través de un archivo de texto que contiene la disposición inicial del tablero.\n",
    "\n",
    "---\n",
    "Los caracteres contenidos en el fichero seguirán la misma lógica explicada anteriormente para el juego, siendo 'V' una casilla vacía (0), 'N' una casilla con ficha del jugador 1 y 'R' una casilla con ficha del jugador 2."
   ]
  },
  {
   "cell_type": "code",
   "execution_count": 3,
   "id": "a0de9a2d",
   "metadata": {},
   "outputs": [],
   "source": [
    "import itertools\n",
    "from IPython.display import display, HTML\n",
    "import os"
   ]
  },
  {
   "cell_type": "code",
   "execution_count": 4,
   "id": "fea1fca5",
   "metadata": {},
   "outputs": [],
   "source": [
    "def getCodigoTablero(caracter):\n",
    "    '''\n",
    "    Devuelve el código de mapa asociado a los caracteres definidos.\n",
    "    \n",
    "    Args:\n",
    "        caracter: Letra que se va a intercambiar por un número.\n",
    "    \n",
    "    Returns:\n",
    "        codigo: Número asociado a la letra proporcionada.\n",
    "    '''    \n",
    "    codigo = 0\n",
    "    if caracter == 'V': codigo = 0\n",
    "    elif caracter == 'N': codigo = 1        \n",
    "    elif caracter == 'R': codigo = 2          \n",
    "    return codigo"
   ]
  },
  {
   "cell_type": "code",
   "execution_count": 5,
   "id": "8c636623",
   "metadata": {},
   "outputs": [],
   "source": [
    "def getContent(coord, tab):\n",
    "    '''\n",
    "    Obtiene el contenido (alias de una imagen) de una determinada posición en un tablero.\n",
    "    \n",
    "    Args:\n",
    "        coord: Posición de la que queremos conocer el contenido.\n",
    "        tab: Tablero.\n",
    "    \n",
    "    Returns:\n",
    "        contenido: Lista de tamaño 1.\n",
    "    '''\n",
    "    contenido = [None]\n",
    "    \n",
    "    if tab[coord[0]][coord[1]] == 0: contenido[0] = \"casillavacia\"\n",
    "    elif tab[coord[0]][coord[1]] == 1: contenido[0] = \"casillanegra\"\n",
    "    elif tab[coord[0]][coord[1]] == 2: contenido[0] = \"casillaroja\"\n",
    "                   \n",
    "    return contenido"
   ]
  },
  {
   "cell_type": "code",
   "execution_count": 6,
   "id": "dca91c58",
   "metadata": {},
   "outputs": [],
   "source": [
    "def get_html(tab, imgs):\n",
    "    '''\n",
    "    Muestra una representación gráfica del juego.\n",
    "    \n",
    "    Args:\n",
    "        tab: Tablero.\n",
    "        imgs: Conjunto de imágenes para la visualización del tablero.\n",
    "        \n",
    "    Returns:\n",
    "        \"String\" que contiene HTML.\n",
    "    '''\n",
    "    height = len(tab)\n",
    "    width = len(tab[0])\n",
    "    \n",
    "    # Línea de índices horizontal\n",
    "    index_row = \"<tr><td></td>\"\n",
    "    for j in range(width):\n",
    "        index_row += f\"<td>{j}</td>\"\n",
    "    index_row += \"</tr>\"\n",
    "    \n",
    "    html_string = \"<style> img.game {width: 30px !important; height: 25px !important;}</style><table>\"\n",
    "    \n",
    "    # Agrega la línea de índices horizontal al principio\n",
    "    html_string += index_row\n",
    "\n",
    "    new_row = \"<tr>\"\n",
    "    end_row = \"</tr>\"\n",
    "    \n",
    "    for i in range(height):\n",
    "        html_string += new_row\n",
    "        \n",
    "        # Índice vertical\n",
    "        html_string += f\"<td>{i}</td>\"\n",
    "        \n",
    "        for j in range(width):\n",
    "            content = getContent((i, j), tab)\n",
    "            drawing = imgs[content[0]]\n",
    "            \n",
    "            html = '<td><img class=\"game\" src=%s alt=\"\"></img></td>' % drawing     \n",
    "            \n",
    "            html_string += html\n",
    "        \n",
    "        html_string += end_row\n",
    "            \n",
    "    html_string += \"</table>\"\n",
    "                    \n",
    "    return html_string"
   ]
  },
  {
   "cell_type": "markdown",
   "id": "746a9999",
   "metadata": {},
   "source": [
    "### Procedimiento completo"
   ]
  },
  {
   "cell_type": "code",
   "execution_count": 7,
   "id": "9b29c898",
   "metadata": {},
   "outputs": [],
   "source": [
    "def extraerArchivo(nomFich):\n",
    "    '''\n",
    "    Lee un archivo y transforma su contenido en la matriz numérica de un tablero.\n",
    "    \n",
    "    Args:\n",
    "        nomFich: Nombre del fichero a leer. Debe encontrarse en el mismo directorio que el ejecutable.\n",
    "        \n",
    "    Returns:\n",
    "        matTab: Matriz asociada al tablero.\n",
    "        element_image: Alias para imágenes asociadas con las celdas del tablero.\n",
    "    '''\n",
    "    \n",
    "    # Cargamos un fichero que codifica un tablero como el indicado arriba.\n",
    "    fileHandler = open (nomFich, \"r\",encoding=\"utf-8\")\n",
    "\n",
    "    # Almacena las diferentes líneas del archivo en una lista.\n",
    "    listOfLines = fileHandler.readlines()\n",
    "\n",
    "    # Cierra el archivo. \n",
    "    fileHandler.close()\n",
    "\n",
    "    # Generamos la matriz de un tablero que directamente codifique los números asociados.\n",
    "    matTab = []\n",
    "    nFila=0\n",
    "\n",
    "    for linea in listOfLines:\n",
    "\n",
    "        fila = list(itertools.repeat(0, 6))\n",
    "        nCol = 0\n",
    "        for ch in linea:\n",
    "            if ch =='\\n': break\n",
    "            fila[nCol] = getCodigoTablero(ch)                \n",
    "            nCol+=1\n",
    "\n",
    "        matTab.append(fila)\n",
    "        nFila+=1\n",
    "\n",
    "    #--------------------------------------\n",
    "    element_image = {\n",
    "        \"casillavacia\": \"./ImagenesCasillasLinja/CasillaVacia.png\",\n",
    "        \"casillanegra\": \"./ImagenesCasillasLinja/CasillaNegra.png\",\n",
    "        \"casillaroja\": \"./ImagenesCasillasLinja/CasillaRoja.png\"\n",
    "    }\n",
    "    \n",
    "    return (matTab,element_image)"
   ]
  },
  {
   "cell_type": "code",
   "execution_count": 8,
   "id": "25f2404f",
   "metadata": {},
   "outputs": [
    {
     "data": {
      "text/html": [
       "<style> img.game {width: 30px !important; height: 25px !important;}</style><table><tr><td></td><td>0</td><td>1</td><td>2</td><td>3</td><td>4</td><td>5</td></tr><tr><td>0</td><td><img class=\"game\" src=./ImagenesCasillasLinja/CasillaNegra.png alt=\"\"></img></td><td><img class=\"game\" src=./ImagenesCasillasLinja/CasillaNegra.png alt=\"\"></img></td><td><img class=\"game\" src=./ImagenesCasillasLinja/CasillaNegra.png alt=\"\"></img></td><td><img class=\"game\" src=./ImagenesCasillasLinja/CasillaNegra.png alt=\"\"></img></td><td><img class=\"game\" src=./ImagenesCasillasLinja/CasillaNegra.png alt=\"\"></img></td><td><img class=\"game\" src=./ImagenesCasillasLinja/CasillaNegra.png alt=\"\"></img></td></tr><tr><td>1</td><td><img class=\"game\" src=./ImagenesCasillasLinja/CasillaNegra.png alt=\"\"></img></td><td><img class=\"game\" src=./ImagenesCasillasLinja/CasillaVacia.png alt=\"\"></img></td><td><img class=\"game\" src=./ImagenesCasillasLinja/CasillaVacia.png alt=\"\"></img></td><td><img class=\"game\" src=./ImagenesCasillasLinja/CasillaVacia.png alt=\"\"></img></td><td><img class=\"game\" src=./ImagenesCasillasLinja/CasillaVacia.png alt=\"\"></img></td><td><img class=\"game\" src=./ImagenesCasillasLinja/CasillaRoja.png alt=\"\"></img></td></tr><tr><td>2</td><td><img class=\"game\" src=./ImagenesCasillasLinja/CasillaNegra.png alt=\"\"></img></td><td><img class=\"game\" src=./ImagenesCasillasLinja/CasillaVacia.png alt=\"\"></img></td><td><img class=\"game\" src=./ImagenesCasillasLinja/CasillaVacia.png alt=\"\"></img></td><td><img class=\"game\" src=./ImagenesCasillasLinja/CasillaVacia.png alt=\"\"></img></td><td><img class=\"game\" src=./ImagenesCasillasLinja/CasillaVacia.png alt=\"\"></img></td><td><img class=\"game\" src=./ImagenesCasillasLinja/CasillaRoja.png alt=\"\"></img></td></tr><tr><td>3</td><td><img class=\"game\" src=./ImagenesCasillasLinja/CasillaNegra.png alt=\"\"></img></td><td><img class=\"game\" src=./ImagenesCasillasLinja/CasillaVacia.png alt=\"\"></img></td><td><img class=\"game\" src=./ImagenesCasillasLinja/CasillaVacia.png alt=\"\"></img></td><td><img class=\"game\" src=./ImagenesCasillasLinja/CasillaVacia.png alt=\"\"></img></td><td><img class=\"game\" src=./ImagenesCasillasLinja/CasillaVacia.png alt=\"\"></img></td><td><img class=\"game\" src=./ImagenesCasillasLinja/CasillaRoja.png alt=\"\"></img></td></tr><tr><td>4</td><td><img class=\"game\" src=./ImagenesCasillasLinja/CasillaNegra.png alt=\"\"></img></td><td><img class=\"game\" src=./ImagenesCasillasLinja/CasillaVacia.png alt=\"\"></img></td><td><img class=\"game\" src=./ImagenesCasillasLinja/CasillaVacia.png alt=\"\"></img></td><td><img class=\"game\" src=./ImagenesCasillasLinja/CasillaVacia.png alt=\"\"></img></td><td><img class=\"game\" src=./ImagenesCasillasLinja/CasillaVacia.png alt=\"\"></img></td><td><img class=\"game\" src=./ImagenesCasillasLinja/CasillaRoja.png alt=\"\"></img></td></tr><tr><td>5</td><td><img class=\"game\" src=./ImagenesCasillasLinja/CasillaNegra.png alt=\"\"></img></td><td><img class=\"game\" src=./ImagenesCasillasLinja/CasillaVacia.png alt=\"\"></img></td><td><img class=\"game\" src=./ImagenesCasillasLinja/CasillaVacia.png alt=\"\"></img></td><td><img class=\"game\" src=./ImagenesCasillasLinja/CasillaVacia.png alt=\"\"></img></td><td><img class=\"game\" src=./ImagenesCasillasLinja/CasillaVacia.png alt=\"\"></img></td><td><img class=\"game\" src=./ImagenesCasillasLinja/CasillaRoja.png alt=\"\"></img></td></tr><tr><td>6</td><td><img class=\"game\" src=./ImagenesCasillasLinja/CasillaNegra.png alt=\"\"></img></td><td><img class=\"game\" src=./ImagenesCasillasLinja/CasillaVacia.png alt=\"\"></img></td><td><img class=\"game\" src=./ImagenesCasillasLinja/CasillaVacia.png alt=\"\"></img></td><td><img class=\"game\" src=./ImagenesCasillasLinja/CasillaVacia.png alt=\"\"></img></td><td><img class=\"game\" src=./ImagenesCasillasLinja/CasillaVacia.png alt=\"\"></img></td><td><img class=\"game\" src=./ImagenesCasillasLinja/CasillaRoja.png alt=\"\"></img></td></tr><tr><td>7</td><td><img class=\"game\" src=./ImagenesCasillasLinja/CasillaRoja.png alt=\"\"></img></td><td><img class=\"game\" src=./ImagenesCasillasLinja/CasillaRoja.png alt=\"\"></img></td><td><img class=\"game\" src=./ImagenesCasillasLinja/CasillaRoja.png alt=\"\"></img></td><td><img class=\"game\" src=./ImagenesCasillasLinja/CasillaRoja.png alt=\"\"></img></td><td><img class=\"game\" src=./ImagenesCasillasLinja/CasillaRoja.png alt=\"\"></img></td><td><img class=\"game\" src=./ImagenesCasillasLinja/CasillaRoja.png alt=\"\"></img></td></tr></table>"
      ],
      "text/plain": [
       "<IPython.core.display.HTML object>"
      ]
     },
     "metadata": {},
     "output_type": "display_data"
    }
   ],
   "source": [
    "tablero, imgs = extraerArchivo(\"PrimerTableroLinja.txt\")\n",
    "HTML(get_html(tablero, imgs))\n",
    "display(HTML(get_html(tablero, imgs)))"
   ]
  },
  {
   "cell_type": "markdown",
   "id": "4229ddab",
   "metadata": {},
   "source": [
    "## Función asociada al método *Minimax* (con poda $\\alpha-\\beta$)\n",
    "Dado un estado del tablero, se creará un determinado número de sucesores para dicho estado. Cada hijo incluye el turno de un jugador, siendo éste 1º y 2º movimiento (con posibilidad de turno extra si la hubiera).\n",
    "\n",
    "---\n",
    "El algoritmo funcionará de manera recursiva hasta llegar a un nodo hoja o al máximo nivel permitido (indicado también como parámetro). Una vez llegado al máximo nivel, evaluará la función heurística y determinará qué sucesor es más ventajoso para el jugador que llamó a la función."
   ]
  },
  {
   "cell_type": "code",
   "execution_count": 9,
   "id": "1951752e",
   "metadata": {},
   "outputs": [],
   "source": [
    "def miniMax(state:Tablerolinja, currentLevel:int, maxLevel:int, player:int, alpha:int, beta:int, stop:bool) -> Tuple[Tablerolinja, int, bool]:\n",
    "    '''\n",
    "    Algoritmo de MiniMax con poda alfa-beta.\n",
    "    \n",
    "    Args:\n",
    "        state (Tablerolinja): Tablero a evaluar.\n",
    "        currentLevel (int): Nivel actual de profundidad.\n",
    "        maxLevel (int): Máximo nivel de profundidad.\n",
    "        player (int): Jugador que realiza el movimiento en este nivel.\n",
    "        alpha (int): Valor de alfa en este nivel.\n",
    "        beta (int): Valor de beta en este nivel.\n",
    "        stop (bool): Detener la búsqueda o no.\n",
    "        \n",
    "    Returns:\n",
    "        Tuple[Tablerolinja, int, bool]: Estado del tablero, valor de función de utilidad y parada (o no) de la búsqueda.\n",
    "    '''\n",
    "    \n",
    "    matriz=state.getMatrix()\n",
    "    numSucesores = 6\n",
    "    \n",
    "    # Defino las matrices de sucesores\n",
    "    successorMatrices = []\n",
    "    \n",
    "    if currentLevel == maxLevel:\n",
    "        return (state.matrix,state.utility(),stop)\n",
    "    \n",
    "   \n",
    "    # Actualizo el conjunto de las matrices de sucesores    \n",
    "    fila = 0\n",
    "    while fila < len(state.matrix):\n",
    "        col = 0\n",
    "        while col < len(state.matrix[fila]):\n",
    "                \n",
    "            if state.matrix[fila][col] == player: # La primera ficha que encuentre de ese jugador.\n",
    "                clonTablero = Tablerolinja(matriz)\n",
    "                mvtoValido, successorBoard = clonTablero.turno(fila,col,player)\n",
    "       \n",
    "                if mvtoValido is True and successorBoard not in successorMatrices:\n",
    "                    successorMatrices.append(successorBoard)\n",
    "   \n",
    "            col += 1\n",
    "            if len(successorMatrices) == numSucesores: break\n",
    "            \n",
    "        fila += 1\n",
    "        if len(successorMatrices) == numSucesores: break\n",
    "     \n",
    "    \n",
    "    if len(successorMatrices) == 0:\n",
    "        stopDigging = True\n",
    "        coste=state.utility()\n",
    "        return (state.matrix,coste,stopDigging)\n",
    "    \n",
    "    bestMatrix = None\n",
    "    \n",
    "            \n",
    "    if player == 1:                    \n",
    "        maxValue = -math.inf #alpha\n",
    "        \n",
    "        for i in range(0, len(successorMatrices)):            \n",
    "            \n",
    "                mat = Tablerolinja(successorMatrices[i])\n",
    "                matrizS, utility, stop = miniMax(mat, currentLevel + 1, maxLevel, 2, alpha,beta,stop)\n",
    "                \n",
    "                best = utility \n",
    "            \n",
    "                if best > maxValue:\n",
    "                    maxValue = best\n",
    "                    bestMatrix = mat\n",
    "            \n",
    "                alpha = max(alpha, best)\n",
    "                \n",
    "                if best >= beta:                   \n",
    "                    return (matrizS,best,stop)\n",
    "                \n",
    "    else:                           \n",
    "        \n",
    "        minValue = math.inf #beta\n",
    "        for i in range(0, len(successorMatrices)):\n",
    "            \n",
    "                mat = Tablerolinja(successorMatrices[i])\n",
    "                matrizS, utility, stop = miniMax(mat, currentLevel + 1, maxLevel, 1, alpha,beta,stop)\n",
    "            \n",
    "                if utility < minValue:\n",
    "                \n",
    "                    minValue = utility\n",
    "                    bestMatrix = mat\n",
    "                \n",
    "                beta = min(beta, utility)\n",
    "                \n",
    "                if utility <= alpha:\n",
    "                    return (matrizS,utility,stop)\n",
    "            \n",
    "\n",
    "            \n",
    "    return (bestMatrix,utility,stop)"
   ]
  },
  {
   "cell_type": "markdown",
   "id": "53cda304",
   "metadata": {},
   "source": [
    "## Poner en funcionamiento *Minimax*"
   ]
  },
  {
   "cell_type": "code",
   "execution_count": 10,
   "id": "9608d3d0",
   "metadata": {},
   "outputs": [],
   "source": [
    "def performActionMinMax(state: Tablerolinja, player: int):\n",
    "    '''\n",
    "    Realiza la primera llamada al algoritmo Minimax para un jugador determinado.\n",
    "    \n",
    "    Args:\n",
    "        state (Tablerolinja): Estado del tablero sobre el que se realizará el turno.\n",
    "        player (int): Jugador que llama a Minimax para evaluar la mejor posibilidad de movimientos.\n",
    "        \n",
    "    Returns:\n",
    "        matrizoptima: Mejor estado al que puede moverse el jugador de entre los posibles.\n",
    "    '''\n",
    "    matrizB=state.getMatrix()\n",
    "    tmpMatriz = [row[:] for row in matrizB] \n",
    "           \n",
    "    depth = 2\n",
    "    matrizoptima = tmpMatriz\n",
    "    stop = False \n",
    "    nivelAct = 0\n",
    "    \n",
    "    tmpMatrizB = Tablerolinja(tmpMatriz)\n",
    "    (matrizoptima, valoroptimo, stop) = miniMax(tmpMatrizB, nivelAct, depth, player, -math.inf, math.inf,stop);\n",
    "     \n",
    "    return matrizoptima"
   ]
  },
  {
   "cell_type": "markdown",
   "id": "b7a946c6",
   "metadata": {},
   "source": [
    "## Realización del movimiento por parte del ordenador\n",
    "Esta es la función a la que se llamará cuando sea el turno del ordenador para jugar."
   ]
  },
  {
   "cell_type": "code",
   "execution_count": 11,
   "id": "7e40f416",
   "metadata": {},
   "outputs": [],
   "source": [
    "def AIAction(state: Tablerolinja, player: int):\n",
    "    '''\n",
    "    Lleva a cabo un turno por parte del ordenador valiéndose del algoritmo Minimax.\n",
    "    \n",
    "    Args:\n",
    "        state (Tablerolinja): Estado del tablero sobre el que se realizará el turno.\n",
    "        player (int): Jugador que llama a Minimax para evaluar la mejor posibilidad de movimientos.\n",
    "        \n",
    "    Returns:\n",
    "        bestMove: Estado al que cambia el tablero después del turno.\n",
    "    '''\n",
    "    matriz=state.getMatrix()\n",
    "    \n",
    "    bestMove = performActionMinMax(Tablerolinja(matriz), player)    \n",
    "    \n",
    "    if isinstance(bestMove, Tablerolinja): state.setMatrix(bestMove.getMatrix())   \n",
    "    elif isinstance(bestMove, list): state.setMatrix(bestMove)\n",
    "\n",
    "    return bestMove"
   ]
  },
  {
   "cell_type": "markdown",
   "id": "086c9a6d",
   "metadata": {},
   "source": [
    "## Estilos\n",
    "Clases para personalizar la salida por pantalla."
   ]
  },
  {
   "cell_type": "code",
   "execution_count": 12,
   "id": "1d7ebf26",
   "metadata": {},
   "outputs": [],
   "source": [
    "class Co:\n",
    "    ''' Clase para almacenar colores de texto. '''\n",
    "    RESET = \"\\033[0m\"\n",
    "    TITL1 = \"\\033[1m\\033[38;5;0m\\033[48;5;156m\"\n",
    "    BLK = \"\\033[1m\\033[38;5;232m\"\n",
    "    BLK2 = \"\\033[1m\\033[38;5;232m\\033[48;5;253m\"\n",
    "    RED = \"\\033[1m\\033[38;5;160m\"\n",
    "    RED2 = \"\\033[1m\\033[38;5;160m\\033[48;5;223m\""
   ]
  },
  {
   "cell_type": "code",
   "execution_count": 13,
   "id": "b88549dd",
   "metadata": {},
   "outputs": [],
   "source": [
    "def imprimirCabecera(ordVsJug: bool):\n",
    "    print(\"╔═════════════════════════════════════════════════════╗\")\n",
    "    print(\"║                                                     ║\")\n",
    "    print(f\"║           {Co.TITL1}--------- JUEGO LINJA ---------{Co.RESET}           ║\")\n",
    "    print(\"║                                                     ║\")\n",
    "    print(f\"║        {Co.BLK}Jugador 1 (Ordenador) -> Fichas negras{Co.RESET}       ║\")\n",
    "    if ordVsJug is True:\n",
    "        print(f\"║            {Co.RED}Jugador 2 (Tú) -> Fichas rojas{Co.RESET}           ║\")\n",
    "    else:\n",
    "        print(f\"║        {Co.RED}Jugador 2 (Ordenador) -> Fichas rojas{Co.RESET}        ║\")\n",
    "    print(\"║                                                     ║\")\n",
    "    print(\"╚═════════════════════════════════════════════════════╝\")\n",
    "    print()"
   ]
  },
  {
   "cell_type": "markdown",
   "id": "f90f1a8a",
   "metadata": {},
   "source": [
    "# JUEGO"
   ]
  },
  {
   "cell_type": "markdown",
   "id": "04930de0",
   "metadata": {},
   "source": [
    "### *Ordenador vs. Ordenador* (Visual)"
   ]
  },
  {
   "cell_type": "code",
   "execution_count": 14,
   "id": "d2c83014",
   "metadata": {
    "scrolled": true
   },
   "outputs": [
    {
     "name": "stdout",
     "output_type": "stream",
     "text": [
      "╔═════════════════════════════════════════════════════╗\n",
      "║                                                     ║\n",
      "║           \u001b[1m\u001b[38;5;0m\u001b[48;5;156m--------- JUEGO LINJA ---------\u001b[0m           ║\n",
      "║                                                     ║\n",
      "║        \u001b[1m\u001b[38;5;232mJugador 1 (Ordenador) -> Fichas negras\u001b[0m       ║\n",
      "║        \u001b[1m\u001b[38;5;160mJugador 2 (Ordenador) -> Fichas rojas\u001b[0m        ║\n",
      "║                                                     ║\n",
      "╚═════════════════════════════════════════════════════╝\n",
      "\n",
      "  >>>>>>> TABLERO INICIAL <<<<<<<  \n"
     ]
    },
    {
     "data": {
      "text/html": [
       "<style> img.game {width: 30px !important; height: 25px !important;}</style><table><tr><td></td><td>0</td><td>1</td><td>2</td><td>3</td><td>4</td><td>5</td></tr><tr><td>0</td><td><img class=\"game\" src=./ImagenesCasillasLinja/CasillaNegra.png alt=\"\"></img></td><td><img class=\"game\" src=./ImagenesCasillasLinja/CasillaNegra.png alt=\"\"></img></td><td><img class=\"game\" src=./ImagenesCasillasLinja/CasillaNegra.png alt=\"\"></img></td><td><img class=\"game\" src=./ImagenesCasillasLinja/CasillaNegra.png alt=\"\"></img></td><td><img class=\"game\" src=./ImagenesCasillasLinja/CasillaNegra.png alt=\"\"></img></td><td><img class=\"game\" src=./ImagenesCasillasLinja/CasillaNegra.png alt=\"\"></img></td></tr><tr><td>1</td><td><img class=\"game\" src=./ImagenesCasillasLinja/CasillaNegra.png alt=\"\"></img></td><td><img class=\"game\" src=./ImagenesCasillasLinja/CasillaVacia.png alt=\"\"></img></td><td><img class=\"game\" src=./ImagenesCasillasLinja/CasillaVacia.png alt=\"\"></img></td><td><img class=\"game\" src=./ImagenesCasillasLinja/CasillaVacia.png alt=\"\"></img></td><td><img class=\"game\" src=./ImagenesCasillasLinja/CasillaVacia.png alt=\"\"></img></td><td><img class=\"game\" src=./ImagenesCasillasLinja/CasillaRoja.png alt=\"\"></img></td></tr><tr><td>2</td><td><img class=\"game\" src=./ImagenesCasillasLinja/CasillaNegra.png alt=\"\"></img></td><td><img class=\"game\" src=./ImagenesCasillasLinja/CasillaVacia.png alt=\"\"></img></td><td><img class=\"game\" src=./ImagenesCasillasLinja/CasillaVacia.png alt=\"\"></img></td><td><img class=\"game\" src=./ImagenesCasillasLinja/CasillaVacia.png alt=\"\"></img></td><td><img class=\"game\" src=./ImagenesCasillasLinja/CasillaVacia.png alt=\"\"></img></td><td><img class=\"game\" src=./ImagenesCasillasLinja/CasillaRoja.png alt=\"\"></img></td></tr><tr><td>3</td><td><img class=\"game\" src=./ImagenesCasillasLinja/CasillaNegra.png alt=\"\"></img></td><td><img class=\"game\" src=./ImagenesCasillasLinja/CasillaVacia.png alt=\"\"></img></td><td><img class=\"game\" src=./ImagenesCasillasLinja/CasillaVacia.png alt=\"\"></img></td><td><img class=\"game\" src=./ImagenesCasillasLinja/CasillaVacia.png alt=\"\"></img></td><td><img class=\"game\" src=./ImagenesCasillasLinja/CasillaVacia.png alt=\"\"></img></td><td><img class=\"game\" src=./ImagenesCasillasLinja/CasillaRoja.png alt=\"\"></img></td></tr><tr><td>4</td><td><img class=\"game\" src=./ImagenesCasillasLinja/CasillaNegra.png alt=\"\"></img></td><td><img class=\"game\" src=./ImagenesCasillasLinja/CasillaVacia.png alt=\"\"></img></td><td><img class=\"game\" src=./ImagenesCasillasLinja/CasillaVacia.png alt=\"\"></img></td><td><img class=\"game\" src=./ImagenesCasillasLinja/CasillaVacia.png alt=\"\"></img></td><td><img class=\"game\" src=./ImagenesCasillasLinja/CasillaVacia.png alt=\"\"></img></td><td><img class=\"game\" src=./ImagenesCasillasLinja/CasillaRoja.png alt=\"\"></img></td></tr><tr><td>5</td><td><img class=\"game\" src=./ImagenesCasillasLinja/CasillaNegra.png alt=\"\"></img></td><td><img class=\"game\" src=./ImagenesCasillasLinja/CasillaVacia.png alt=\"\"></img></td><td><img class=\"game\" src=./ImagenesCasillasLinja/CasillaVacia.png alt=\"\"></img></td><td><img class=\"game\" src=./ImagenesCasillasLinja/CasillaVacia.png alt=\"\"></img></td><td><img class=\"game\" src=./ImagenesCasillasLinja/CasillaVacia.png alt=\"\"></img></td><td><img class=\"game\" src=./ImagenesCasillasLinja/CasillaRoja.png alt=\"\"></img></td></tr><tr><td>6</td><td><img class=\"game\" src=./ImagenesCasillasLinja/CasillaNegra.png alt=\"\"></img></td><td><img class=\"game\" src=./ImagenesCasillasLinja/CasillaVacia.png alt=\"\"></img></td><td><img class=\"game\" src=./ImagenesCasillasLinja/CasillaVacia.png alt=\"\"></img></td><td><img class=\"game\" src=./ImagenesCasillasLinja/CasillaVacia.png alt=\"\"></img></td><td><img class=\"game\" src=./ImagenesCasillasLinja/CasillaVacia.png alt=\"\"></img></td><td><img class=\"game\" src=./ImagenesCasillasLinja/CasillaRoja.png alt=\"\"></img></td></tr><tr><td>7</td><td><img class=\"game\" src=./ImagenesCasillasLinja/CasillaRoja.png alt=\"\"></img></td><td><img class=\"game\" src=./ImagenesCasillasLinja/CasillaRoja.png alt=\"\"></img></td><td><img class=\"game\" src=./ImagenesCasillasLinja/CasillaRoja.png alt=\"\"></img></td><td><img class=\"game\" src=./ImagenesCasillasLinja/CasillaRoja.png alt=\"\"></img></td><td><img class=\"game\" src=./ImagenesCasillasLinja/CasillaRoja.png alt=\"\"></img></td><td><img class=\"game\" src=./ImagenesCasillasLinja/CasillaRoja.png alt=\"\"></img></td></tr></table>"
      ],
      "text/plain": [
       "<IPython.core.display.HTML object>"
      ]
     },
     "metadata": {},
     "output_type": "display_data"
    },
    {
     "name": "stdout",
     "output_type": "stream",
     "text": [
      "\n",
      "\n",
      "\u001b[1m\u001b[38;5;232m\u001b[48;5;253m Jugador 1                         \u001b[0m\n"
     ]
    },
    {
     "data": {
      "text/html": [
       "<style> img.game {width: 30px !important; height: 25px !important;}</style><table><tr><td></td><td>0</td><td>1</td><td>2</td><td>3</td><td>4</td><td>5</td></tr><tr><td>0</td><td><img class=\"game\" src=./ImagenesCasillasLinja/CasillaVacia.png alt=\"\"></img></td><td><img class=\"game\" src=./ImagenesCasillasLinja/CasillaVacia.png alt=\"\"></img></td><td><img class=\"game\" src=./ImagenesCasillasLinja/CasillaNegra.png alt=\"\"></img></td><td><img class=\"game\" src=./ImagenesCasillasLinja/CasillaNegra.png alt=\"\"></img></td><td><img class=\"game\" src=./ImagenesCasillasLinja/CasillaNegra.png alt=\"\"></img></td><td><img class=\"game\" src=./ImagenesCasillasLinja/CasillaNegra.png alt=\"\"></img></td></tr><tr><td>1</td><td><img class=\"game\" src=./ImagenesCasillasLinja/CasillaNegra.png alt=\"\"></img></td><td><img class=\"game\" src=./ImagenesCasillasLinja/CasillaNegra.png alt=\"\"></img></td><td><img class=\"game\" src=./ImagenesCasillasLinja/CasillaVacia.png alt=\"\"></img></td><td><img class=\"game\" src=./ImagenesCasillasLinja/CasillaVacia.png alt=\"\"></img></td><td><img class=\"game\" src=./ImagenesCasillasLinja/CasillaVacia.png alt=\"\"></img></td><td><img class=\"game\" src=./ImagenesCasillasLinja/CasillaRoja.png alt=\"\"></img></td></tr><tr><td>2</td><td><img class=\"game\" src=./ImagenesCasillasLinja/CasillaNegra.png alt=\"\"></img></td><td><img class=\"game\" src=./ImagenesCasillasLinja/CasillaNegra.png alt=\"\"></img></td><td><img class=\"game\" src=./ImagenesCasillasLinja/CasillaVacia.png alt=\"\"></img></td><td><img class=\"game\" src=./ImagenesCasillasLinja/CasillaVacia.png alt=\"\"></img></td><td><img class=\"game\" src=./ImagenesCasillasLinja/CasillaVacia.png alt=\"\"></img></td><td><img class=\"game\" src=./ImagenesCasillasLinja/CasillaRoja.png alt=\"\"></img></td></tr><tr><td>3</td><td><img class=\"game\" src=./ImagenesCasillasLinja/CasillaNegra.png alt=\"\"></img></td><td><img class=\"game\" src=./ImagenesCasillasLinja/CasillaVacia.png alt=\"\"></img></td><td><img class=\"game\" src=./ImagenesCasillasLinja/CasillaVacia.png alt=\"\"></img></td><td><img class=\"game\" src=./ImagenesCasillasLinja/CasillaVacia.png alt=\"\"></img></td><td><img class=\"game\" src=./ImagenesCasillasLinja/CasillaVacia.png alt=\"\"></img></td><td><img class=\"game\" src=./ImagenesCasillasLinja/CasillaRoja.png alt=\"\"></img></td></tr><tr><td>4</td><td><img class=\"game\" src=./ImagenesCasillasLinja/CasillaNegra.png alt=\"\"></img></td><td><img class=\"game\" src=./ImagenesCasillasLinja/CasillaVacia.png alt=\"\"></img></td><td><img class=\"game\" src=./ImagenesCasillasLinja/CasillaVacia.png alt=\"\"></img></td><td><img class=\"game\" src=./ImagenesCasillasLinja/CasillaVacia.png alt=\"\"></img></td><td><img class=\"game\" src=./ImagenesCasillasLinja/CasillaVacia.png alt=\"\"></img></td><td><img class=\"game\" src=./ImagenesCasillasLinja/CasillaRoja.png alt=\"\"></img></td></tr><tr><td>5</td><td><img class=\"game\" src=./ImagenesCasillasLinja/CasillaNegra.png alt=\"\"></img></td><td><img class=\"game\" src=./ImagenesCasillasLinja/CasillaVacia.png alt=\"\"></img></td><td><img class=\"game\" src=./ImagenesCasillasLinja/CasillaVacia.png alt=\"\"></img></td><td><img class=\"game\" src=./ImagenesCasillasLinja/CasillaVacia.png alt=\"\"></img></td><td><img class=\"game\" src=./ImagenesCasillasLinja/CasillaVacia.png alt=\"\"></img></td><td><img class=\"game\" src=./ImagenesCasillasLinja/CasillaRoja.png alt=\"\"></img></td></tr><tr><td>6</td><td><img class=\"game\" src=./ImagenesCasillasLinja/CasillaNegra.png alt=\"\"></img></td><td><img class=\"game\" src=./ImagenesCasillasLinja/CasillaVacia.png alt=\"\"></img></td><td><img class=\"game\" src=./ImagenesCasillasLinja/CasillaVacia.png alt=\"\"></img></td><td><img class=\"game\" src=./ImagenesCasillasLinja/CasillaVacia.png alt=\"\"></img></td><td><img class=\"game\" src=./ImagenesCasillasLinja/CasillaVacia.png alt=\"\"></img></td><td><img class=\"game\" src=./ImagenesCasillasLinja/CasillaRoja.png alt=\"\"></img></td></tr><tr><td>7</td><td><img class=\"game\" src=./ImagenesCasillasLinja/CasillaRoja.png alt=\"\"></img></td><td><img class=\"game\" src=./ImagenesCasillasLinja/CasillaRoja.png alt=\"\"></img></td><td><img class=\"game\" src=./ImagenesCasillasLinja/CasillaRoja.png alt=\"\"></img></td><td><img class=\"game\" src=./ImagenesCasillasLinja/CasillaRoja.png alt=\"\"></img></td><td><img class=\"game\" src=./ImagenesCasillasLinja/CasillaRoja.png alt=\"\"></img></td><td><img class=\"game\" src=./ImagenesCasillasLinja/CasillaRoja.png alt=\"\"></img></td></tr></table>"
      ],
      "text/plain": [
       "<IPython.core.display.HTML object>"
      ]
     },
     "metadata": {},
     "output_type": "display_data"
    },
    {
     "name": "stdout",
     "output_type": "stream",
     "text": [
      "\n",
      "\n",
      "\u001b[1m\u001b[38;5;160m\u001b[48;5;223m                         Jugador 2 \u001b[0m\n"
     ]
    },
    {
     "data": {
      "text/html": [
       "<style> img.game {width: 30px !important; height: 25px !important;}</style><table><tr><td></td><td>0</td><td>1</td><td>2</td><td>3</td><td>4</td><td>5</td></tr><tr><td>0</td><td><img class=\"game\" src=./ImagenesCasillasLinja/CasillaRoja.png alt=\"\"></img></td><td><img class=\"game\" src=./ImagenesCasillasLinja/CasillaVacia.png alt=\"\"></img></td><td><img class=\"game\" src=./ImagenesCasillasLinja/CasillaNegra.png alt=\"\"></img></td><td><img class=\"game\" src=./ImagenesCasillasLinja/CasillaNegra.png alt=\"\"></img></td><td><img class=\"game\" src=./ImagenesCasillasLinja/CasillaNegra.png alt=\"\"></img></td><td><img class=\"game\" src=./ImagenesCasillasLinja/CasillaNegra.png alt=\"\"></img></td></tr><tr><td>1</td><td><img class=\"game\" src=./ImagenesCasillasLinja/CasillaNegra.png alt=\"\"></img></td><td><img class=\"game\" src=./ImagenesCasillasLinja/CasillaNegra.png alt=\"\"></img></td><td><img class=\"game\" src=./ImagenesCasillasLinja/CasillaRoja.png alt=\"\"></img></td><td><img class=\"game\" src=./ImagenesCasillasLinja/CasillaVacia.png alt=\"\"></img></td><td><img class=\"game\" src=./ImagenesCasillasLinja/CasillaVacia.png alt=\"\"></img></td><td><img class=\"game\" src=./ImagenesCasillasLinja/CasillaRoja.png alt=\"\"></img></td></tr><tr><td>2</td><td><img class=\"game\" src=./ImagenesCasillasLinja/CasillaNegra.png alt=\"\"></img></td><td><img class=\"game\" src=./ImagenesCasillasLinja/CasillaNegra.png alt=\"\"></img></td><td><img class=\"game\" src=./ImagenesCasillasLinja/CasillaVacia.png alt=\"\"></img></td><td><img class=\"game\" src=./ImagenesCasillasLinja/CasillaVacia.png alt=\"\"></img></td><td><img class=\"game\" src=./ImagenesCasillasLinja/CasillaVacia.png alt=\"\"></img></td><td><img class=\"game\" src=./ImagenesCasillasLinja/CasillaVacia.png alt=\"\"></img></td></tr><tr><td>3</td><td><img class=\"game\" src=./ImagenesCasillasLinja/CasillaNegra.png alt=\"\"></img></td><td><img class=\"game\" src=./ImagenesCasillasLinja/CasillaVacia.png alt=\"\"></img></td><td><img class=\"game\" src=./ImagenesCasillasLinja/CasillaVacia.png alt=\"\"></img></td><td><img class=\"game\" src=./ImagenesCasillasLinja/CasillaVacia.png alt=\"\"></img></td><td><img class=\"game\" src=./ImagenesCasillasLinja/CasillaVacia.png alt=\"\"></img></td><td><img class=\"game\" src=./ImagenesCasillasLinja/CasillaVacia.png alt=\"\"></img></td></tr><tr><td>4</td><td><img class=\"game\" src=./ImagenesCasillasLinja/CasillaNegra.png alt=\"\"></img></td><td><img class=\"game\" src=./ImagenesCasillasLinja/CasillaVacia.png alt=\"\"></img></td><td><img class=\"game\" src=./ImagenesCasillasLinja/CasillaVacia.png alt=\"\"></img></td><td><img class=\"game\" src=./ImagenesCasillasLinja/CasillaVacia.png alt=\"\"></img></td><td><img class=\"game\" src=./ImagenesCasillasLinja/CasillaVacia.png alt=\"\"></img></td><td><img class=\"game\" src=./ImagenesCasillasLinja/CasillaRoja.png alt=\"\"></img></td></tr><tr><td>5</td><td><img class=\"game\" src=./ImagenesCasillasLinja/CasillaNegra.png alt=\"\"></img></td><td><img class=\"game\" src=./ImagenesCasillasLinja/CasillaVacia.png alt=\"\"></img></td><td><img class=\"game\" src=./ImagenesCasillasLinja/CasillaVacia.png alt=\"\"></img></td><td><img class=\"game\" src=./ImagenesCasillasLinja/CasillaVacia.png alt=\"\"></img></td><td><img class=\"game\" src=./ImagenesCasillasLinja/CasillaVacia.png alt=\"\"></img></td><td><img class=\"game\" src=./ImagenesCasillasLinja/CasillaRoja.png alt=\"\"></img></td></tr><tr><td>6</td><td><img class=\"game\" src=./ImagenesCasillasLinja/CasillaNegra.png alt=\"\"></img></td><td><img class=\"game\" src=./ImagenesCasillasLinja/CasillaVacia.png alt=\"\"></img></td><td><img class=\"game\" src=./ImagenesCasillasLinja/CasillaVacia.png alt=\"\"></img></td><td><img class=\"game\" src=./ImagenesCasillasLinja/CasillaVacia.png alt=\"\"></img></td><td><img class=\"game\" src=./ImagenesCasillasLinja/CasillaVacia.png alt=\"\"></img></td><td><img class=\"game\" src=./ImagenesCasillasLinja/CasillaRoja.png alt=\"\"></img></td></tr><tr><td>7</td><td><img class=\"game\" src=./ImagenesCasillasLinja/CasillaRoja.png alt=\"\"></img></td><td><img class=\"game\" src=./ImagenesCasillasLinja/CasillaRoja.png alt=\"\"></img></td><td><img class=\"game\" src=./ImagenesCasillasLinja/CasillaRoja.png alt=\"\"></img></td><td><img class=\"game\" src=./ImagenesCasillasLinja/CasillaRoja.png alt=\"\"></img></td><td><img class=\"game\" src=./ImagenesCasillasLinja/CasillaRoja.png alt=\"\"></img></td><td><img class=\"game\" src=./ImagenesCasillasLinja/CasillaRoja.png alt=\"\"></img></td></tr></table>"
      ],
      "text/plain": [
       "<IPython.core.display.HTML object>"
      ]
     },
     "metadata": {},
     "output_type": "display_data"
    },
    {
     "name": "stdout",
     "output_type": "stream",
     "text": [
      "\n",
      "\n",
      "\u001b[1m\u001b[38;5;232m\u001b[48;5;253m Jugador 1                         \u001b[0m\n"
     ]
    },
    {
     "data": {
      "text/html": [
       "<style> img.game {width: 30px !important; height: 25px !important;}</style><table><tr><td></td><td>0</td><td>1</td><td>2</td><td>3</td><td>4</td><td>5</td></tr><tr><td>0</td><td><img class=\"game\" src=./ImagenesCasillasLinja/CasillaRoja.png alt=\"\"></img></td><td><img class=\"game\" src=./ImagenesCasillasLinja/CasillaVacia.png alt=\"\"></img></td><td><img class=\"game\" src=./ImagenesCasillasLinja/CasillaVacia.png alt=\"\"></img></td><td><img class=\"game\" src=./ImagenesCasillasLinja/CasillaVacia.png alt=\"\"></img></td><td><img class=\"game\" src=./ImagenesCasillasLinja/CasillaNegra.png alt=\"\"></img></td><td><img class=\"game\" src=./ImagenesCasillasLinja/CasillaNegra.png alt=\"\"></img></td></tr><tr><td>1</td><td><img class=\"game\" src=./ImagenesCasillasLinja/CasillaNegra.png alt=\"\"></img></td><td><img class=\"game\" src=./ImagenesCasillasLinja/CasillaNegra.png alt=\"\"></img></td><td><img class=\"game\" src=./ImagenesCasillasLinja/CasillaRoja.png alt=\"\"></img></td><td><img class=\"game\" src=./ImagenesCasillasLinja/CasillaNegra.png alt=\"\"></img></td><td><img class=\"game\" src=./ImagenesCasillasLinja/CasillaVacia.png alt=\"\"></img></td><td><img class=\"game\" src=./ImagenesCasillasLinja/CasillaRoja.png alt=\"\"></img></td></tr><tr><td>2</td><td><img class=\"game\" src=./ImagenesCasillasLinja/CasillaNegra.png alt=\"\"></img></td><td><img class=\"game\" src=./ImagenesCasillasLinja/CasillaNegra.png alt=\"\"></img></td><td><img class=\"game\" src=./ImagenesCasillasLinja/CasillaVacia.png alt=\"\"></img></td><td><img class=\"game\" src=./ImagenesCasillasLinja/CasillaVacia.png alt=\"\"></img></td><td><img class=\"game\" src=./ImagenesCasillasLinja/CasillaVacia.png alt=\"\"></img></td><td><img class=\"game\" src=./ImagenesCasillasLinja/CasillaVacia.png alt=\"\"></img></td></tr><tr><td>3</td><td><img class=\"game\" src=./ImagenesCasillasLinja/CasillaNegra.png alt=\"\"></img></td><td><img class=\"game\" src=./ImagenesCasillasLinja/CasillaVacia.png alt=\"\"></img></td><td><img class=\"game\" src=./ImagenesCasillasLinja/CasillaVacia.png alt=\"\"></img></td><td><img class=\"game\" src=./ImagenesCasillasLinja/CasillaVacia.png alt=\"\"></img></td><td><img class=\"game\" src=./ImagenesCasillasLinja/CasillaVacia.png alt=\"\"></img></td><td><img class=\"game\" src=./ImagenesCasillasLinja/CasillaVacia.png alt=\"\"></img></td></tr><tr><td>4</td><td><img class=\"game\" src=./ImagenesCasillasLinja/CasillaNegra.png alt=\"\"></img></td><td><img class=\"game\" src=./ImagenesCasillasLinja/CasillaNegra.png alt=\"\"></img></td><td><img class=\"game\" src=./ImagenesCasillasLinja/CasillaVacia.png alt=\"\"></img></td><td><img class=\"game\" src=./ImagenesCasillasLinja/CasillaVacia.png alt=\"\"></img></td><td><img class=\"game\" src=./ImagenesCasillasLinja/CasillaVacia.png alt=\"\"></img></td><td><img class=\"game\" src=./ImagenesCasillasLinja/CasillaRoja.png alt=\"\"></img></td></tr><tr><td>5</td><td><img class=\"game\" src=./ImagenesCasillasLinja/CasillaNegra.png alt=\"\"></img></td><td><img class=\"game\" src=./ImagenesCasillasLinja/CasillaVacia.png alt=\"\"></img></td><td><img class=\"game\" src=./ImagenesCasillasLinja/CasillaVacia.png alt=\"\"></img></td><td><img class=\"game\" src=./ImagenesCasillasLinja/CasillaVacia.png alt=\"\"></img></td><td><img class=\"game\" src=./ImagenesCasillasLinja/CasillaVacia.png alt=\"\"></img></td><td><img class=\"game\" src=./ImagenesCasillasLinja/CasillaRoja.png alt=\"\"></img></td></tr><tr><td>6</td><td><img class=\"game\" src=./ImagenesCasillasLinja/CasillaNegra.png alt=\"\"></img></td><td><img class=\"game\" src=./ImagenesCasillasLinja/CasillaVacia.png alt=\"\"></img></td><td><img class=\"game\" src=./ImagenesCasillasLinja/CasillaVacia.png alt=\"\"></img></td><td><img class=\"game\" src=./ImagenesCasillasLinja/CasillaVacia.png alt=\"\"></img></td><td><img class=\"game\" src=./ImagenesCasillasLinja/CasillaVacia.png alt=\"\"></img></td><td><img class=\"game\" src=./ImagenesCasillasLinja/CasillaRoja.png alt=\"\"></img></td></tr><tr><td>7</td><td><img class=\"game\" src=./ImagenesCasillasLinja/CasillaRoja.png alt=\"\"></img></td><td><img class=\"game\" src=./ImagenesCasillasLinja/CasillaRoja.png alt=\"\"></img></td><td><img class=\"game\" src=./ImagenesCasillasLinja/CasillaRoja.png alt=\"\"></img></td><td><img class=\"game\" src=./ImagenesCasillasLinja/CasillaRoja.png alt=\"\"></img></td><td><img class=\"game\" src=./ImagenesCasillasLinja/CasillaRoja.png alt=\"\"></img></td><td><img class=\"game\" src=./ImagenesCasillasLinja/CasillaRoja.png alt=\"\"></img></td></tr></table>"
      ],
      "text/plain": [
       "<IPython.core.display.HTML object>"
      ]
     },
     "metadata": {},
     "output_type": "display_data"
    },
    {
     "name": "stdout",
     "output_type": "stream",
     "text": [
      "\n",
      "\n",
      "\u001b[1m\u001b[38;5;160m\u001b[48;5;223m                         Jugador 2 \u001b[0m\n"
     ]
    },
    {
     "data": {
      "text/html": [
       "<style> img.game {width: 30px !important; height: 25px !important;}</style><table><tr><td></td><td>0</td><td>1</td><td>2</td><td>3</td><td>4</td><td>5</td></tr><tr><td>0</td><td><img class=\"game\" src=./ImagenesCasillasLinja/CasillaRoja.png alt=\"\"></img></td><td><img class=\"game\" src=./ImagenesCasillasLinja/CasillaRoja.png alt=\"\"></img></td><td><img class=\"game\" src=./ImagenesCasillasLinja/CasillaRoja.png alt=\"\"></img></td><td><img class=\"game\" src=./ImagenesCasillasLinja/CasillaVacia.png alt=\"\"></img></td><td><img class=\"game\" src=./ImagenesCasillasLinja/CasillaNegra.png alt=\"\"></img></td><td><img class=\"game\" src=./ImagenesCasillasLinja/CasillaNegra.png alt=\"\"></img></td></tr><tr><td>1</td><td><img class=\"game\" src=./ImagenesCasillasLinja/CasillaNegra.png alt=\"\"></img></td><td><img class=\"game\" src=./ImagenesCasillasLinja/CasillaNegra.png alt=\"\"></img></td><td><img class=\"game\" src=./ImagenesCasillasLinja/CasillaVacia.png alt=\"\"></img></td><td><img class=\"game\" src=./ImagenesCasillasLinja/CasillaNegra.png alt=\"\"></img></td><td><img class=\"game\" src=./ImagenesCasillasLinja/CasillaVacia.png alt=\"\"></img></td><td><img class=\"game\" src=./ImagenesCasillasLinja/CasillaVacia.png alt=\"\"></img></td></tr><tr><td>2</td><td><img class=\"game\" src=./ImagenesCasillasLinja/CasillaNegra.png alt=\"\"></img></td><td><img class=\"game\" src=./ImagenesCasillasLinja/CasillaNegra.png alt=\"\"></img></td><td><img class=\"game\" src=./ImagenesCasillasLinja/CasillaVacia.png alt=\"\"></img></td><td><img class=\"game\" src=./ImagenesCasillasLinja/CasillaVacia.png alt=\"\"></img></td><td><img class=\"game\" src=./ImagenesCasillasLinja/CasillaVacia.png alt=\"\"></img></td><td><img class=\"game\" src=./ImagenesCasillasLinja/CasillaVacia.png alt=\"\"></img></td></tr><tr><td>3</td><td><img class=\"game\" src=./ImagenesCasillasLinja/CasillaNegra.png alt=\"\"></img></td><td><img class=\"game\" src=./ImagenesCasillasLinja/CasillaVacia.png alt=\"\"></img></td><td><img class=\"game\" src=./ImagenesCasillasLinja/CasillaVacia.png alt=\"\"></img></td><td><img class=\"game\" src=./ImagenesCasillasLinja/CasillaVacia.png alt=\"\"></img></td><td><img class=\"game\" src=./ImagenesCasillasLinja/CasillaVacia.png alt=\"\"></img></td><td><img class=\"game\" src=./ImagenesCasillasLinja/CasillaVacia.png alt=\"\"></img></td></tr><tr><td>4</td><td><img class=\"game\" src=./ImagenesCasillasLinja/CasillaNegra.png alt=\"\"></img></td><td><img class=\"game\" src=./ImagenesCasillasLinja/CasillaNegra.png alt=\"\"></img></td><td><img class=\"game\" src=./ImagenesCasillasLinja/CasillaVacia.png alt=\"\"></img></td><td><img class=\"game\" src=./ImagenesCasillasLinja/CasillaVacia.png alt=\"\"></img></td><td><img class=\"game\" src=./ImagenesCasillasLinja/CasillaVacia.png alt=\"\"></img></td><td><img class=\"game\" src=./ImagenesCasillasLinja/CasillaRoja.png alt=\"\"></img></td></tr><tr><td>5</td><td><img class=\"game\" src=./ImagenesCasillasLinja/CasillaNegra.png alt=\"\"></img></td><td><img class=\"game\" src=./ImagenesCasillasLinja/CasillaVacia.png alt=\"\"></img></td><td><img class=\"game\" src=./ImagenesCasillasLinja/CasillaVacia.png alt=\"\"></img></td><td><img class=\"game\" src=./ImagenesCasillasLinja/CasillaVacia.png alt=\"\"></img></td><td><img class=\"game\" src=./ImagenesCasillasLinja/CasillaVacia.png alt=\"\"></img></td><td><img class=\"game\" src=./ImagenesCasillasLinja/CasillaRoja.png alt=\"\"></img></td></tr><tr><td>6</td><td><img class=\"game\" src=./ImagenesCasillasLinja/CasillaNegra.png alt=\"\"></img></td><td><img class=\"game\" src=./ImagenesCasillasLinja/CasillaVacia.png alt=\"\"></img></td><td><img class=\"game\" src=./ImagenesCasillasLinja/CasillaVacia.png alt=\"\"></img></td><td><img class=\"game\" src=./ImagenesCasillasLinja/CasillaVacia.png alt=\"\"></img></td><td><img class=\"game\" src=./ImagenesCasillasLinja/CasillaVacia.png alt=\"\"></img></td><td><img class=\"game\" src=./ImagenesCasillasLinja/CasillaRoja.png alt=\"\"></img></td></tr><tr><td>7</td><td><img class=\"game\" src=./ImagenesCasillasLinja/CasillaRoja.png alt=\"\"></img></td><td><img class=\"game\" src=./ImagenesCasillasLinja/CasillaRoja.png alt=\"\"></img></td><td><img class=\"game\" src=./ImagenesCasillasLinja/CasillaRoja.png alt=\"\"></img></td><td><img class=\"game\" src=./ImagenesCasillasLinja/CasillaRoja.png alt=\"\"></img></td><td><img class=\"game\" src=./ImagenesCasillasLinja/CasillaRoja.png alt=\"\"></img></td><td><img class=\"game\" src=./ImagenesCasillasLinja/CasillaRoja.png alt=\"\"></img></td></tr></table>"
      ],
      "text/plain": [
       "<IPython.core.display.HTML object>"
      ]
     },
     "metadata": {},
     "output_type": "display_data"
    },
    {
     "name": "stdout",
     "output_type": "stream",
     "text": [
      "\n",
      "\n",
      "\u001b[1m\u001b[38;5;232m\u001b[48;5;253m Jugador 1                         \u001b[0m\n"
     ]
    },
    {
     "data": {
      "text/html": [
       "<style> img.game {width: 30px !important; height: 25px !important;}</style><table><tr><td></td><td>0</td><td>1</td><td>2</td><td>3</td><td>4</td><td>5</td></tr><tr><td>0</td><td><img class=\"game\" src=./ImagenesCasillasLinja/CasillaRoja.png alt=\"\"></img></td><td><img class=\"game\" src=./ImagenesCasillasLinja/CasillaRoja.png alt=\"\"></img></td><td><img class=\"game\" src=./ImagenesCasillasLinja/CasillaRoja.png alt=\"\"></img></td><td><img class=\"game\" src=./ImagenesCasillasLinja/CasillaVacia.png alt=\"\"></img></td><td><img class=\"game\" src=./ImagenesCasillasLinja/CasillaVacia.png alt=\"\"></img></td><td><img class=\"game\" src=./ImagenesCasillasLinja/CasillaVacia.png alt=\"\"></img></td></tr><tr><td>1</td><td><img class=\"game\" src=./ImagenesCasillasLinja/CasillaNegra.png alt=\"\"></img></td><td><img class=\"game\" src=./ImagenesCasillasLinja/CasillaNegra.png alt=\"\"></img></td><td><img class=\"game\" src=./ImagenesCasillasLinja/CasillaNegra.png alt=\"\"></img></td><td><img class=\"game\" src=./ImagenesCasillasLinja/CasillaNegra.png alt=\"\"></img></td><td><img class=\"game\" src=./ImagenesCasillasLinja/CasillaVacia.png alt=\"\"></img></td><td><img class=\"game\" src=./ImagenesCasillasLinja/CasillaVacia.png alt=\"\"></img></td></tr><tr><td>2</td><td><img class=\"game\" src=./ImagenesCasillasLinja/CasillaNegra.png alt=\"\"></img></td><td><img class=\"game\" src=./ImagenesCasillasLinja/CasillaNegra.png alt=\"\"></img></td><td><img class=\"game\" src=./ImagenesCasillasLinja/CasillaVacia.png alt=\"\"></img></td><td><img class=\"game\" src=./ImagenesCasillasLinja/CasillaVacia.png alt=\"\"></img></td><td><img class=\"game\" src=./ImagenesCasillasLinja/CasillaVacia.png alt=\"\"></img></td><td><img class=\"game\" src=./ImagenesCasillasLinja/CasillaVacia.png alt=\"\"></img></td></tr><tr><td>3</td><td><img class=\"game\" src=./ImagenesCasillasLinja/CasillaNegra.png alt=\"\"></img></td><td><img class=\"game\" src=./ImagenesCasillasLinja/CasillaNegra.png alt=\"\"></img></td><td><img class=\"game\" src=./ImagenesCasillasLinja/CasillaVacia.png alt=\"\"></img></td><td><img class=\"game\" src=./ImagenesCasillasLinja/CasillaVacia.png alt=\"\"></img></td><td><img class=\"game\" src=./ImagenesCasillasLinja/CasillaVacia.png alt=\"\"></img></td><td><img class=\"game\" src=./ImagenesCasillasLinja/CasillaVacia.png alt=\"\"></img></td></tr><tr><td>4</td><td><img class=\"game\" src=./ImagenesCasillasLinja/CasillaNegra.png alt=\"\"></img></td><td><img class=\"game\" src=./ImagenesCasillasLinja/CasillaNegra.png alt=\"\"></img></td><td><img class=\"game\" src=./ImagenesCasillasLinja/CasillaVacia.png alt=\"\"></img></td><td><img class=\"game\" src=./ImagenesCasillasLinja/CasillaVacia.png alt=\"\"></img></td><td><img class=\"game\" src=./ImagenesCasillasLinja/CasillaVacia.png alt=\"\"></img></td><td><img class=\"game\" src=./ImagenesCasillasLinja/CasillaRoja.png alt=\"\"></img></td></tr><tr><td>5</td><td><img class=\"game\" src=./ImagenesCasillasLinja/CasillaNegra.png alt=\"\"></img></td><td><img class=\"game\" src=./ImagenesCasillasLinja/CasillaVacia.png alt=\"\"></img></td><td><img class=\"game\" src=./ImagenesCasillasLinja/CasillaVacia.png alt=\"\"></img></td><td><img class=\"game\" src=./ImagenesCasillasLinja/CasillaVacia.png alt=\"\"></img></td><td><img class=\"game\" src=./ImagenesCasillasLinja/CasillaVacia.png alt=\"\"></img></td><td><img class=\"game\" src=./ImagenesCasillasLinja/CasillaRoja.png alt=\"\"></img></td></tr><tr><td>6</td><td><img class=\"game\" src=./ImagenesCasillasLinja/CasillaNegra.png alt=\"\"></img></td><td><img class=\"game\" src=./ImagenesCasillasLinja/CasillaVacia.png alt=\"\"></img></td><td><img class=\"game\" src=./ImagenesCasillasLinja/CasillaVacia.png alt=\"\"></img></td><td><img class=\"game\" src=./ImagenesCasillasLinja/CasillaVacia.png alt=\"\"></img></td><td><img class=\"game\" src=./ImagenesCasillasLinja/CasillaVacia.png alt=\"\"></img></td><td><img class=\"game\" src=./ImagenesCasillasLinja/CasillaRoja.png alt=\"\"></img></td></tr><tr><td>7</td><td><img class=\"game\" src=./ImagenesCasillasLinja/CasillaRoja.png alt=\"\"></img></td><td><img class=\"game\" src=./ImagenesCasillasLinja/CasillaRoja.png alt=\"\"></img></td><td><img class=\"game\" src=./ImagenesCasillasLinja/CasillaRoja.png alt=\"\"></img></td><td><img class=\"game\" src=./ImagenesCasillasLinja/CasillaRoja.png alt=\"\"></img></td><td><img class=\"game\" src=./ImagenesCasillasLinja/CasillaRoja.png alt=\"\"></img></td><td><img class=\"game\" src=./ImagenesCasillasLinja/CasillaRoja.png alt=\"\"></img></td></tr></table>"
      ],
      "text/plain": [
       "<IPython.core.display.HTML object>"
      ]
     },
     "metadata": {},
     "output_type": "display_data"
    },
    {
     "name": "stdout",
     "output_type": "stream",
     "text": [
      "\n",
      "\n",
      "\u001b[1m\u001b[38;5;160m\u001b[48;5;223m                         Jugador 2 \u001b[0m\n"
     ]
    },
    {
     "data": {
      "text/html": [
       "<style> img.game {width: 30px !important; height: 25px !important;}</style><table><tr><td></td><td>0</td><td>1</td><td>2</td><td>3</td><td>4</td><td>5</td></tr><tr><td>0</td><td><img class=\"game\" src=./ImagenesCasillasLinja/CasillaRoja.png alt=\"\"></img></td><td><img class=\"game\" src=./ImagenesCasillasLinja/CasillaRoja.png alt=\"\"></img></td><td><img class=\"game\" src=./ImagenesCasillasLinja/CasillaRoja.png alt=\"\"></img></td><td><img class=\"game\" src=./ImagenesCasillasLinja/CasillaVacia.png alt=\"\"></img></td><td><img class=\"game\" src=./ImagenesCasillasLinja/CasillaVacia.png alt=\"\"></img></td><td><img class=\"game\" src=./ImagenesCasillasLinja/CasillaVacia.png alt=\"\"></img></td></tr><tr><td>1</td><td><img class=\"game\" src=./ImagenesCasillasLinja/CasillaNegra.png alt=\"\"></img></td><td><img class=\"game\" src=./ImagenesCasillasLinja/CasillaNegra.png alt=\"\"></img></td><td><img class=\"game\" src=./ImagenesCasillasLinja/CasillaNegra.png alt=\"\"></img></td><td><img class=\"game\" src=./ImagenesCasillasLinja/CasillaNegra.png alt=\"\"></img></td><td><img class=\"game\" src=./ImagenesCasillasLinja/CasillaRoja.png alt=\"\"></img></td><td><img class=\"game\" src=./ImagenesCasillasLinja/CasillaVacia.png alt=\"\"></img></td></tr><tr><td>2</td><td><img class=\"game\" src=./ImagenesCasillasLinja/CasillaNegra.png alt=\"\"></img></td><td><img class=\"game\" src=./ImagenesCasillasLinja/CasillaNegra.png alt=\"\"></img></td><td><img class=\"game\" src=./ImagenesCasillasLinja/CasillaVacia.png alt=\"\"></img></td><td><img class=\"game\" src=./ImagenesCasillasLinja/CasillaVacia.png alt=\"\"></img></td><td><img class=\"game\" src=./ImagenesCasillasLinja/CasillaVacia.png alt=\"\"></img></td><td><img class=\"game\" src=./ImagenesCasillasLinja/CasillaVacia.png alt=\"\"></img></td></tr><tr><td>3</td><td><img class=\"game\" src=./ImagenesCasillasLinja/CasillaNegra.png alt=\"\"></img></td><td><img class=\"game\" src=./ImagenesCasillasLinja/CasillaNegra.png alt=\"\"></img></td><td><img class=\"game\" src=./ImagenesCasillasLinja/CasillaVacia.png alt=\"\"></img></td><td><img class=\"game\" src=./ImagenesCasillasLinja/CasillaVacia.png alt=\"\"></img></td><td><img class=\"game\" src=./ImagenesCasillasLinja/CasillaVacia.png alt=\"\"></img></td><td><img class=\"game\" src=./ImagenesCasillasLinja/CasillaVacia.png alt=\"\"></img></td></tr><tr><td>4</td><td><img class=\"game\" src=./ImagenesCasillasLinja/CasillaNegra.png alt=\"\"></img></td><td><img class=\"game\" src=./ImagenesCasillasLinja/CasillaNegra.png alt=\"\"></img></td><td><img class=\"game\" src=./ImagenesCasillasLinja/CasillaVacia.png alt=\"\"></img></td><td><img class=\"game\" src=./ImagenesCasillasLinja/CasillaVacia.png alt=\"\"></img></td><td><img class=\"game\" src=./ImagenesCasillasLinja/CasillaVacia.png alt=\"\"></img></td><td><img class=\"game\" src=./ImagenesCasillasLinja/CasillaVacia.png alt=\"\"></img></td></tr><tr><td>5</td><td><img class=\"game\" src=./ImagenesCasillasLinja/CasillaNegra.png alt=\"\"></img></td><td><img class=\"game\" src=./ImagenesCasillasLinja/CasillaVacia.png alt=\"\"></img></td><td><img class=\"game\" src=./ImagenesCasillasLinja/CasillaVacia.png alt=\"\"></img></td><td><img class=\"game\" src=./ImagenesCasillasLinja/CasillaVacia.png alt=\"\"></img></td><td><img class=\"game\" src=./ImagenesCasillasLinja/CasillaVacia.png alt=\"\"></img></td><td><img class=\"game\" src=./ImagenesCasillasLinja/CasillaRoja.png alt=\"\"></img></td></tr><tr><td>6</td><td><img class=\"game\" src=./ImagenesCasillasLinja/CasillaNegra.png alt=\"\"></img></td><td><img class=\"game\" src=./ImagenesCasillasLinja/CasillaVacia.png alt=\"\"></img></td><td><img class=\"game\" src=./ImagenesCasillasLinja/CasillaVacia.png alt=\"\"></img></td><td><img class=\"game\" src=./ImagenesCasillasLinja/CasillaVacia.png alt=\"\"></img></td><td><img class=\"game\" src=./ImagenesCasillasLinja/CasillaVacia.png alt=\"\"></img></td><td><img class=\"game\" src=./ImagenesCasillasLinja/CasillaRoja.png alt=\"\"></img></td></tr><tr><td>7</td><td><img class=\"game\" src=./ImagenesCasillasLinja/CasillaRoja.png alt=\"\"></img></td><td><img class=\"game\" src=./ImagenesCasillasLinja/CasillaRoja.png alt=\"\"></img></td><td><img class=\"game\" src=./ImagenesCasillasLinja/CasillaRoja.png alt=\"\"></img></td><td><img class=\"game\" src=./ImagenesCasillasLinja/CasillaRoja.png alt=\"\"></img></td><td><img class=\"game\" src=./ImagenesCasillasLinja/CasillaRoja.png alt=\"\"></img></td><td><img class=\"game\" src=./ImagenesCasillasLinja/CasillaRoja.png alt=\"\"></img></td></tr></table>"
      ],
      "text/plain": [
       "<IPython.core.display.HTML object>"
      ]
     },
     "metadata": {},
     "output_type": "display_data"
    },
    {
     "name": "stdout",
     "output_type": "stream",
     "text": [
      "\n",
      "\n",
      "\u001b[1m\u001b[38;5;232m\u001b[48;5;253m Jugador 1                         \u001b[0m\n"
     ]
    },
    {
     "data": {
      "text/html": [
       "<style> img.game {width: 30px !important; height: 25px !important;}</style><table><tr><td></td><td>0</td><td>1</td><td>2</td><td>3</td><td>4</td><td>5</td></tr><tr><td>0</td><td><img class=\"game\" src=./ImagenesCasillasLinja/CasillaRoja.png alt=\"\"></img></td><td><img class=\"game\" src=./ImagenesCasillasLinja/CasillaRoja.png alt=\"\"></img></td><td><img class=\"game\" src=./ImagenesCasillasLinja/CasillaRoja.png alt=\"\"></img></td><td><img class=\"game\" src=./ImagenesCasillasLinja/CasillaVacia.png alt=\"\"></img></td><td><img class=\"game\" src=./ImagenesCasillasLinja/CasillaVacia.png alt=\"\"></img></td><td><img class=\"game\" src=./ImagenesCasillasLinja/CasillaVacia.png alt=\"\"></img></td></tr><tr><td>1</td><td><img class=\"game\" src=./ImagenesCasillasLinja/CasillaVacia.png alt=\"\"></img></td><td><img class=\"game\" src=./ImagenesCasillasLinja/CasillaVacia.png alt=\"\"></img></td><td><img class=\"game\" src=./ImagenesCasillasLinja/CasillaNegra.png alt=\"\"></img></td><td><img class=\"game\" src=./ImagenesCasillasLinja/CasillaNegra.png alt=\"\"></img></td><td><img class=\"game\" src=./ImagenesCasillasLinja/CasillaRoja.png alt=\"\"></img></td><td><img class=\"game\" src=./ImagenesCasillasLinja/CasillaVacia.png alt=\"\"></img></td></tr><tr><td>2</td><td><img class=\"game\" src=./ImagenesCasillasLinja/CasillaNegra.png alt=\"\"></img></td><td><img class=\"game\" src=./ImagenesCasillasLinja/CasillaNegra.png alt=\"\"></img></td><td><img class=\"game\" src=./ImagenesCasillasLinja/CasillaNegra.png alt=\"\"></img></td><td><img class=\"game\" src=./ImagenesCasillasLinja/CasillaVacia.png alt=\"\"></img></td><td><img class=\"game\" src=./ImagenesCasillasLinja/CasillaVacia.png alt=\"\"></img></td><td><img class=\"game\" src=./ImagenesCasillasLinja/CasillaVacia.png alt=\"\"></img></td></tr><tr><td>3</td><td><img class=\"game\" src=./ImagenesCasillasLinja/CasillaNegra.png alt=\"\"></img></td><td><img class=\"game\" src=./ImagenesCasillasLinja/CasillaNegra.png alt=\"\"></img></td><td><img class=\"game\" src=./ImagenesCasillasLinja/CasillaNegra.png alt=\"\"></img></td><td><img class=\"game\" src=./ImagenesCasillasLinja/CasillaVacia.png alt=\"\"></img></td><td><img class=\"game\" src=./ImagenesCasillasLinja/CasillaVacia.png alt=\"\"></img></td><td><img class=\"game\" src=./ImagenesCasillasLinja/CasillaVacia.png alt=\"\"></img></td></tr><tr><td>4</td><td><img class=\"game\" src=./ImagenesCasillasLinja/CasillaNegra.png alt=\"\"></img></td><td><img class=\"game\" src=./ImagenesCasillasLinja/CasillaNegra.png alt=\"\"></img></td><td><img class=\"game\" src=./ImagenesCasillasLinja/CasillaVacia.png alt=\"\"></img></td><td><img class=\"game\" src=./ImagenesCasillasLinja/CasillaVacia.png alt=\"\"></img></td><td><img class=\"game\" src=./ImagenesCasillasLinja/CasillaVacia.png alt=\"\"></img></td><td><img class=\"game\" src=./ImagenesCasillasLinja/CasillaVacia.png alt=\"\"></img></td></tr><tr><td>5</td><td><img class=\"game\" src=./ImagenesCasillasLinja/CasillaNegra.png alt=\"\"></img></td><td><img class=\"game\" src=./ImagenesCasillasLinja/CasillaVacia.png alt=\"\"></img></td><td><img class=\"game\" src=./ImagenesCasillasLinja/CasillaVacia.png alt=\"\"></img></td><td><img class=\"game\" src=./ImagenesCasillasLinja/CasillaVacia.png alt=\"\"></img></td><td><img class=\"game\" src=./ImagenesCasillasLinja/CasillaVacia.png alt=\"\"></img></td><td><img class=\"game\" src=./ImagenesCasillasLinja/CasillaRoja.png alt=\"\"></img></td></tr><tr><td>6</td><td><img class=\"game\" src=./ImagenesCasillasLinja/CasillaNegra.png alt=\"\"></img></td><td><img class=\"game\" src=./ImagenesCasillasLinja/CasillaVacia.png alt=\"\"></img></td><td><img class=\"game\" src=./ImagenesCasillasLinja/CasillaVacia.png alt=\"\"></img></td><td><img class=\"game\" src=./ImagenesCasillasLinja/CasillaVacia.png alt=\"\"></img></td><td><img class=\"game\" src=./ImagenesCasillasLinja/CasillaVacia.png alt=\"\"></img></td><td><img class=\"game\" src=./ImagenesCasillasLinja/CasillaRoja.png alt=\"\"></img></td></tr><tr><td>7</td><td><img class=\"game\" src=./ImagenesCasillasLinja/CasillaRoja.png alt=\"\"></img></td><td><img class=\"game\" src=./ImagenesCasillasLinja/CasillaRoja.png alt=\"\"></img></td><td><img class=\"game\" src=./ImagenesCasillasLinja/CasillaRoja.png alt=\"\"></img></td><td><img class=\"game\" src=./ImagenesCasillasLinja/CasillaRoja.png alt=\"\"></img></td><td><img class=\"game\" src=./ImagenesCasillasLinja/CasillaRoja.png alt=\"\"></img></td><td><img class=\"game\" src=./ImagenesCasillasLinja/CasillaRoja.png alt=\"\"></img></td></tr></table>"
      ],
      "text/plain": [
       "<IPython.core.display.HTML object>"
      ]
     },
     "metadata": {},
     "output_type": "display_data"
    },
    {
     "name": "stdout",
     "output_type": "stream",
     "text": [
      "\n",
      "\n",
      "\u001b[1m\u001b[38;5;160m\u001b[48;5;223m                         Jugador 2 \u001b[0m\n"
     ]
    },
    {
     "data": {
      "text/html": [
       "<style> img.game {width: 30px !important; height: 25px !important;}</style><table><tr><td></td><td>0</td><td>1</td><td>2</td><td>3</td><td>4</td><td>5</td></tr><tr><td>0</td><td><img class=\"game\" src=./ImagenesCasillasLinja/CasillaRoja.png alt=\"\"></img></td><td><img class=\"game\" src=./ImagenesCasillasLinja/CasillaRoja.png alt=\"\"></img></td><td><img class=\"game\" src=./ImagenesCasillasLinja/CasillaRoja.png alt=\"\"></img></td><td><img class=\"game\" src=./ImagenesCasillasLinja/CasillaRoja.png alt=\"\"></img></td><td><img class=\"game\" src=./ImagenesCasillasLinja/CasillaVacia.png alt=\"\"></img></td><td><img class=\"game\" src=./ImagenesCasillasLinja/CasillaVacia.png alt=\"\"></img></td></tr><tr><td>1</td><td><img class=\"game\" src=./ImagenesCasillasLinja/CasillaVacia.png alt=\"\"></img></td><td><img class=\"game\" src=./ImagenesCasillasLinja/CasillaVacia.png alt=\"\"></img></td><td><img class=\"game\" src=./ImagenesCasillasLinja/CasillaNegra.png alt=\"\"></img></td><td><img class=\"game\" src=./ImagenesCasillasLinja/CasillaNegra.png alt=\"\"></img></td><td><img class=\"game\" src=./ImagenesCasillasLinja/CasillaVacia.png alt=\"\"></img></td><td><img class=\"game\" src=./ImagenesCasillasLinja/CasillaVacia.png alt=\"\"></img></td></tr><tr><td>2</td><td><img class=\"game\" src=./ImagenesCasillasLinja/CasillaNegra.png alt=\"\"></img></td><td><img class=\"game\" src=./ImagenesCasillasLinja/CasillaNegra.png alt=\"\"></img></td><td><img class=\"game\" src=./ImagenesCasillasLinja/CasillaNegra.png alt=\"\"></img></td><td><img class=\"game\" src=./ImagenesCasillasLinja/CasillaVacia.png alt=\"\"></img></td><td><img class=\"game\" src=./ImagenesCasillasLinja/CasillaVacia.png alt=\"\"></img></td><td><img class=\"game\" src=./ImagenesCasillasLinja/CasillaVacia.png alt=\"\"></img></td></tr><tr><td>3</td><td><img class=\"game\" src=./ImagenesCasillasLinja/CasillaNegra.png alt=\"\"></img></td><td><img class=\"game\" src=./ImagenesCasillasLinja/CasillaNegra.png alt=\"\"></img></td><td><img class=\"game\" src=./ImagenesCasillasLinja/CasillaNegra.png alt=\"\"></img></td><td><img class=\"game\" src=./ImagenesCasillasLinja/CasillaVacia.png alt=\"\"></img></td><td><img class=\"game\" src=./ImagenesCasillasLinja/CasillaVacia.png alt=\"\"></img></td><td><img class=\"game\" src=./ImagenesCasillasLinja/CasillaVacia.png alt=\"\"></img></td></tr><tr><td>4</td><td><img class=\"game\" src=./ImagenesCasillasLinja/CasillaNegra.png alt=\"\"></img></td><td><img class=\"game\" src=./ImagenesCasillasLinja/CasillaNegra.png alt=\"\"></img></td><td><img class=\"game\" src=./ImagenesCasillasLinja/CasillaRoja.png alt=\"\"></img></td><td><img class=\"game\" src=./ImagenesCasillasLinja/CasillaVacia.png alt=\"\"></img></td><td><img class=\"game\" src=./ImagenesCasillasLinja/CasillaVacia.png alt=\"\"></img></td><td><img class=\"game\" src=./ImagenesCasillasLinja/CasillaVacia.png alt=\"\"></img></td></tr><tr><td>5</td><td><img class=\"game\" src=./ImagenesCasillasLinja/CasillaNegra.png alt=\"\"></img></td><td><img class=\"game\" src=./ImagenesCasillasLinja/CasillaVacia.png alt=\"\"></img></td><td><img class=\"game\" src=./ImagenesCasillasLinja/CasillaVacia.png alt=\"\"></img></td><td><img class=\"game\" src=./ImagenesCasillasLinja/CasillaVacia.png alt=\"\"></img></td><td><img class=\"game\" src=./ImagenesCasillasLinja/CasillaVacia.png alt=\"\"></img></td><td><img class=\"game\" src=./ImagenesCasillasLinja/CasillaVacia.png alt=\"\"></img></td></tr><tr><td>6</td><td><img class=\"game\" src=./ImagenesCasillasLinja/CasillaNegra.png alt=\"\"></img></td><td><img class=\"game\" src=./ImagenesCasillasLinja/CasillaVacia.png alt=\"\"></img></td><td><img class=\"game\" src=./ImagenesCasillasLinja/CasillaVacia.png alt=\"\"></img></td><td><img class=\"game\" src=./ImagenesCasillasLinja/CasillaVacia.png alt=\"\"></img></td><td><img class=\"game\" src=./ImagenesCasillasLinja/CasillaVacia.png alt=\"\"></img></td><td><img class=\"game\" src=./ImagenesCasillasLinja/CasillaRoja.png alt=\"\"></img></td></tr><tr><td>7</td><td><img class=\"game\" src=./ImagenesCasillasLinja/CasillaRoja.png alt=\"\"></img></td><td><img class=\"game\" src=./ImagenesCasillasLinja/CasillaRoja.png alt=\"\"></img></td><td><img class=\"game\" src=./ImagenesCasillasLinja/CasillaRoja.png alt=\"\"></img></td><td><img class=\"game\" src=./ImagenesCasillasLinja/CasillaRoja.png alt=\"\"></img></td><td><img class=\"game\" src=./ImagenesCasillasLinja/CasillaRoja.png alt=\"\"></img></td><td><img class=\"game\" src=./ImagenesCasillasLinja/CasillaRoja.png alt=\"\"></img></td></tr></table>"
      ],
      "text/plain": [
       "<IPython.core.display.HTML object>"
      ]
     },
     "metadata": {},
     "output_type": "display_data"
    },
    {
     "name": "stdout",
     "output_type": "stream",
     "text": [
      "\n",
      "\n",
      "\u001b[1m\u001b[38;5;232m\u001b[48;5;253m Jugador 1                         \u001b[0m\n"
     ]
    },
    {
     "data": {
      "text/html": [
       "<style> img.game {width: 30px !important; height: 25px !important;}</style><table><tr><td></td><td>0</td><td>1</td><td>2</td><td>3</td><td>4</td><td>5</td></tr><tr><td>0</td><td><img class=\"game\" src=./ImagenesCasillasLinja/CasillaRoja.png alt=\"\"></img></td><td><img class=\"game\" src=./ImagenesCasillasLinja/CasillaRoja.png alt=\"\"></img></td><td><img class=\"game\" src=./ImagenesCasillasLinja/CasillaRoja.png alt=\"\"></img></td><td><img class=\"game\" src=./ImagenesCasillasLinja/CasillaRoja.png alt=\"\"></img></td><td><img class=\"game\" src=./ImagenesCasillasLinja/CasillaVacia.png alt=\"\"></img></td><td><img class=\"game\" src=./ImagenesCasillasLinja/CasillaVacia.png alt=\"\"></img></td></tr><tr><td>1</td><td><img class=\"game\" src=./ImagenesCasillasLinja/CasillaVacia.png alt=\"\"></img></td><td><img class=\"game\" src=./ImagenesCasillasLinja/CasillaVacia.png alt=\"\"></img></td><td><img class=\"game\" src=./ImagenesCasillasLinja/CasillaVacia.png alt=\"\"></img></td><td><img class=\"game\" src=./ImagenesCasillasLinja/CasillaVacia.png alt=\"\"></img></td><td><img class=\"game\" src=./ImagenesCasillasLinja/CasillaVacia.png alt=\"\"></img></td><td><img class=\"game\" src=./ImagenesCasillasLinja/CasillaVacia.png alt=\"\"></img></td></tr><tr><td>2</td><td><img class=\"game\" src=./ImagenesCasillasLinja/CasillaNegra.png alt=\"\"></img></td><td><img class=\"game\" src=./ImagenesCasillasLinja/CasillaNegra.png alt=\"\"></img></td><td><img class=\"game\" src=./ImagenesCasillasLinja/CasillaNegra.png alt=\"\"></img></td><td><img class=\"game\" src=./ImagenesCasillasLinja/CasillaNegra.png alt=\"\"></img></td><td><img class=\"game\" src=./ImagenesCasillasLinja/CasillaVacia.png alt=\"\"></img></td><td><img class=\"game\" src=./ImagenesCasillasLinja/CasillaVacia.png alt=\"\"></img></td></tr><tr><td>3</td><td><img class=\"game\" src=./ImagenesCasillasLinja/CasillaNegra.png alt=\"\"></img></td><td><img class=\"game\" src=./ImagenesCasillasLinja/CasillaNegra.png alt=\"\"></img></td><td><img class=\"game\" src=./ImagenesCasillasLinja/CasillaNegra.png alt=\"\"></img></td><td><img class=\"game\" src=./ImagenesCasillasLinja/CasillaVacia.png alt=\"\"></img></td><td><img class=\"game\" src=./ImagenesCasillasLinja/CasillaVacia.png alt=\"\"></img></td><td><img class=\"game\" src=./ImagenesCasillasLinja/CasillaVacia.png alt=\"\"></img></td></tr><tr><td>4</td><td><img class=\"game\" src=./ImagenesCasillasLinja/CasillaNegra.png alt=\"\"></img></td><td><img class=\"game\" src=./ImagenesCasillasLinja/CasillaNegra.png alt=\"\"></img></td><td><img class=\"game\" src=./ImagenesCasillasLinja/CasillaRoja.png alt=\"\"></img></td><td><img class=\"game\" src=./ImagenesCasillasLinja/CasillaNegra.png alt=\"\"></img></td><td><img class=\"game\" src=./ImagenesCasillasLinja/CasillaVacia.png alt=\"\"></img></td><td><img class=\"game\" src=./ImagenesCasillasLinja/CasillaVacia.png alt=\"\"></img></td></tr><tr><td>5</td><td><img class=\"game\" src=./ImagenesCasillasLinja/CasillaNegra.png alt=\"\"></img></td><td><img class=\"game\" src=./ImagenesCasillasLinja/CasillaVacia.png alt=\"\"></img></td><td><img class=\"game\" src=./ImagenesCasillasLinja/CasillaVacia.png alt=\"\"></img></td><td><img class=\"game\" src=./ImagenesCasillasLinja/CasillaVacia.png alt=\"\"></img></td><td><img class=\"game\" src=./ImagenesCasillasLinja/CasillaVacia.png alt=\"\"></img></td><td><img class=\"game\" src=./ImagenesCasillasLinja/CasillaVacia.png alt=\"\"></img></td></tr><tr><td>6</td><td><img class=\"game\" src=./ImagenesCasillasLinja/CasillaNegra.png alt=\"\"></img></td><td><img class=\"game\" src=./ImagenesCasillasLinja/CasillaVacia.png alt=\"\"></img></td><td><img class=\"game\" src=./ImagenesCasillasLinja/CasillaVacia.png alt=\"\"></img></td><td><img class=\"game\" src=./ImagenesCasillasLinja/CasillaVacia.png alt=\"\"></img></td><td><img class=\"game\" src=./ImagenesCasillasLinja/CasillaVacia.png alt=\"\"></img></td><td><img class=\"game\" src=./ImagenesCasillasLinja/CasillaRoja.png alt=\"\"></img></td></tr><tr><td>7</td><td><img class=\"game\" src=./ImagenesCasillasLinja/CasillaRoja.png alt=\"\"></img></td><td><img class=\"game\" src=./ImagenesCasillasLinja/CasillaRoja.png alt=\"\"></img></td><td><img class=\"game\" src=./ImagenesCasillasLinja/CasillaRoja.png alt=\"\"></img></td><td><img class=\"game\" src=./ImagenesCasillasLinja/CasillaRoja.png alt=\"\"></img></td><td><img class=\"game\" src=./ImagenesCasillasLinja/CasillaRoja.png alt=\"\"></img></td><td><img class=\"game\" src=./ImagenesCasillasLinja/CasillaRoja.png alt=\"\"></img></td></tr></table>"
      ],
      "text/plain": [
       "<IPython.core.display.HTML object>"
      ]
     },
     "metadata": {},
     "output_type": "display_data"
    },
    {
     "name": "stdout",
     "output_type": "stream",
     "text": [
      "\n",
      "\n",
      "\u001b[1m\u001b[38;5;160m\u001b[48;5;223m                         Jugador 2 \u001b[0m\n"
     ]
    },
    {
     "data": {
      "text/html": [
       "<style> img.game {width: 30px !important; height: 25px !important;}</style><table><tr><td></td><td>0</td><td>1</td><td>2</td><td>3</td><td>4</td><td>5</td></tr><tr><td>0</td><td><img class=\"game\" src=./ImagenesCasillasLinja/CasillaRoja.png alt=\"\"></img></td><td><img class=\"game\" src=./ImagenesCasillasLinja/CasillaRoja.png alt=\"\"></img></td><td><img class=\"game\" src=./ImagenesCasillasLinja/CasillaRoja.png alt=\"\"></img></td><td><img class=\"game\" src=./ImagenesCasillasLinja/CasillaRoja.png alt=\"\"></img></td><td><img class=\"game\" src=./ImagenesCasillasLinja/CasillaRoja.png alt=\"\"></img></td><td><img class=\"game\" src=./ImagenesCasillasLinja/CasillaVacia.png alt=\"\"></img></td></tr><tr><td>1</td><td><img class=\"game\" src=./ImagenesCasillasLinja/CasillaVacia.png alt=\"\"></img></td><td><img class=\"game\" src=./ImagenesCasillasLinja/CasillaVacia.png alt=\"\"></img></td><td><img class=\"game\" src=./ImagenesCasillasLinja/CasillaVacia.png alt=\"\"></img></td><td><img class=\"game\" src=./ImagenesCasillasLinja/CasillaVacia.png alt=\"\"></img></td><td><img class=\"game\" src=./ImagenesCasillasLinja/CasillaVacia.png alt=\"\"></img></td><td><img class=\"game\" src=./ImagenesCasillasLinja/CasillaVacia.png alt=\"\"></img></td></tr><tr><td>2</td><td><img class=\"game\" src=./ImagenesCasillasLinja/CasillaNegra.png alt=\"\"></img></td><td><img class=\"game\" src=./ImagenesCasillasLinja/CasillaNegra.png alt=\"\"></img></td><td><img class=\"game\" src=./ImagenesCasillasLinja/CasillaNegra.png alt=\"\"></img></td><td><img class=\"game\" src=./ImagenesCasillasLinja/CasillaNegra.png alt=\"\"></img></td><td><img class=\"game\" src=./ImagenesCasillasLinja/CasillaVacia.png alt=\"\"></img></td><td><img class=\"game\" src=./ImagenesCasillasLinja/CasillaVacia.png alt=\"\"></img></td></tr><tr><td>3</td><td><img class=\"game\" src=./ImagenesCasillasLinja/CasillaNegra.png alt=\"\"></img></td><td><img class=\"game\" src=./ImagenesCasillasLinja/CasillaNegra.png alt=\"\"></img></td><td><img class=\"game\" src=./ImagenesCasillasLinja/CasillaNegra.png alt=\"\"></img></td><td><img class=\"game\" src=./ImagenesCasillasLinja/CasillaVacia.png alt=\"\"></img></td><td><img class=\"game\" src=./ImagenesCasillasLinja/CasillaVacia.png alt=\"\"></img></td><td><img class=\"game\" src=./ImagenesCasillasLinja/CasillaVacia.png alt=\"\"></img></td></tr><tr><td>4</td><td><img class=\"game\" src=./ImagenesCasillasLinja/CasillaNegra.png alt=\"\"></img></td><td><img class=\"game\" src=./ImagenesCasillasLinja/CasillaNegra.png alt=\"\"></img></td><td><img class=\"game\" src=./ImagenesCasillasLinja/CasillaVacia.png alt=\"\"></img></td><td><img class=\"game\" src=./ImagenesCasillasLinja/CasillaNegra.png alt=\"\"></img></td><td><img class=\"game\" src=./ImagenesCasillasLinja/CasillaVacia.png alt=\"\"></img></td><td><img class=\"game\" src=./ImagenesCasillasLinja/CasillaVacia.png alt=\"\"></img></td></tr><tr><td>5</td><td><img class=\"game\" src=./ImagenesCasillasLinja/CasillaNegra.png alt=\"\"></img></td><td><img class=\"game\" src=./ImagenesCasillasLinja/CasillaVacia.png alt=\"\"></img></td><td><img class=\"game\" src=./ImagenesCasillasLinja/CasillaVacia.png alt=\"\"></img></td><td><img class=\"game\" src=./ImagenesCasillasLinja/CasillaVacia.png alt=\"\"></img></td><td><img class=\"game\" src=./ImagenesCasillasLinja/CasillaVacia.png alt=\"\"></img></td><td><img class=\"game\" src=./ImagenesCasillasLinja/CasillaVacia.png alt=\"\"></img></td></tr><tr><td>6</td><td><img class=\"game\" src=./ImagenesCasillasLinja/CasillaNegra.png alt=\"\"></img></td><td><img class=\"game\" src=./ImagenesCasillasLinja/CasillaVacia.png alt=\"\"></img></td><td><img class=\"game\" src=./ImagenesCasillasLinja/CasillaVacia.png alt=\"\"></img></td><td><img class=\"game\" src=./ImagenesCasillasLinja/CasillaVacia.png alt=\"\"></img></td><td><img class=\"game\" src=./ImagenesCasillasLinja/CasillaVacia.png alt=\"\"></img></td><td><img class=\"game\" src=./ImagenesCasillasLinja/CasillaRoja.png alt=\"\"></img></td></tr><tr><td>7</td><td><img class=\"game\" src=./ImagenesCasillasLinja/CasillaRoja.png alt=\"\"></img></td><td><img class=\"game\" src=./ImagenesCasillasLinja/CasillaRoja.png alt=\"\"></img></td><td><img class=\"game\" src=./ImagenesCasillasLinja/CasillaRoja.png alt=\"\"></img></td><td><img class=\"game\" src=./ImagenesCasillasLinja/CasillaRoja.png alt=\"\"></img></td><td><img class=\"game\" src=./ImagenesCasillasLinja/CasillaRoja.png alt=\"\"></img></td><td><img class=\"game\" src=./ImagenesCasillasLinja/CasillaRoja.png alt=\"\"></img></td></tr></table>"
      ],
      "text/plain": [
       "<IPython.core.display.HTML object>"
      ]
     },
     "metadata": {},
     "output_type": "display_data"
    },
    {
     "name": "stdout",
     "output_type": "stream",
     "text": [
      "\n",
      "\n",
      "\u001b[1m\u001b[38;5;232m\u001b[48;5;253m Jugador 1                         \u001b[0m\n"
     ]
    },
    {
     "data": {
      "text/html": [
       "<style> img.game {width: 30px !important; height: 25px !important;}</style><table><tr><td></td><td>0</td><td>1</td><td>2</td><td>3</td><td>4</td><td>5</td></tr><tr><td>0</td><td><img class=\"game\" src=./ImagenesCasillasLinja/CasillaRoja.png alt=\"\"></img></td><td><img class=\"game\" src=./ImagenesCasillasLinja/CasillaRoja.png alt=\"\"></img></td><td><img class=\"game\" src=./ImagenesCasillasLinja/CasillaRoja.png alt=\"\"></img></td><td><img class=\"game\" src=./ImagenesCasillasLinja/CasillaRoja.png alt=\"\"></img></td><td><img class=\"game\" src=./ImagenesCasillasLinja/CasillaRoja.png alt=\"\"></img></td><td><img class=\"game\" src=./ImagenesCasillasLinja/CasillaVacia.png alt=\"\"></img></td></tr><tr><td>1</td><td><img class=\"game\" src=./ImagenesCasillasLinja/CasillaVacia.png alt=\"\"></img></td><td><img class=\"game\" src=./ImagenesCasillasLinja/CasillaVacia.png alt=\"\"></img></td><td><img class=\"game\" src=./ImagenesCasillasLinja/CasillaVacia.png alt=\"\"></img></td><td><img class=\"game\" src=./ImagenesCasillasLinja/CasillaVacia.png alt=\"\"></img></td><td><img class=\"game\" src=./ImagenesCasillasLinja/CasillaVacia.png alt=\"\"></img></td><td><img class=\"game\" src=./ImagenesCasillasLinja/CasillaVacia.png alt=\"\"></img></td></tr><tr><td>2</td><td><img class=\"game\" src=./ImagenesCasillasLinja/CasillaVacia.png alt=\"\"></img></td><td><img class=\"game\" src=./ImagenesCasillasLinja/CasillaVacia.png alt=\"\"></img></td><td><img class=\"game\" src=./ImagenesCasillasLinja/CasillaNegra.png alt=\"\"></img></td><td><img class=\"game\" src=./ImagenesCasillasLinja/CasillaNegra.png alt=\"\"></img></td><td><img class=\"game\" src=./ImagenesCasillasLinja/CasillaVacia.png alt=\"\"></img></td><td><img class=\"game\" src=./ImagenesCasillasLinja/CasillaVacia.png alt=\"\"></img></td></tr><tr><td>3</td><td><img class=\"game\" src=./ImagenesCasillasLinja/CasillaNegra.png alt=\"\"></img></td><td><img class=\"game\" src=./ImagenesCasillasLinja/CasillaNegra.png alt=\"\"></img></td><td><img class=\"game\" src=./ImagenesCasillasLinja/CasillaNegra.png alt=\"\"></img></td><td><img class=\"game\" src=./ImagenesCasillasLinja/CasillaNegra.png alt=\"\"></img></td><td><img class=\"game\" src=./ImagenesCasillasLinja/CasillaVacia.png alt=\"\"></img></td><td><img class=\"game\" src=./ImagenesCasillasLinja/CasillaVacia.png alt=\"\"></img></td></tr><tr><td>4</td><td><img class=\"game\" src=./ImagenesCasillasLinja/CasillaNegra.png alt=\"\"></img></td><td><img class=\"game\" src=./ImagenesCasillasLinja/CasillaNegra.png alt=\"\"></img></td><td><img class=\"game\" src=./ImagenesCasillasLinja/CasillaVacia.png alt=\"\"></img></td><td><img class=\"game\" src=./ImagenesCasillasLinja/CasillaNegra.png alt=\"\"></img></td><td><img class=\"game\" src=./ImagenesCasillasLinja/CasillaVacia.png alt=\"\"></img></td><td><img class=\"game\" src=./ImagenesCasillasLinja/CasillaVacia.png alt=\"\"></img></td></tr><tr><td>5</td><td><img class=\"game\" src=./ImagenesCasillasLinja/CasillaNegra.png alt=\"\"></img></td><td><img class=\"game\" src=./ImagenesCasillasLinja/CasillaNegra.png alt=\"\"></img></td><td><img class=\"game\" src=./ImagenesCasillasLinja/CasillaVacia.png alt=\"\"></img></td><td><img class=\"game\" src=./ImagenesCasillasLinja/CasillaVacia.png alt=\"\"></img></td><td><img class=\"game\" src=./ImagenesCasillasLinja/CasillaVacia.png alt=\"\"></img></td><td><img class=\"game\" src=./ImagenesCasillasLinja/CasillaVacia.png alt=\"\"></img></td></tr><tr><td>6</td><td><img class=\"game\" src=./ImagenesCasillasLinja/CasillaNegra.png alt=\"\"></img></td><td><img class=\"game\" src=./ImagenesCasillasLinja/CasillaVacia.png alt=\"\"></img></td><td><img class=\"game\" src=./ImagenesCasillasLinja/CasillaVacia.png alt=\"\"></img></td><td><img class=\"game\" src=./ImagenesCasillasLinja/CasillaVacia.png alt=\"\"></img></td><td><img class=\"game\" src=./ImagenesCasillasLinja/CasillaVacia.png alt=\"\"></img></td><td><img class=\"game\" src=./ImagenesCasillasLinja/CasillaRoja.png alt=\"\"></img></td></tr><tr><td>7</td><td><img class=\"game\" src=./ImagenesCasillasLinja/CasillaRoja.png alt=\"\"></img></td><td><img class=\"game\" src=./ImagenesCasillasLinja/CasillaRoja.png alt=\"\"></img></td><td><img class=\"game\" src=./ImagenesCasillasLinja/CasillaRoja.png alt=\"\"></img></td><td><img class=\"game\" src=./ImagenesCasillasLinja/CasillaRoja.png alt=\"\"></img></td><td><img class=\"game\" src=./ImagenesCasillasLinja/CasillaRoja.png alt=\"\"></img></td><td><img class=\"game\" src=./ImagenesCasillasLinja/CasillaRoja.png alt=\"\"></img></td></tr></table>"
      ],
      "text/plain": [
       "<IPython.core.display.HTML object>"
      ]
     },
     "metadata": {},
     "output_type": "display_data"
    },
    {
     "name": "stdout",
     "output_type": "stream",
     "text": [
      "\n",
      "\n",
      "\u001b[1m\u001b[38;5;160m\u001b[48;5;223m                         Jugador 2 \u001b[0m\n"
     ]
    },
    {
     "data": {
      "text/html": [
       "<style> img.game {width: 30px !important; height: 25px !important;}</style><table><tr><td></td><td>0</td><td>1</td><td>2</td><td>3</td><td>4</td><td>5</td></tr><tr><td>0</td><td><img class=\"game\" src=./ImagenesCasillasLinja/CasillaRoja.png alt=\"\"></img></td><td><img class=\"game\" src=./ImagenesCasillasLinja/CasillaRoja.png alt=\"\"></img></td><td><img class=\"game\" src=./ImagenesCasillasLinja/CasillaRoja.png alt=\"\"></img></td><td><img class=\"game\" src=./ImagenesCasillasLinja/CasillaRoja.png alt=\"\"></img></td><td><img class=\"game\" src=./ImagenesCasillasLinja/CasillaRoja.png alt=\"\"></img></td><td><img class=\"game\" src=./ImagenesCasillasLinja/CasillaVacia.png alt=\"\"></img></td></tr><tr><td>1</td><td><img class=\"game\" src=./ImagenesCasillasLinja/CasillaVacia.png alt=\"\"></img></td><td><img class=\"game\" src=./ImagenesCasillasLinja/CasillaVacia.png alt=\"\"></img></td><td><img class=\"game\" src=./ImagenesCasillasLinja/CasillaVacia.png alt=\"\"></img></td><td><img class=\"game\" src=./ImagenesCasillasLinja/CasillaVacia.png alt=\"\"></img></td><td><img class=\"game\" src=./ImagenesCasillasLinja/CasillaVacia.png alt=\"\"></img></td><td><img class=\"game\" src=./ImagenesCasillasLinja/CasillaVacia.png alt=\"\"></img></td></tr><tr><td>2</td><td><img class=\"game\" src=./ImagenesCasillasLinja/CasillaVacia.png alt=\"\"></img></td><td><img class=\"game\" src=./ImagenesCasillasLinja/CasillaVacia.png alt=\"\"></img></td><td><img class=\"game\" src=./ImagenesCasillasLinja/CasillaNegra.png alt=\"\"></img></td><td><img class=\"game\" src=./ImagenesCasillasLinja/CasillaNegra.png alt=\"\"></img></td><td><img class=\"game\" src=./ImagenesCasillasLinja/CasillaVacia.png alt=\"\"></img></td><td><img class=\"game\" src=./ImagenesCasillasLinja/CasillaVacia.png alt=\"\"></img></td></tr><tr><td>3</td><td><img class=\"game\" src=./ImagenesCasillasLinja/CasillaNegra.png alt=\"\"></img></td><td><img class=\"game\" src=./ImagenesCasillasLinja/CasillaNegra.png alt=\"\"></img></td><td><img class=\"game\" src=./ImagenesCasillasLinja/CasillaNegra.png alt=\"\"></img></td><td><img class=\"game\" src=./ImagenesCasillasLinja/CasillaNegra.png alt=\"\"></img></td><td><img class=\"game\" src=./ImagenesCasillasLinja/CasillaRoja.png alt=\"\"></img></td><td><img class=\"game\" src=./ImagenesCasillasLinja/CasillaVacia.png alt=\"\"></img></td></tr><tr><td>4</td><td><img class=\"game\" src=./ImagenesCasillasLinja/CasillaNegra.png alt=\"\"></img></td><td><img class=\"game\" src=./ImagenesCasillasLinja/CasillaNegra.png alt=\"\"></img></td><td><img class=\"game\" src=./ImagenesCasillasLinja/CasillaVacia.png alt=\"\"></img></td><td><img class=\"game\" src=./ImagenesCasillasLinja/CasillaNegra.png alt=\"\"></img></td><td><img class=\"game\" src=./ImagenesCasillasLinja/CasillaVacia.png alt=\"\"></img></td><td><img class=\"game\" src=./ImagenesCasillasLinja/CasillaVacia.png alt=\"\"></img></td></tr><tr><td>5</td><td><img class=\"game\" src=./ImagenesCasillasLinja/CasillaNegra.png alt=\"\"></img></td><td><img class=\"game\" src=./ImagenesCasillasLinja/CasillaNegra.png alt=\"\"></img></td><td><img class=\"game\" src=./ImagenesCasillasLinja/CasillaVacia.png alt=\"\"></img></td><td><img class=\"game\" src=./ImagenesCasillasLinja/CasillaVacia.png alt=\"\"></img></td><td><img class=\"game\" src=./ImagenesCasillasLinja/CasillaVacia.png alt=\"\"></img></td><td><img class=\"game\" src=./ImagenesCasillasLinja/CasillaVacia.png alt=\"\"></img></td></tr><tr><td>6</td><td><img class=\"game\" src=./ImagenesCasillasLinja/CasillaNegra.png alt=\"\"></img></td><td><img class=\"game\" src=./ImagenesCasillasLinja/CasillaVacia.png alt=\"\"></img></td><td><img class=\"game\" src=./ImagenesCasillasLinja/CasillaVacia.png alt=\"\"></img></td><td><img class=\"game\" src=./ImagenesCasillasLinja/CasillaVacia.png alt=\"\"></img></td><td><img class=\"game\" src=./ImagenesCasillasLinja/CasillaVacia.png alt=\"\"></img></td><td><img class=\"game\" src=./ImagenesCasillasLinja/CasillaVacia.png alt=\"\"></img></td></tr><tr><td>7</td><td><img class=\"game\" src=./ImagenesCasillasLinja/CasillaRoja.png alt=\"\"></img></td><td><img class=\"game\" src=./ImagenesCasillasLinja/CasillaRoja.png alt=\"\"></img></td><td><img class=\"game\" src=./ImagenesCasillasLinja/CasillaRoja.png alt=\"\"></img></td><td><img class=\"game\" src=./ImagenesCasillasLinja/CasillaRoja.png alt=\"\"></img></td><td><img class=\"game\" src=./ImagenesCasillasLinja/CasillaRoja.png alt=\"\"></img></td><td><img class=\"game\" src=./ImagenesCasillasLinja/CasillaRoja.png alt=\"\"></img></td></tr></table>"
      ],
      "text/plain": [
       "<IPython.core.display.HTML object>"
      ]
     },
     "metadata": {},
     "output_type": "display_data"
    },
    {
     "name": "stdout",
     "output_type": "stream",
     "text": [
      "\n",
      "\n",
      "\u001b[1m\u001b[38;5;232m\u001b[48;5;253m Jugador 1                         \u001b[0m\n"
     ]
    },
    {
     "data": {
      "text/html": [
       "<style> img.game {width: 30px !important; height: 25px !important;}</style><table><tr><td></td><td>0</td><td>1</td><td>2</td><td>3</td><td>4</td><td>5</td></tr><tr><td>0</td><td><img class=\"game\" src=./ImagenesCasillasLinja/CasillaRoja.png alt=\"\"></img></td><td><img class=\"game\" src=./ImagenesCasillasLinja/CasillaRoja.png alt=\"\"></img></td><td><img class=\"game\" src=./ImagenesCasillasLinja/CasillaRoja.png alt=\"\"></img></td><td><img class=\"game\" src=./ImagenesCasillasLinja/CasillaRoja.png alt=\"\"></img></td><td><img class=\"game\" src=./ImagenesCasillasLinja/CasillaRoja.png alt=\"\"></img></td><td><img class=\"game\" src=./ImagenesCasillasLinja/CasillaVacia.png alt=\"\"></img></td></tr><tr><td>1</td><td><img class=\"game\" src=./ImagenesCasillasLinja/CasillaVacia.png alt=\"\"></img></td><td><img class=\"game\" src=./ImagenesCasillasLinja/CasillaVacia.png alt=\"\"></img></td><td><img class=\"game\" src=./ImagenesCasillasLinja/CasillaVacia.png alt=\"\"></img></td><td><img class=\"game\" src=./ImagenesCasillasLinja/CasillaVacia.png alt=\"\"></img></td><td><img class=\"game\" src=./ImagenesCasillasLinja/CasillaVacia.png alt=\"\"></img></td><td><img class=\"game\" src=./ImagenesCasillasLinja/CasillaVacia.png alt=\"\"></img></td></tr><tr><td>2</td><td><img class=\"game\" src=./ImagenesCasillasLinja/CasillaVacia.png alt=\"\"></img></td><td><img class=\"game\" src=./ImagenesCasillasLinja/CasillaVacia.png alt=\"\"></img></td><td><img class=\"game\" src=./ImagenesCasillasLinja/CasillaVacia.png alt=\"\"></img></td><td><img class=\"game\" src=./ImagenesCasillasLinja/CasillaNegra.png alt=\"\"></img></td><td><img class=\"game\" src=./ImagenesCasillasLinja/CasillaVacia.png alt=\"\"></img></td><td><img class=\"game\" src=./ImagenesCasillasLinja/CasillaVacia.png alt=\"\"></img></td></tr><tr><td>3</td><td><img class=\"game\" src=./ImagenesCasillasLinja/CasillaVacia.png alt=\"\"></img></td><td><img class=\"game\" src=./ImagenesCasillasLinja/CasillaNegra.png alt=\"\"></img></td><td><img class=\"game\" src=./ImagenesCasillasLinja/CasillaNegra.png alt=\"\"></img></td><td><img class=\"game\" src=./ImagenesCasillasLinja/CasillaNegra.png alt=\"\"></img></td><td><img class=\"game\" src=./ImagenesCasillasLinja/CasillaRoja.png alt=\"\"></img></td><td><img class=\"game\" src=./ImagenesCasillasLinja/CasillaVacia.png alt=\"\"></img></td></tr><tr><td>4</td><td><img class=\"game\" src=./ImagenesCasillasLinja/CasillaNegra.png alt=\"\"></img></td><td><img class=\"game\" src=./ImagenesCasillasLinja/CasillaNegra.png alt=\"\"></img></td><td><img class=\"game\" src=./ImagenesCasillasLinja/CasillaNegra.png alt=\"\"></img></td><td><img class=\"game\" src=./ImagenesCasillasLinja/CasillaNegra.png alt=\"\"></img></td><td><img class=\"game\" src=./ImagenesCasillasLinja/CasillaVacia.png alt=\"\"></img></td><td><img class=\"game\" src=./ImagenesCasillasLinja/CasillaVacia.png alt=\"\"></img></td></tr><tr><td>5</td><td><img class=\"game\" src=./ImagenesCasillasLinja/CasillaNegra.png alt=\"\"></img></td><td><img class=\"game\" src=./ImagenesCasillasLinja/CasillaNegra.png alt=\"\"></img></td><td><img class=\"game\" src=./ImagenesCasillasLinja/CasillaNegra.png alt=\"\"></img></td><td><img class=\"game\" src=./ImagenesCasillasLinja/CasillaVacia.png alt=\"\"></img></td><td><img class=\"game\" src=./ImagenesCasillasLinja/CasillaVacia.png alt=\"\"></img></td><td><img class=\"game\" src=./ImagenesCasillasLinja/CasillaVacia.png alt=\"\"></img></td></tr><tr><td>6</td><td><img class=\"game\" src=./ImagenesCasillasLinja/CasillaNegra.png alt=\"\"></img></td><td><img class=\"game\" src=./ImagenesCasillasLinja/CasillaVacia.png alt=\"\"></img></td><td><img class=\"game\" src=./ImagenesCasillasLinja/CasillaVacia.png alt=\"\"></img></td><td><img class=\"game\" src=./ImagenesCasillasLinja/CasillaVacia.png alt=\"\"></img></td><td><img class=\"game\" src=./ImagenesCasillasLinja/CasillaVacia.png alt=\"\"></img></td><td><img class=\"game\" src=./ImagenesCasillasLinja/CasillaVacia.png alt=\"\"></img></td></tr><tr><td>7</td><td><img class=\"game\" src=./ImagenesCasillasLinja/CasillaRoja.png alt=\"\"></img></td><td><img class=\"game\" src=./ImagenesCasillasLinja/CasillaRoja.png alt=\"\"></img></td><td><img class=\"game\" src=./ImagenesCasillasLinja/CasillaRoja.png alt=\"\"></img></td><td><img class=\"game\" src=./ImagenesCasillasLinja/CasillaRoja.png alt=\"\"></img></td><td><img class=\"game\" src=./ImagenesCasillasLinja/CasillaRoja.png alt=\"\"></img></td><td><img class=\"game\" src=./ImagenesCasillasLinja/CasillaRoja.png alt=\"\"></img></td></tr></table>"
      ],
      "text/plain": [
       "<IPython.core.display.HTML object>"
      ]
     },
     "metadata": {},
     "output_type": "display_data"
    },
    {
     "name": "stdout",
     "output_type": "stream",
     "text": [
      "\n",
      "\n",
      "\u001b[1m\u001b[38;5;160m\u001b[48;5;223m                         Jugador 2 \u001b[0m\n"
     ]
    },
    {
     "data": {
      "text/html": [
       "<style> img.game {width: 30px !important; height: 25px !important;}</style><table><tr><td></td><td>0</td><td>1</td><td>2</td><td>3</td><td>4</td><td>5</td></tr><tr><td>0</td><td><img class=\"game\" src=./ImagenesCasillasLinja/CasillaRoja.png alt=\"\"></img></td><td><img class=\"game\" src=./ImagenesCasillasLinja/CasillaRoja.png alt=\"\"></img></td><td><img class=\"game\" src=./ImagenesCasillasLinja/CasillaRoja.png alt=\"\"></img></td><td><img class=\"game\" src=./ImagenesCasillasLinja/CasillaRoja.png alt=\"\"></img></td><td><img class=\"game\" src=./ImagenesCasillasLinja/CasillaRoja.png alt=\"\"></img></td><td><img class=\"game\" src=./ImagenesCasillasLinja/CasillaVacia.png alt=\"\"></img></td></tr><tr><td>1</td><td><img class=\"game\" src=./ImagenesCasillasLinja/CasillaRoja.png alt=\"\"></img></td><td><img class=\"game\" src=./ImagenesCasillasLinja/CasillaVacia.png alt=\"\"></img></td><td><img class=\"game\" src=./ImagenesCasillasLinja/CasillaVacia.png alt=\"\"></img></td><td><img class=\"game\" src=./ImagenesCasillasLinja/CasillaVacia.png alt=\"\"></img></td><td><img class=\"game\" src=./ImagenesCasillasLinja/CasillaVacia.png alt=\"\"></img></td><td><img class=\"game\" src=./ImagenesCasillasLinja/CasillaVacia.png alt=\"\"></img></td></tr><tr><td>2</td><td><img class=\"game\" src=./ImagenesCasillasLinja/CasillaVacia.png alt=\"\"></img></td><td><img class=\"game\" src=./ImagenesCasillasLinja/CasillaVacia.png alt=\"\"></img></td><td><img class=\"game\" src=./ImagenesCasillasLinja/CasillaVacia.png alt=\"\"></img></td><td><img class=\"game\" src=./ImagenesCasillasLinja/CasillaNegra.png alt=\"\"></img></td><td><img class=\"game\" src=./ImagenesCasillasLinja/CasillaVacia.png alt=\"\"></img></td><td><img class=\"game\" src=./ImagenesCasillasLinja/CasillaVacia.png alt=\"\"></img></td></tr><tr><td>3</td><td><img class=\"game\" src=./ImagenesCasillasLinja/CasillaVacia.png alt=\"\"></img></td><td><img class=\"game\" src=./ImagenesCasillasLinja/CasillaNegra.png alt=\"\"></img></td><td><img class=\"game\" src=./ImagenesCasillasLinja/CasillaNegra.png alt=\"\"></img></td><td><img class=\"game\" src=./ImagenesCasillasLinja/CasillaNegra.png alt=\"\"></img></td><td><img class=\"game\" src=./ImagenesCasillasLinja/CasillaVacia.png alt=\"\"></img></td><td><img class=\"game\" src=./ImagenesCasillasLinja/CasillaVacia.png alt=\"\"></img></td></tr><tr><td>4</td><td><img class=\"game\" src=./ImagenesCasillasLinja/CasillaNegra.png alt=\"\"></img></td><td><img class=\"game\" src=./ImagenesCasillasLinja/CasillaNegra.png alt=\"\"></img></td><td><img class=\"game\" src=./ImagenesCasillasLinja/CasillaNegra.png alt=\"\"></img></td><td><img class=\"game\" src=./ImagenesCasillasLinja/CasillaNegra.png alt=\"\"></img></td><td><img class=\"game\" src=./ImagenesCasillasLinja/CasillaVacia.png alt=\"\"></img></td><td><img class=\"game\" src=./ImagenesCasillasLinja/CasillaVacia.png alt=\"\"></img></td></tr><tr><td>5</td><td><img class=\"game\" src=./ImagenesCasillasLinja/CasillaNegra.png alt=\"\"></img></td><td><img class=\"game\" src=./ImagenesCasillasLinja/CasillaNegra.png alt=\"\"></img></td><td><img class=\"game\" src=./ImagenesCasillasLinja/CasillaNegra.png alt=\"\"></img></td><td><img class=\"game\" src=./ImagenesCasillasLinja/CasillaVacia.png alt=\"\"></img></td><td><img class=\"game\" src=./ImagenesCasillasLinja/CasillaVacia.png alt=\"\"></img></td><td><img class=\"game\" src=./ImagenesCasillasLinja/CasillaVacia.png alt=\"\"></img></td></tr><tr><td>6</td><td><img class=\"game\" src=./ImagenesCasillasLinja/CasillaNegra.png alt=\"\"></img></td><td><img class=\"game\" src=./ImagenesCasillasLinja/CasillaVacia.png alt=\"\"></img></td><td><img class=\"game\" src=./ImagenesCasillasLinja/CasillaVacia.png alt=\"\"></img></td><td><img class=\"game\" src=./ImagenesCasillasLinja/CasillaVacia.png alt=\"\"></img></td><td><img class=\"game\" src=./ImagenesCasillasLinja/CasillaVacia.png alt=\"\"></img></td><td><img class=\"game\" src=./ImagenesCasillasLinja/CasillaVacia.png alt=\"\"></img></td></tr><tr><td>7</td><td><img class=\"game\" src=./ImagenesCasillasLinja/CasillaRoja.png alt=\"\"></img></td><td><img class=\"game\" src=./ImagenesCasillasLinja/CasillaRoja.png alt=\"\"></img></td><td><img class=\"game\" src=./ImagenesCasillasLinja/CasillaRoja.png alt=\"\"></img></td><td><img class=\"game\" src=./ImagenesCasillasLinja/CasillaRoja.png alt=\"\"></img></td><td><img class=\"game\" src=./ImagenesCasillasLinja/CasillaRoja.png alt=\"\"></img></td><td><img class=\"game\" src=./ImagenesCasillasLinja/CasillaRoja.png alt=\"\"></img></td></tr></table>"
      ],
      "text/plain": [
       "<IPython.core.display.HTML object>"
      ]
     },
     "metadata": {},
     "output_type": "display_data"
    },
    {
     "name": "stdout",
     "output_type": "stream",
     "text": [
      "\n",
      "\n",
      "\u001b[1m\u001b[38;5;232m\u001b[48;5;253m Jugador 1                         \u001b[0m\n"
     ]
    },
    {
     "data": {
      "text/html": [
       "<style> img.game {width: 30px !important; height: 25px !important;}</style><table><tr><td></td><td>0</td><td>1</td><td>2</td><td>3</td><td>4</td><td>5</td></tr><tr><td>0</td><td><img class=\"game\" src=./ImagenesCasillasLinja/CasillaRoja.png alt=\"\"></img></td><td><img class=\"game\" src=./ImagenesCasillasLinja/CasillaRoja.png alt=\"\"></img></td><td><img class=\"game\" src=./ImagenesCasillasLinja/CasillaRoja.png alt=\"\"></img></td><td><img class=\"game\" src=./ImagenesCasillasLinja/CasillaRoja.png alt=\"\"></img></td><td><img class=\"game\" src=./ImagenesCasillasLinja/CasillaRoja.png alt=\"\"></img></td><td><img class=\"game\" src=./ImagenesCasillasLinja/CasillaVacia.png alt=\"\"></img></td></tr><tr><td>1</td><td><img class=\"game\" src=./ImagenesCasillasLinja/CasillaRoja.png alt=\"\"></img></td><td><img class=\"game\" src=./ImagenesCasillasLinja/CasillaVacia.png alt=\"\"></img></td><td><img class=\"game\" src=./ImagenesCasillasLinja/CasillaVacia.png alt=\"\"></img></td><td><img class=\"game\" src=./ImagenesCasillasLinja/CasillaVacia.png alt=\"\"></img></td><td><img class=\"game\" src=./ImagenesCasillasLinja/CasillaVacia.png alt=\"\"></img></td><td><img class=\"game\" src=./ImagenesCasillasLinja/CasillaVacia.png alt=\"\"></img></td></tr><tr><td>2</td><td><img class=\"game\" src=./ImagenesCasillasLinja/CasillaVacia.png alt=\"\"></img></td><td><img class=\"game\" src=./ImagenesCasillasLinja/CasillaVacia.png alt=\"\"></img></td><td><img class=\"game\" src=./ImagenesCasillasLinja/CasillaVacia.png alt=\"\"></img></td><td><img class=\"game\" src=./ImagenesCasillasLinja/CasillaVacia.png alt=\"\"></img></td><td><img class=\"game\" src=./ImagenesCasillasLinja/CasillaVacia.png alt=\"\"></img></td><td><img class=\"game\" src=./ImagenesCasillasLinja/CasillaVacia.png alt=\"\"></img></td></tr><tr><td>3</td><td><img class=\"game\" src=./ImagenesCasillasLinja/CasillaVacia.png alt=\"\"></img></td><td><img class=\"game\" src=./ImagenesCasillasLinja/CasillaNegra.png alt=\"\"></img></td><td><img class=\"game\" src=./ImagenesCasillasLinja/CasillaNegra.png alt=\"\"></img></td><td><img class=\"game\" src=./ImagenesCasillasLinja/CasillaNegra.png alt=\"\"></img></td><td><img class=\"game\" src=./ImagenesCasillasLinja/CasillaVacia.png alt=\"\"></img></td><td><img class=\"game\" src=./ImagenesCasillasLinja/CasillaVacia.png alt=\"\"></img></td></tr><tr><td>4</td><td><img class=\"game\" src=./ImagenesCasillasLinja/CasillaNegra.png alt=\"\"></img></td><td><img class=\"game\" src=./ImagenesCasillasLinja/CasillaNegra.png alt=\"\"></img></td><td><img class=\"game\" src=./ImagenesCasillasLinja/CasillaNegra.png alt=\"\"></img></td><td><img class=\"game\" src=./ImagenesCasillasLinja/CasillaNegra.png alt=\"\"></img></td><td><img class=\"game\" src=./ImagenesCasillasLinja/CasillaVacia.png alt=\"\"></img></td><td><img class=\"game\" src=./ImagenesCasillasLinja/CasillaVacia.png alt=\"\"></img></td></tr><tr><td>5</td><td><img class=\"game\" src=./ImagenesCasillasLinja/CasillaNegra.png alt=\"\"></img></td><td><img class=\"game\" src=./ImagenesCasillasLinja/CasillaNegra.png alt=\"\"></img></td><td><img class=\"game\" src=./ImagenesCasillasLinja/CasillaNegra.png alt=\"\"></img></td><td><img class=\"game\" src=./ImagenesCasillasLinja/CasillaVacia.png alt=\"\"></img></td><td><img class=\"game\" src=./ImagenesCasillasLinja/CasillaVacia.png alt=\"\"></img></td><td><img class=\"game\" src=./ImagenesCasillasLinja/CasillaVacia.png alt=\"\"></img></td></tr><tr><td>6</td><td><img class=\"game\" src=./ImagenesCasillasLinja/CasillaNegra.png alt=\"\"></img></td><td><img class=\"game\" src=./ImagenesCasillasLinja/CasillaNegra.png alt=\"\"></img></td><td><img class=\"game\" src=./ImagenesCasillasLinja/CasillaVacia.png alt=\"\"></img></td><td><img class=\"game\" src=./ImagenesCasillasLinja/CasillaVacia.png alt=\"\"></img></td><td><img class=\"game\" src=./ImagenesCasillasLinja/CasillaVacia.png alt=\"\"></img></td><td><img class=\"game\" src=./ImagenesCasillasLinja/CasillaVacia.png alt=\"\"></img></td></tr><tr><td>7</td><td><img class=\"game\" src=./ImagenesCasillasLinja/CasillaRoja.png alt=\"\"></img></td><td><img class=\"game\" src=./ImagenesCasillasLinja/CasillaRoja.png alt=\"\"></img></td><td><img class=\"game\" src=./ImagenesCasillasLinja/CasillaRoja.png alt=\"\"></img></td><td><img class=\"game\" src=./ImagenesCasillasLinja/CasillaRoja.png alt=\"\"></img></td><td><img class=\"game\" src=./ImagenesCasillasLinja/CasillaRoja.png alt=\"\"></img></td><td><img class=\"game\" src=./ImagenesCasillasLinja/CasillaRoja.png alt=\"\"></img></td></tr></table>"
      ],
      "text/plain": [
       "<IPython.core.display.HTML object>"
      ]
     },
     "metadata": {},
     "output_type": "display_data"
    },
    {
     "name": "stdout",
     "output_type": "stream",
     "text": [
      "\n",
      "\n",
      "\u001b[1m\u001b[38;5;160m\u001b[48;5;223m                         Jugador 2 \u001b[0m\n"
     ]
    },
    {
     "data": {
      "text/html": [
       "<style> img.game {width: 30px !important; height: 25px !important;}</style><table><tr><td></td><td>0</td><td>1</td><td>2</td><td>3</td><td>4</td><td>5</td></tr><tr><td>0</td><td><img class=\"game\" src=./ImagenesCasillasLinja/CasillaRoja.png alt=\"\"></img></td><td><img class=\"game\" src=./ImagenesCasillasLinja/CasillaRoja.png alt=\"\"></img></td><td><img class=\"game\" src=./ImagenesCasillasLinja/CasillaRoja.png alt=\"\"></img></td><td><img class=\"game\" src=./ImagenesCasillasLinja/CasillaRoja.png alt=\"\"></img></td><td><img class=\"game\" src=./ImagenesCasillasLinja/CasillaRoja.png alt=\"\"></img></td><td><img class=\"game\" src=./ImagenesCasillasLinja/CasillaRoja.png alt=\"\"></img></td></tr><tr><td>1</td><td><img class=\"game\" src=./ImagenesCasillasLinja/CasillaVacia.png alt=\"\"></img></td><td><img class=\"game\" src=./ImagenesCasillasLinja/CasillaVacia.png alt=\"\"></img></td><td><img class=\"game\" src=./ImagenesCasillasLinja/CasillaVacia.png alt=\"\"></img></td><td><img class=\"game\" src=./ImagenesCasillasLinja/CasillaVacia.png alt=\"\"></img></td><td><img class=\"game\" src=./ImagenesCasillasLinja/CasillaVacia.png alt=\"\"></img></td><td><img class=\"game\" src=./ImagenesCasillasLinja/CasillaVacia.png alt=\"\"></img></td></tr><tr><td>2</td><td><img class=\"game\" src=./ImagenesCasillasLinja/CasillaVacia.png alt=\"\"></img></td><td><img class=\"game\" src=./ImagenesCasillasLinja/CasillaVacia.png alt=\"\"></img></td><td><img class=\"game\" src=./ImagenesCasillasLinja/CasillaVacia.png alt=\"\"></img></td><td><img class=\"game\" src=./ImagenesCasillasLinja/CasillaVacia.png alt=\"\"></img></td><td><img class=\"game\" src=./ImagenesCasillasLinja/CasillaVacia.png alt=\"\"></img></td><td><img class=\"game\" src=./ImagenesCasillasLinja/CasillaVacia.png alt=\"\"></img></td></tr><tr><td>3</td><td><img class=\"game\" src=./ImagenesCasillasLinja/CasillaVacia.png alt=\"\"></img></td><td><img class=\"game\" src=./ImagenesCasillasLinja/CasillaNegra.png alt=\"\"></img></td><td><img class=\"game\" src=./ImagenesCasillasLinja/CasillaNegra.png alt=\"\"></img></td><td><img class=\"game\" src=./ImagenesCasillasLinja/CasillaNegra.png alt=\"\"></img></td><td><img class=\"game\" src=./ImagenesCasillasLinja/CasillaVacia.png alt=\"\"></img></td><td><img class=\"game\" src=./ImagenesCasillasLinja/CasillaVacia.png alt=\"\"></img></td></tr><tr><td>4</td><td><img class=\"game\" src=./ImagenesCasillasLinja/CasillaNegra.png alt=\"\"></img></td><td><img class=\"game\" src=./ImagenesCasillasLinja/CasillaNegra.png alt=\"\"></img></td><td><img class=\"game\" src=./ImagenesCasillasLinja/CasillaNegra.png alt=\"\"></img></td><td><img class=\"game\" src=./ImagenesCasillasLinja/CasillaNegra.png alt=\"\"></img></td><td><img class=\"game\" src=./ImagenesCasillasLinja/CasillaVacia.png alt=\"\"></img></td><td><img class=\"game\" src=./ImagenesCasillasLinja/CasillaVacia.png alt=\"\"></img></td></tr><tr><td>5</td><td><img class=\"game\" src=./ImagenesCasillasLinja/CasillaNegra.png alt=\"\"></img></td><td><img class=\"game\" src=./ImagenesCasillasLinja/CasillaNegra.png alt=\"\"></img></td><td><img class=\"game\" src=./ImagenesCasillasLinja/CasillaNegra.png alt=\"\"></img></td><td><img class=\"game\" src=./ImagenesCasillasLinja/CasillaVacia.png alt=\"\"></img></td><td><img class=\"game\" src=./ImagenesCasillasLinja/CasillaVacia.png alt=\"\"></img></td><td><img class=\"game\" src=./ImagenesCasillasLinja/CasillaVacia.png alt=\"\"></img></td></tr><tr><td>6</td><td><img class=\"game\" src=./ImagenesCasillasLinja/CasillaNegra.png alt=\"\"></img></td><td><img class=\"game\" src=./ImagenesCasillasLinja/CasillaNegra.png alt=\"\"></img></td><td><img class=\"game\" src=./ImagenesCasillasLinja/CasillaRoja.png alt=\"\"></img></td><td><img class=\"game\" src=./ImagenesCasillasLinja/CasillaVacia.png alt=\"\"></img></td><td><img class=\"game\" src=./ImagenesCasillasLinja/CasillaVacia.png alt=\"\"></img></td><td><img class=\"game\" src=./ImagenesCasillasLinja/CasillaVacia.png alt=\"\"></img></td></tr><tr><td>7</td><td><img class=\"game\" src=./ImagenesCasillasLinja/CasillaVacia.png alt=\"\"></img></td><td><img class=\"game\" src=./ImagenesCasillasLinja/CasillaRoja.png alt=\"\"></img></td><td><img class=\"game\" src=./ImagenesCasillasLinja/CasillaRoja.png alt=\"\"></img></td><td><img class=\"game\" src=./ImagenesCasillasLinja/CasillaRoja.png alt=\"\"></img></td><td><img class=\"game\" src=./ImagenesCasillasLinja/CasillaRoja.png alt=\"\"></img></td><td><img class=\"game\" src=./ImagenesCasillasLinja/CasillaRoja.png alt=\"\"></img></td></tr></table>"
      ],
      "text/plain": [
       "<IPython.core.display.HTML object>"
      ]
     },
     "metadata": {},
     "output_type": "display_data"
    },
    {
     "name": "stdout",
     "output_type": "stream",
     "text": [
      "\n",
      "\n",
      "\u001b[1m\u001b[38;5;232m\u001b[48;5;253m Jugador 1                         \u001b[0m\n"
     ]
    },
    {
     "data": {
      "text/html": [
       "<style> img.game {width: 30px !important; height: 25px !important;}</style><table><tr><td></td><td>0</td><td>1</td><td>2</td><td>3</td><td>4</td><td>5</td></tr><tr><td>0</td><td><img class=\"game\" src=./ImagenesCasillasLinja/CasillaRoja.png alt=\"\"></img></td><td><img class=\"game\" src=./ImagenesCasillasLinja/CasillaRoja.png alt=\"\"></img></td><td><img class=\"game\" src=./ImagenesCasillasLinja/CasillaRoja.png alt=\"\"></img></td><td><img class=\"game\" src=./ImagenesCasillasLinja/CasillaRoja.png alt=\"\"></img></td><td><img class=\"game\" src=./ImagenesCasillasLinja/CasillaRoja.png alt=\"\"></img></td><td><img class=\"game\" src=./ImagenesCasillasLinja/CasillaRoja.png alt=\"\"></img></td></tr><tr><td>1</td><td><img class=\"game\" src=./ImagenesCasillasLinja/CasillaVacia.png alt=\"\"></img></td><td><img class=\"game\" src=./ImagenesCasillasLinja/CasillaVacia.png alt=\"\"></img></td><td><img class=\"game\" src=./ImagenesCasillasLinja/CasillaVacia.png alt=\"\"></img></td><td><img class=\"game\" src=./ImagenesCasillasLinja/CasillaVacia.png alt=\"\"></img></td><td><img class=\"game\" src=./ImagenesCasillasLinja/CasillaVacia.png alt=\"\"></img></td><td><img class=\"game\" src=./ImagenesCasillasLinja/CasillaVacia.png alt=\"\"></img></td></tr><tr><td>2</td><td><img class=\"game\" src=./ImagenesCasillasLinja/CasillaVacia.png alt=\"\"></img></td><td><img class=\"game\" src=./ImagenesCasillasLinja/CasillaVacia.png alt=\"\"></img></td><td><img class=\"game\" src=./ImagenesCasillasLinja/CasillaVacia.png alt=\"\"></img></td><td><img class=\"game\" src=./ImagenesCasillasLinja/CasillaVacia.png alt=\"\"></img></td><td><img class=\"game\" src=./ImagenesCasillasLinja/CasillaVacia.png alt=\"\"></img></td><td><img class=\"game\" src=./ImagenesCasillasLinja/CasillaVacia.png alt=\"\"></img></td></tr><tr><td>3</td><td><img class=\"game\" src=./ImagenesCasillasLinja/CasillaVacia.png alt=\"\"></img></td><td><img class=\"game\" src=./ImagenesCasillasLinja/CasillaVacia.png alt=\"\"></img></td><td><img class=\"game\" src=./ImagenesCasillasLinja/CasillaVacia.png alt=\"\"></img></td><td><img class=\"game\" src=./ImagenesCasillasLinja/CasillaNegra.png alt=\"\"></img></td><td><img class=\"game\" src=./ImagenesCasillasLinja/CasillaVacia.png alt=\"\"></img></td><td><img class=\"game\" src=./ImagenesCasillasLinja/CasillaVacia.png alt=\"\"></img></td></tr><tr><td>4</td><td><img class=\"game\" src=./ImagenesCasillasLinja/CasillaNegra.png alt=\"\"></img></td><td><img class=\"game\" src=./ImagenesCasillasLinja/CasillaNegra.png alt=\"\"></img></td><td><img class=\"game\" src=./ImagenesCasillasLinja/CasillaNegra.png alt=\"\"></img></td><td><img class=\"game\" src=./ImagenesCasillasLinja/CasillaNegra.png alt=\"\"></img></td><td><img class=\"game\" src=./ImagenesCasillasLinja/CasillaNegra.png alt=\"\"></img></td><td><img class=\"game\" src=./ImagenesCasillasLinja/CasillaVacia.png alt=\"\"></img></td></tr><tr><td>5</td><td><img class=\"game\" src=./ImagenesCasillasLinja/CasillaNegra.png alt=\"\"></img></td><td><img class=\"game\" src=./ImagenesCasillasLinja/CasillaNegra.png alt=\"\"></img></td><td><img class=\"game\" src=./ImagenesCasillasLinja/CasillaNegra.png alt=\"\"></img></td><td><img class=\"game\" src=./ImagenesCasillasLinja/CasillaVacia.png alt=\"\"></img></td><td><img class=\"game\" src=./ImagenesCasillasLinja/CasillaVacia.png alt=\"\"></img></td><td><img class=\"game\" src=./ImagenesCasillasLinja/CasillaVacia.png alt=\"\"></img></td></tr><tr><td>6</td><td><img class=\"game\" src=./ImagenesCasillasLinja/CasillaNegra.png alt=\"\"></img></td><td><img class=\"game\" src=./ImagenesCasillasLinja/CasillaNegra.png alt=\"\"></img></td><td><img class=\"game\" src=./ImagenesCasillasLinja/CasillaRoja.png alt=\"\"></img></td><td><img class=\"game\" src=./ImagenesCasillasLinja/CasillaVacia.png alt=\"\"></img></td><td><img class=\"game\" src=./ImagenesCasillasLinja/CasillaVacia.png alt=\"\"></img></td><td><img class=\"game\" src=./ImagenesCasillasLinja/CasillaVacia.png alt=\"\"></img></td></tr><tr><td>7</td><td><img class=\"game\" src=./ImagenesCasillasLinja/CasillaNegra.png alt=\"\"></img></td><td><img class=\"game\" src=./ImagenesCasillasLinja/CasillaRoja.png alt=\"\"></img></td><td><img class=\"game\" src=./ImagenesCasillasLinja/CasillaRoja.png alt=\"\"></img></td><td><img class=\"game\" src=./ImagenesCasillasLinja/CasillaRoja.png alt=\"\"></img></td><td><img class=\"game\" src=./ImagenesCasillasLinja/CasillaRoja.png alt=\"\"></img></td><td><img class=\"game\" src=./ImagenesCasillasLinja/CasillaRoja.png alt=\"\"></img></td></tr></table>"
      ],
      "text/plain": [
       "<IPython.core.display.HTML object>"
      ]
     },
     "metadata": {},
     "output_type": "display_data"
    },
    {
     "name": "stdout",
     "output_type": "stream",
     "text": [
      "\n",
      "\n",
      "\u001b[1m\u001b[38;5;160m\u001b[48;5;223m                         Jugador 2 \u001b[0m\n"
     ]
    },
    {
     "data": {
      "text/html": [
       "<style> img.game {width: 30px !important; height: 25px !important;}</style><table><tr><td></td><td>0</td><td>1</td><td>2</td><td>3</td><td>4</td><td>5</td></tr><tr><td>0</td><td><img class=\"game\" src=./ImagenesCasillasLinja/CasillaRoja.png alt=\"\"></img></td><td><img class=\"game\" src=./ImagenesCasillasLinja/CasillaRoja.png alt=\"\"></img></td><td><img class=\"game\" src=./ImagenesCasillasLinja/CasillaRoja.png alt=\"\"></img></td><td><img class=\"game\" src=./ImagenesCasillasLinja/CasillaRoja.png alt=\"\"></img></td><td><img class=\"game\" src=./ImagenesCasillasLinja/CasillaRoja.png alt=\"\"></img></td><td><img class=\"game\" src=./ImagenesCasillasLinja/CasillaRoja.png alt=\"\"></img></td></tr><tr><td>1</td><td><img class=\"game\" src=./ImagenesCasillasLinja/CasillaVacia.png alt=\"\"></img></td><td><img class=\"game\" src=./ImagenesCasillasLinja/CasillaVacia.png alt=\"\"></img></td><td><img class=\"game\" src=./ImagenesCasillasLinja/CasillaVacia.png alt=\"\"></img></td><td><img class=\"game\" src=./ImagenesCasillasLinja/CasillaVacia.png alt=\"\"></img></td><td><img class=\"game\" src=./ImagenesCasillasLinja/CasillaVacia.png alt=\"\"></img></td><td><img class=\"game\" src=./ImagenesCasillasLinja/CasillaVacia.png alt=\"\"></img></td></tr><tr><td>2</td><td><img class=\"game\" src=./ImagenesCasillasLinja/CasillaRoja.png alt=\"\"></img></td><td><img class=\"game\" src=./ImagenesCasillasLinja/CasillaVacia.png alt=\"\"></img></td><td><img class=\"game\" src=./ImagenesCasillasLinja/CasillaVacia.png alt=\"\"></img></td><td><img class=\"game\" src=./ImagenesCasillasLinja/CasillaVacia.png alt=\"\"></img></td><td><img class=\"game\" src=./ImagenesCasillasLinja/CasillaVacia.png alt=\"\"></img></td><td><img class=\"game\" src=./ImagenesCasillasLinja/CasillaVacia.png alt=\"\"></img></td></tr><tr><td>3</td><td><img class=\"game\" src=./ImagenesCasillasLinja/CasillaVacia.png alt=\"\"></img></td><td><img class=\"game\" src=./ImagenesCasillasLinja/CasillaVacia.png alt=\"\"></img></td><td><img class=\"game\" src=./ImagenesCasillasLinja/CasillaVacia.png alt=\"\"></img></td><td><img class=\"game\" src=./ImagenesCasillasLinja/CasillaNegra.png alt=\"\"></img></td><td><img class=\"game\" src=./ImagenesCasillasLinja/CasillaVacia.png alt=\"\"></img></td><td><img class=\"game\" src=./ImagenesCasillasLinja/CasillaVacia.png alt=\"\"></img></td></tr><tr><td>4</td><td><img class=\"game\" src=./ImagenesCasillasLinja/CasillaNegra.png alt=\"\"></img></td><td><img class=\"game\" src=./ImagenesCasillasLinja/CasillaNegra.png alt=\"\"></img></td><td><img class=\"game\" src=./ImagenesCasillasLinja/CasillaNegra.png alt=\"\"></img></td><td><img class=\"game\" src=./ImagenesCasillasLinja/CasillaNegra.png alt=\"\"></img></td><td><img class=\"game\" src=./ImagenesCasillasLinja/CasillaNegra.png alt=\"\"></img></td><td><img class=\"game\" src=./ImagenesCasillasLinja/CasillaVacia.png alt=\"\"></img></td></tr><tr><td>5</td><td><img class=\"game\" src=./ImagenesCasillasLinja/CasillaNegra.png alt=\"\"></img></td><td><img class=\"game\" src=./ImagenesCasillasLinja/CasillaNegra.png alt=\"\"></img></td><td><img class=\"game\" src=./ImagenesCasillasLinja/CasillaNegra.png alt=\"\"></img></td><td><img class=\"game\" src=./ImagenesCasillasLinja/CasillaVacia.png alt=\"\"></img></td><td><img class=\"game\" src=./ImagenesCasillasLinja/CasillaVacia.png alt=\"\"></img></td><td><img class=\"game\" src=./ImagenesCasillasLinja/CasillaVacia.png alt=\"\"></img></td></tr><tr><td>6</td><td><img class=\"game\" src=./ImagenesCasillasLinja/CasillaNegra.png alt=\"\"></img></td><td><img class=\"game\" src=./ImagenesCasillasLinja/CasillaNegra.png alt=\"\"></img></td><td><img class=\"game\" src=./ImagenesCasillasLinja/CasillaVacia.png alt=\"\"></img></td><td><img class=\"game\" src=./ImagenesCasillasLinja/CasillaVacia.png alt=\"\"></img></td><td><img class=\"game\" src=./ImagenesCasillasLinja/CasillaVacia.png alt=\"\"></img></td><td><img class=\"game\" src=./ImagenesCasillasLinja/CasillaVacia.png alt=\"\"></img></td></tr><tr><td>7</td><td><img class=\"game\" src=./ImagenesCasillasLinja/CasillaNegra.png alt=\"\"></img></td><td><img class=\"game\" src=./ImagenesCasillasLinja/CasillaRoja.png alt=\"\"></img></td><td><img class=\"game\" src=./ImagenesCasillasLinja/CasillaRoja.png alt=\"\"></img></td><td><img class=\"game\" src=./ImagenesCasillasLinja/CasillaRoja.png alt=\"\"></img></td><td><img class=\"game\" src=./ImagenesCasillasLinja/CasillaRoja.png alt=\"\"></img></td><td><img class=\"game\" src=./ImagenesCasillasLinja/CasillaRoja.png alt=\"\"></img></td></tr></table>"
      ],
      "text/plain": [
       "<IPython.core.display.HTML object>"
      ]
     },
     "metadata": {},
     "output_type": "display_data"
    },
    {
     "name": "stdout",
     "output_type": "stream",
     "text": [
      "\n",
      "\n",
      "\u001b[1m\u001b[38;5;232m\u001b[48;5;253m Jugador 1                         \u001b[0m\n"
     ]
    },
    {
     "data": {
      "text/html": [
       "<style> img.game {width: 30px !important; height: 25px !important;}</style><table><tr><td></td><td>0</td><td>1</td><td>2</td><td>3</td><td>4</td><td>5</td></tr><tr><td>0</td><td><img class=\"game\" src=./ImagenesCasillasLinja/CasillaRoja.png alt=\"\"></img></td><td><img class=\"game\" src=./ImagenesCasillasLinja/CasillaRoja.png alt=\"\"></img></td><td><img class=\"game\" src=./ImagenesCasillasLinja/CasillaRoja.png alt=\"\"></img></td><td><img class=\"game\" src=./ImagenesCasillasLinja/CasillaRoja.png alt=\"\"></img></td><td><img class=\"game\" src=./ImagenesCasillasLinja/CasillaRoja.png alt=\"\"></img></td><td><img class=\"game\" src=./ImagenesCasillasLinja/CasillaRoja.png alt=\"\"></img></td></tr><tr><td>1</td><td><img class=\"game\" src=./ImagenesCasillasLinja/CasillaVacia.png alt=\"\"></img></td><td><img class=\"game\" src=./ImagenesCasillasLinja/CasillaVacia.png alt=\"\"></img></td><td><img class=\"game\" src=./ImagenesCasillasLinja/CasillaVacia.png alt=\"\"></img></td><td><img class=\"game\" src=./ImagenesCasillasLinja/CasillaVacia.png alt=\"\"></img></td><td><img class=\"game\" src=./ImagenesCasillasLinja/CasillaVacia.png alt=\"\"></img></td><td><img class=\"game\" src=./ImagenesCasillasLinja/CasillaVacia.png alt=\"\"></img></td></tr><tr><td>2</td><td><img class=\"game\" src=./ImagenesCasillasLinja/CasillaRoja.png alt=\"\"></img></td><td><img class=\"game\" src=./ImagenesCasillasLinja/CasillaVacia.png alt=\"\"></img></td><td><img class=\"game\" src=./ImagenesCasillasLinja/CasillaVacia.png alt=\"\"></img></td><td><img class=\"game\" src=./ImagenesCasillasLinja/CasillaVacia.png alt=\"\"></img></td><td><img class=\"game\" src=./ImagenesCasillasLinja/CasillaVacia.png alt=\"\"></img></td><td><img class=\"game\" src=./ImagenesCasillasLinja/CasillaVacia.png alt=\"\"></img></td></tr><tr><td>3</td><td><img class=\"game\" src=./ImagenesCasillasLinja/CasillaVacia.png alt=\"\"></img></td><td><img class=\"game\" src=./ImagenesCasillasLinja/CasillaVacia.png alt=\"\"></img></td><td><img class=\"game\" src=./ImagenesCasillasLinja/CasillaVacia.png alt=\"\"></img></td><td><img class=\"game\" src=./ImagenesCasillasLinja/CasillaVacia.png alt=\"\"></img></td><td><img class=\"game\" src=./ImagenesCasillasLinja/CasillaVacia.png alt=\"\"></img></td><td><img class=\"game\" src=./ImagenesCasillasLinja/CasillaVacia.png alt=\"\"></img></td></tr><tr><td>4</td><td><img class=\"game\" src=./ImagenesCasillasLinja/CasillaVacia.png alt=\"\"></img></td><td><img class=\"game\" src=./ImagenesCasillasLinja/CasillaNegra.png alt=\"\"></img></td><td><img class=\"game\" src=./ImagenesCasillasLinja/CasillaNegra.png alt=\"\"></img></td><td><img class=\"game\" src=./ImagenesCasillasLinja/CasillaNegra.png alt=\"\"></img></td><td><img class=\"game\" src=./ImagenesCasillasLinja/CasillaNegra.png alt=\"\"></img></td><td><img class=\"game\" src=./ImagenesCasillasLinja/CasillaVacia.png alt=\"\"></img></td></tr><tr><td>5</td><td><img class=\"game\" src=./ImagenesCasillasLinja/CasillaNegra.png alt=\"\"></img></td><td><img class=\"game\" src=./ImagenesCasillasLinja/CasillaNegra.png alt=\"\"></img></td><td><img class=\"game\" src=./ImagenesCasillasLinja/CasillaNegra.png alt=\"\"></img></td><td><img class=\"game\" src=./ImagenesCasillasLinja/CasillaNegra.png alt=\"\"></img></td><td><img class=\"game\" src=./ImagenesCasillasLinja/CasillaVacia.png alt=\"\"></img></td><td><img class=\"game\" src=./ImagenesCasillasLinja/CasillaVacia.png alt=\"\"></img></td></tr><tr><td>6</td><td><img class=\"game\" src=./ImagenesCasillasLinja/CasillaNegra.png alt=\"\"></img></td><td><img class=\"game\" src=./ImagenesCasillasLinja/CasillaNegra.png alt=\"\"></img></td><td><img class=\"game\" src=./ImagenesCasillasLinja/CasillaNegra.png alt=\"\"></img></td><td><img class=\"game\" src=./ImagenesCasillasLinja/CasillaVacia.png alt=\"\"></img></td><td><img class=\"game\" src=./ImagenesCasillasLinja/CasillaVacia.png alt=\"\"></img></td><td><img class=\"game\" src=./ImagenesCasillasLinja/CasillaVacia.png alt=\"\"></img></td></tr><tr><td>7</td><td><img class=\"game\" src=./ImagenesCasillasLinja/CasillaNegra.png alt=\"\"></img></td><td><img class=\"game\" src=./ImagenesCasillasLinja/CasillaRoja.png alt=\"\"></img></td><td><img class=\"game\" src=./ImagenesCasillasLinja/CasillaRoja.png alt=\"\"></img></td><td><img class=\"game\" src=./ImagenesCasillasLinja/CasillaRoja.png alt=\"\"></img></td><td><img class=\"game\" src=./ImagenesCasillasLinja/CasillaRoja.png alt=\"\"></img></td><td><img class=\"game\" src=./ImagenesCasillasLinja/CasillaRoja.png alt=\"\"></img></td></tr></table>"
      ],
      "text/plain": [
       "<IPython.core.display.HTML object>"
      ]
     },
     "metadata": {},
     "output_type": "display_data"
    },
    {
     "name": "stdout",
     "output_type": "stream",
     "text": [
      "\n",
      "\n",
      "\u001b[1m\u001b[38;5;160m\u001b[48;5;223m                         Jugador 2 \u001b[0m\n"
     ]
    },
    {
     "data": {
      "text/html": [
       "<style> img.game {width: 30px !important; height: 25px !important;}</style><table><tr><td></td><td>0</td><td>1</td><td>2</td><td>3</td><td>4</td><td>5</td></tr><tr><td>0</td><td><img class=\"game\" src=./ImagenesCasillasLinja/CasillaRoja.png alt=\"\"></img></td><td><img class=\"game\" src=./ImagenesCasillasLinja/CasillaRoja.png alt=\"\"></img></td><td><img class=\"game\" src=./ImagenesCasillasLinja/CasillaRoja.png alt=\"\"></img></td><td><img class=\"game\" src=./ImagenesCasillasLinja/CasillaRoja.png alt=\"\"></img></td><td><img class=\"game\" src=./ImagenesCasillasLinja/CasillaRoja.png alt=\"\"></img></td><td><img class=\"game\" src=./ImagenesCasillasLinja/CasillaRoja.png alt=\"\"></img></td></tr><tr><td>1</td><td><img class=\"game\" src=./ImagenesCasillasLinja/CasillaVacia.png alt=\"\"></img></td><td><img class=\"game\" src=./ImagenesCasillasLinja/CasillaVacia.png alt=\"\"></img></td><td><img class=\"game\" src=./ImagenesCasillasLinja/CasillaVacia.png alt=\"\"></img></td><td><img class=\"game\" src=./ImagenesCasillasLinja/CasillaVacia.png alt=\"\"></img></td><td><img class=\"game\" src=./ImagenesCasillasLinja/CasillaVacia.png alt=\"\"></img></td><td><img class=\"game\" src=./ImagenesCasillasLinja/CasillaVacia.png alt=\"\"></img></td></tr><tr><td>2</td><td><img class=\"game\" src=./ImagenesCasillasLinja/CasillaRoja.png alt=\"\"></img></td><td><img class=\"game\" src=./ImagenesCasillasLinja/CasillaVacia.png alt=\"\"></img></td><td><img class=\"game\" src=./ImagenesCasillasLinja/CasillaVacia.png alt=\"\"></img></td><td><img class=\"game\" src=./ImagenesCasillasLinja/CasillaVacia.png alt=\"\"></img></td><td><img class=\"game\" src=./ImagenesCasillasLinja/CasillaVacia.png alt=\"\"></img></td><td><img class=\"game\" src=./ImagenesCasillasLinja/CasillaVacia.png alt=\"\"></img></td></tr><tr><td>3</td><td><img class=\"game\" src=./ImagenesCasillasLinja/CasillaRoja.png alt=\"\"></img></td><td><img class=\"game\" src=./ImagenesCasillasLinja/CasillaVacia.png alt=\"\"></img></td><td><img class=\"game\" src=./ImagenesCasillasLinja/CasillaVacia.png alt=\"\"></img></td><td><img class=\"game\" src=./ImagenesCasillasLinja/CasillaVacia.png alt=\"\"></img></td><td><img class=\"game\" src=./ImagenesCasillasLinja/CasillaVacia.png alt=\"\"></img></td><td><img class=\"game\" src=./ImagenesCasillasLinja/CasillaVacia.png alt=\"\"></img></td></tr><tr><td>4</td><td><img class=\"game\" src=./ImagenesCasillasLinja/CasillaVacia.png alt=\"\"></img></td><td><img class=\"game\" src=./ImagenesCasillasLinja/CasillaNegra.png alt=\"\"></img></td><td><img class=\"game\" src=./ImagenesCasillasLinja/CasillaNegra.png alt=\"\"></img></td><td><img class=\"game\" src=./ImagenesCasillasLinja/CasillaNegra.png alt=\"\"></img></td><td><img class=\"game\" src=./ImagenesCasillasLinja/CasillaNegra.png alt=\"\"></img></td><td><img class=\"game\" src=./ImagenesCasillasLinja/CasillaVacia.png alt=\"\"></img></td></tr><tr><td>5</td><td><img class=\"game\" src=./ImagenesCasillasLinja/CasillaNegra.png alt=\"\"></img></td><td><img class=\"game\" src=./ImagenesCasillasLinja/CasillaNegra.png alt=\"\"></img></td><td><img class=\"game\" src=./ImagenesCasillasLinja/CasillaNegra.png alt=\"\"></img></td><td><img class=\"game\" src=./ImagenesCasillasLinja/CasillaNegra.png alt=\"\"></img></td><td><img class=\"game\" src=./ImagenesCasillasLinja/CasillaVacia.png alt=\"\"></img></td><td><img class=\"game\" src=./ImagenesCasillasLinja/CasillaVacia.png alt=\"\"></img></td></tr><tr><td>6</td><td><img class=\"game\" src=./ImagenesCasillasLinja/CasillaNegra.png alt=\"\"></img></td><td><img class=\"game\" src=./ImagenesCasillasLinja/CasillaNegra.png alt=\"\"></img></td><td><img class=\"game\" src=./ImagenesCasillasLinja/CasillaNegra.png alt=\"\"></img></td><td><img class=\"game\" src=./ImagenesCasillasLinja/CasillaVacia.png alt=\"\"></img></td><td><img class=\"game\" src=./ImagenesCasillasLinja/CasillaVacia.png alt=\"\"></img></td><td><img class=\"game\" src=./ImagenesCasillasLinja/CasillaVacia.png alt=\"\"></img></td></tr><tr><td>7</td><td><img class=\"game\" src=./ImagenesCasillasLinja/CasillaNegra.png alt=\"\"></img></td><td><img class=\"game\" src=./ImagenesCasillasLinja/CasillaVacia.png alt=\"\"></img></td><td><img class=\"game\" src=./ImagenesCasillasLinja/CasillaRoja.png alt=\"\"></img></td><td><img class=\"game\" src=./ImagenesCasillasLinja/CasillaRoja.png alt=\"\"></img></td><td><img class=\"game\" src=./ImagenesCasillasLinja/CasillaRoja.png alt=\"\"></img></td><td><img class=\"game\" src=./ImagenesCasillasLinja/CasillaRoja.png alt=\"\"></img></td></tr></table>"
      ],
      "text/plain": [
       "<IPython.core.display.HTML object>"
      ]
     },
     "metadata": {},
     "output_type": "display_data"
    },
    {
     "name": "stdout",
     "output_type": "stream",
     "text": [
      "\n",
      "\n",
      "\u001b[1m\u001b[38;5;232m\u001b[48;5;253m Jugador 1                         \u001b[0m\n"
     ]
    },
    {
     "data": {
      "text/html": [
       "<style> img.game {width: 30px !important; height: 25px !important;}</style><table><tr><td></td><td>0</td><td>1</td><td>2</td><td>3</td><td>4</td><td>5</td></tr><tr><td>0</td><td><img class=\"game\" src=./ImagenesCasillasLinja/CasillaRoja.png alt=\"\"></img></td><td><img class=\"game\" src=./ImagenesCasillasLinja/CasillaRoja.png alt=\"\"></img></td><td><img class=\"game\" src=./ImagenesCasillasLinja/CasillaRoja.png alt=\"\"></img></td><td><img class=\"game\" src=./ImagenesCasillasLinja/CasillaRoja.png alt=\"\"></img></td><td><img class=\"game\" src=./ImagenesCasillasLinja/CasillaRoja.png alt=\"\"></img></td><td><img class=\"game\" src=./ImagenesCasillasLinja/CasillaRoja.png alt=\"\"></img></td></tr><tr><td>1</td><td><img class=\"game\" src=./ImagenesCasillasLinja/CasillaVacia.png alt=\"\"></img></td><td><img class=\"game\" src=./ImagenesCasillasLinja/CasillaVacia.png alt=\"\"></img></td><td><img class=\"game\" src=./ImagenesCasillasLinja/CasillaVacia.png alt=\"\"></img></td><td><img class=\"game\" src=./ImagenesCasillasLinja/CasillaVacia.png alt=\"\"></img></td><td><img class=\"game\" src=./ImagenesCasillasLinja/CasillaVacia.png alt=\"\"></img></td><td><img class=\"game\" src=./ImagenesCasillasLinja/CasillaVacia.png alt=\"\"></img></td></tr><tr><td>2</td><td><img class=\"game\" src=./ImagenesCasillasLinja/CasillaRoja.png alt=\"\"></img></td><td><img class=\"game\" src=./ImagenesCasillasLinja/CasillaVacia.png alt=\"\"></img></td><td><img class=\"game\" src=./ImagenesCasillasLinja/CasillaVacia.png alt=\"\"></img></td><td><img class=\"game\" src=./ImagenesCasillasLinja/CasillaVacia.png alt=\"\"></img></td><td><img class=\"game\" src=./ImagenesCasillasLinja/CasillaVacia.png alt=\"\"></img></td><td><img class=\"game\" src=./ImagenesCasillasLinja/CasillaVacia.png alt=\"\"></img></td></tr><tr><td>3</td><td><img class=\"game\" src=./ImagenesCasillasLinja/CasillaRoja.png alt=\"\"></img></td><td><img class=\"game\" src=./ImagenesCasillasLinja/CasillaVacia.png alt=\"\"></img></td><td><img class=\"game\" src=./ImagenesCasillasLinja/CasillaVacia.png alt=\"\"></img></td><td><img class=\"game\" src=./ImagenesCasillasLinja/CasillaVacia.png alt=\"\"></img></td><td><img class=\"game\" src=./ImagenesCasillasLinja/CasillaVacia.png alt=\"\"></img></td><td><img class=\"game\" src=./ImagenesCasillasLinja/CasillaVacia.png alt=\"\"></img></td></tr><tr><td>4</td><td><img class=\"game\" src=./ImagenesCasillasLinja/CasillaVacia.png alt=\"\"></img></td><td><img class=\"game\" src=./ImagenesCasillasLinja/CasillaVacia.png alt=\"\"></img></td><td><img class=\"game\" src=./ImagenesCasillasLinja/CasillaNegra.png alt=\"\"></img></td><td><img class=\"game\" src=./ImagenesCasillasLinja/CasillaNegra.png alt=\"\"></img></td><td><img class=\"game\" src=./ImagenesCasillasLinja/CasillaNegra.png alt=\"\"></img></td><td><img class=\"game\" src=./ImagenesCasillasLinja/CasillaVacia.png alt=\"\"></img></td></tr><tr><td>5</td><td><img class=\"game\" src=./ImagenesCasillasLinja/CasillaVacia.png alt=\"\"></img></td><td><img class=\"game\" src=./ImagenesCasillasLinja/CasillaNegra.png alt=\"\"></img></td><td><img class=\"game\" src=./ImagenesCasillasLinja/CasillaNegra.png alt=\"\"></img></td><td><img class=\"game\" src=./ImagenesCasillasLinja/CasillaNegra.png alt=\"\"></img></td><td><img class=\"game\" src=./ImagenesCasillasLinja/CasillaVacia.png alt=\"\"></img></td><td><img class=\"game\" src=./ImagenesCasillasLinja/CasillaVacia.png alt=\"\"></img></td></tr><tr><td>6</td><td><img class=\"game\" src=./ImagenesCasillasLinja/CasillaNegra.png alt=\"\"></img></td><td><img class=\"game\" src=./ImagenesCasillasLinja/CasillaNegra.png alt=\"\"></img></td><td><img class=\"game\" src=./ImagenesCasillasLinja/CasillaNegra.png alt=\"\"></img></td><td><img class=\"game\" src=./ImagenesCasillasLinja/CasillaNegra.png alt=\"\"></img></td><td><img class=\"game\" src=./ImagenesCasillasLinja/CasillaVacia.png alt=\"\"></img></td><td><img class=\"game\" src=./ImagenesCasillasLinja/CasillaVacia.png alt=\"\"></img></td></tr><tr><td>7</td><td><img class=\"game\" src=./ImagenesCasillasLinja/CasillaNegra.png alt=\"\"></img></td><td><img class=\"game\" src=./ImagenesCasillasLinja/CasillaNegra.png alt=\"\"></img></td><td><img class=\"game\" src=./ImagenesCasillasLinja/CasillaRoja.png alt=\"\"></img></td><td><img class=\"game\" src=./ImagenesCasillasLinja/CasillaRoja.png alt=\"\"></img></td><td><img class=\"game\" src=./ImagenesCasillasLinja/CasillaRoja.png alt=\"\"></img></td><td><img class=\"game\" src=./ImagenesCasillasLinja/CasillaRoja.png alt=\"\"></img></td></tr></table>"
      ],
      "text/plain": [
       "<IPython.core.display.HTML object>"
      ]
     },
     "metadata": {},
     "output_type": "display_data"
    },
    {
     "name": "stdout",
     "output_type": "stream",
     "text": [
      "\n",
      "\n",
      "\u001b[1m\u001b[38;5;160m\u001b[48;5;223m                         Jugador 2 \u001b[0m\n"
     ]
    },
    {
     "data": {
      "text/html": [
       "<style> img.game {width: 30px !important; height: 25px !important;}</style><table><tr><td></td><td>0</td><td>1</td><td>2</td><td>3</td><td>4</td><td>5</td></tr><tr><td>0</td><td><img class=\"game\" src=./ImagenesCasillasLinja/CasillaRoja.png alt=\"\"></img></td><td><img class=\"game\" src=./ImagenesCasillasLinja/CasillaRoja.png alt=\"\"></img></td><td><img class=\"game\" src=./ImagenesCasillasLinja/CasillaRoja.png alt=\"\"></img></td><td><img class=\"game\" src=./ImagenesCasillasLinja/CasillaRoja.png alt=\"\"></img></td><td><img class=\"game\" src=./ImagenesCasillasLinja/CasillaRoja.png alt=\"\"></img></td><td><img class=\"game\" src=./ImagenesCasillasLinja/CasillaRoja.png alt=\"\"></img></td></tr><tr><td>1</td><td><img class=\"game\" src=./ImagenesCasillasLinja/CasillaRoja.png alt=\"\"></img></td><td><img class=\"game\" src=./ImagenesCasillasLinja/CasillaVacia.png alt=\"\"></img></td><td><img class=\"game\" src=./ImagenesCasillasLinja/CasillaVacia.png alt=\"\"></img></td><td><img class=\"game\" src=./ImagenesCasillasLinja/CasillaVacia.png alt=\"\"></img></td><td><img class=\"game\" src=./ImagenesCasillasLinja/CasillaVacia.png alt=\"\"></img></td><td><img class=\"game\" src=./ImagenesCasillasLinja/CasillaVacia.png alt=\"\"></img></td></tr><tr><td>2</td><td><img class=\"game\" src=./ImagenesCasillasLinja/CasillaVacia.png alt=\"\"></img></td><td><img class=\"game\" src=./ImagenesCasillasLinja/CasillaRoja.png alt=\"\"></img></td><td><img class=\"game\" src=./ImagenesCasillasLinja/CasillaVacia.png alt=\"\"></img></td><td><img class=\"game\" src=./ImagenesCasillasLinja/CasillaVacia.png alt=\"\"></img></td><td><img class=\"game\" src=./ImagenesCasillasLinja/CasillaVacia.png alt=\"\"></img></td><td><img class=\"game\" src=./ImagenesCasillasLinja/CasillaVacia.png alt=\"\"></img></td></tr><tr><td>3</td><td><img class=\"game\" src=./ImagenesCasillasLinja/CasillaVacia.png alt=\"\"></img></td><td><img class=\"game\" src=./ImagenesCasillasLinja/CasillaVacia.png alt=\"\"></img></td><td><img class=\"game\" src=./ImagenesCasillasLinja/CasillaVacia.png alt=\"\"></img></td><td><img class=\"game\" src=./ImagenesCasillasLinja/CasillaVacia.png alt=\"\"></img></td><td><img class=\"game\" src=./ImagenesCasillasLinja/CasillaVacia.png alt=\"\"></img></td><td><img class=\"game\" src=./ImagenesCasillasLinja/CasillaVacia.png alt=\"\"></img></td></tr><tr><td>4</td><td><img class=\"game\" src=./ImagenesCasillasLinja/CasillaVacia.png alt=\"\"></img></td><td><img class=\"game\" src=./ImagenesCasillasLinja/CasillaVacia.png alt=\"\"></img></td><td><img class=\"game\" src=./ImagenesCasillasLinja/CasillaNegra.png alt=\"\"></img></td><td><img class=\"game\" src=./ImagenesCasillasLinja/CasillaNegra.png alt=\"\"></img></td><td><img class=\"game\" src=./ImagenesCasillasLinja/CasillaNegra.png alt=\"\"></img></td><td><img class=\"game\" src=./ImagenesCasillasLinja/CasillaVacia.png alt=\"\"></img></td></tr><tr><td>5</td><td><img class=\"game\" src=./ImagenesCasillasLinja/CasillaVacia.png alt=\"\"></img></td><td><img class=\"game\" src=./ImagenesCasillasLinja/CasillaNegra.png alt=\"\"></img></td><td><img class=\"game\" src=./ImagenesCasillasLinja/CasillaNegra.png alt=\"\"></img></td><td><img class=\"game\" src=./ImagenesCasillasLinja/CasillaNegra.png alt=\"\"></img></td><td><img class=\"game\" src=./ImagenesCasillasLinja/CasillaVacia.png alt=\"\"></img></td><td><img class=\"game\" src=./ImagenesCasillasLinja/CasillaVacia.png alt=\"\"></img></td></tr><tr><td>6</td><td><img class=\"game\" src=./ImagenesCasillasLinja/CasillaNegra.png alt=\"\"></img></td><td><img class=\"game\" src=./ImagenesCasillasLinja/CasillaNegra.png alt=\"\"></img></td><td><img class=\"game\" src=./ImagenesCasillasLinja/CasillaNegra.png alt=\"\"></img></td><td><img class=\"game\" src=./ImagenesCasillasLinja/CasillaNegra.png alt=\"\"></img></td><td><img class=\"game\" src=./ImagenesCasillasLinja/CasillaVacia.png alt=\"\"></img></td><td><img class=\"game\" src=./ImagenesCasillasLinja/CasillaVacia.png alt=\"\"></img></td></tr><tr><td>7</td><td><img class=\"game\" src=./ImagenesCasillasLinja/CasillaNegra.png alt=\"\"></img></td><td><img class=\"game\" src=./ImagenesCasillasLinja/CasillaNegra.png alt=\"\"></img></td><td><img class=\"game\" src=./ImagenesCasillasLinja/CasillaRoja.png alt=\"\"></img></td><td><img class=\"game\" src=./ImagenesCasillasLinja/CasillaRoja.png alt=\"\"></img></td><td><img class=\"game\" src=./ImagenesCasillasLinja/CasillaRoja.png alt=\"\"></img></td><td><img class=\"game\" src=./ImagenesCasillasLinja/CasillaRoja.png alt=\"\"></img></td></tr></table>"
      ],
      "text/plain": [
       "<IPython.core.display.HTML object>"
      ]
     },
     "metadata": {},
     "output_type": "display_data"
    },
    {
     "name": "stdout",
     "output_type": "stream",
     "text": [
      "\n",
      "\n",
      "\u001b[1m\u001b[38;5;232m\u001b[48;5;253m Jugador 1                         \u001b[0m\n"
     ]
    },
    {
     "data": {
      "text/html": [
       "<style> img.game {width: 30px !important; height: 25px !important;}</style><table><tr><td></td><td>0</td><td>1</td><td>2</td><td>3</td><td>4</td><td>5</td></tr><tr><td>0</td><td><img class=\"game\" src=./ImagenesCasillasLinja/CasillaRoja.png alt=\"\"></img></td><td><img class=\"game\" src=./ImagenesCasillasLinja/CasillaRoja.png alt=\"\"></img></td><td><img class=\"game\" src=./ImagenesCasillasLinja/CasillaRoja.png alt=\"\"></img></td><td><img class=\"game\" src=./ImagenesCasillasLinja/CasillaRoja.png alt=\"\"></img></td><td><img class=\"game\" src=./ImagenesCasillasLinja/CasillaRoja.png alt=\"\"></img></td><td><img class=\"game\" src=./ImagenesCasillasLinja/CasillaRoja.png alt=\"\"></img></td></tr><tr><td>1</td><td><img class=\"game\" src=./ImagenesCasillasLinja/CasillaRoja.png alt=\"\"></img></td><td><img class=\"game\" src=./ImagenesCasillasLinja/CasillaVacia.png alt=\"\"></img></td><td><img class=\"game\" src=./ImagenesCasillasLinja/CasillaVacia.png alt=\"\"></img></td><td><img class=\"game\" src=./ImagenesCasillasLinja/CasillaVacia.png alt=\"\"></img></td><td><img class=\"game\" src=./ImagenesCasillasLinja/CasillaVacia.png alt=\"\"></img></td><td><img class=\"game\" src=./ImagenesCasillasLinja/CasillaVacia.png alt=\"\"></img></td></tr><tr><td>2</td><td><img class=\"game\" src=./ImagenesCasillasLinja/CasillaVacia.png alt=\"\"></img></td><td><img class=\"game\" src=./ImagenesCasillasLinja/CasillaRoja.png alt=\"\"></img></td><td><img class=\"game\" src=./ImagenesCasillasLinja/CasillaVacia.png alt=\"\"></img></td><td><img class=\"game\" src=./ImagenesCasillasLinja/CasillaVacia.png alt=\"\"></img></td><td><img class=\"game\" src=./ImagenesCasillasLinja/CasillaVacia.png alt=\"\"></img></td><td><img class=\"game\" src=./ImagenesCasillasLinja/CasillaVacia.png alt=\"\"></img></td></tr><tr><td>3</td><td><img class=\"game\" src=./ImagenesCasillasLinja/CasillaVacia.png alt=\"\"></img></td><td><img class=\"game\" src=./ImagenesCasillasLinja/CasillaVacia.png alt=\"\"></img></td><td><img class=\"game\" src=./ImagenesCasillasLinja/CasillaVacia.png alt=\"\"></img></td><td><img class=\"game\" src=./ImagenesCasillasLinja/CasillaVacia.png alt=\"\"></img></td><td><img class=\"game\" src=./ImagenesCasillasLinja/CasillaVacia.png alt=\"\"></img></td><td><img class=\"game\" src=./ImagenesCasillasLinja/CasillaVacia.png alt=\"\"></img></td></tr><tr><td>4</td><td><img class=\"game\" src=./ImagenesCasillasLinja/CasillaVacia.png alt=\"\"></img></td><td><img class=\"game\" src=./ImagenesCasillasLinja/CasillaVacia.png alt=\"\"></img></td><td><img class=\"game\" src=./ImagenesCasillasLinja/CasillaNegra.png alt=\"\"></img></td><td><img class=\"game\" src=./ImagenesCasillasLinja/CasillaNegra.png alt=\"\"></img></td><td><img class=\"game\" src=./ImagenesCasillasLinja/CasillaNegra.png alt=\"\"></img></td><td><img class=\"game\" src=./ImagenesCasillasLinja/CasillaVacia.png alt=\"\"></img></td></tr><tr><td>5</td><td><img class=\"game\" src=./ImagenesCasillasLinja/CasillaVacia.png alt=\"\"></img></td><td><img class=\"game\" src=./ImagenesCasillasLinja/CasillaNegra.png alt=\"\"></img></td><td><img class=\"game\" src=./ImagenesCasillasLinja/CasillaNegra.png alt=\"\"></img></td><td><img class=\"game\" src=./ImagenesCasillasLinja/CasillaNegra.png alt=\"\"></img></td><td><img class=\"game\" src=./ImagenesCasillasLinja/CasillaVacia.png alt=\"\"></img></td><td><img class=\"game\" src=./ImagenesCasillasLinja/CasillaVacia.png alt=\"\"></img></td></tr><tr><td>6</td><td><img class=\"game\" src=./ImagenesCasillasLinja/CasillaNegra.png alt=\"\"></img></td><td><img class=\"game\" src=./ImagenesCasillasLinja/CasillaNegra.png alt=\"\"></img></td><td><img class=\"game\" src=./ImagenesCasillasLinja/CasillaNegra.png alt=\"\"></img></td><td><img class=\"game\" src=./ImagenesCasillasLinja/CasillaNegra.png alt=\"\"></img></td><td><img class=\"game\" src=./ImagenesCasillasLinja/CasillaVacia.png alt=\"\"></img></td><td><img class=\"game\" src=./ImagenesCasillasLinja/CasillaVacia.png alt=\"\"></img></td></tr><tr><td>7</td><td><img class=\"game\" src=./ImagenesCasillasLinja/CasillaNegra.png alt=\"\"></img></td><td><img class=\"game\" src=./ImagenesCasillasLinja/CasillaNegra.png alt=\"\"></img></td><td><img class=\"game\" src=./ImagenesCasillasLinja/CasillaRoja.png alt=\"\"></img></td><td><img class=\"game\" src=./ImagenesCasillasLinja/CasillaRoja.png alt=\"\"></img></td><td><img class=\"game\" src=./ImagenesCasillasLinja/CasillaRoja.png alt=\"\"></img></td><td><img class=\"game\" src=./ImagenesCasillasLinja/CasillaRoja.png alt=\"\"></img></td></tr></table>"
      ],
      "text/plain": [
       "<IPython.core.display.HTML object>"
      ]
     },
     "metadata": {},
     "output_type": "display_data"
    },
    {
     "name": "stdout",
     "output_type": "stream",
     "text": [
      "\n",
      "\n",
      "\u001b[1m\u001b[38;5;160m\u001b[48;5;223m                         Jugador 2 \u001b[0m\n"
     ]
    },
    {
     "data": {
      "text/html": [
       "<style> img.game {width: 30px !important; height: 25px !important;}</style><table><tr><td></td><td>0</td><td>1</td><td>2</td><td>3</td><td>4</td><td>5</td></tr><tr><td>0</td><td><img class=\"game\" src=./ImagenesCasillasLinja/CasillaRoja.png alt=\"\"></img></td><td><img class=\"game\" src=./ImagenesCasillasLinja/CasillaRoja.png alt=\"\"></img></td><td><img class=\"game\" src=./ImagenesCasillasLinja/CasillaRoja.png alt=\"\"></img></td><td><img class=\"game\" src=./ImagenesCasillasLinja/CasillaRoja.png alt=\"\"></img></td><td><img class=\"game\" src=./ImagenesCasillasLinja/CasillaRoja.png alt=\"\"></img></td><td><img class=\"game\" src=./ImagenesCasillasLinja/CasillaRoja.png alt=\"\"></img></td></tr><tr><td>1</td><td><img class=\"game\" src=./ImagenesCasillasLinja/CasillaRoja.png alt=\"\"></img></td><td><img class=\"game\" src=./ImagenesCasillasLinja/CasillaRoja.png alt=\"\"></img></td><td><img class=\"game\" src=./ImagenesCasillasLinja/CasillaVacia.png alt=\"\"></img></td><td><img class=\"game\" src=./ImagenesCasillasLinja/CasillaVacia.png alt=\"\"></img></td><td><img class=\"game\" src=./ImagenesCasillasLinja/CasillaVacia.png alt=\"\"></img></td><td><img class=\"game\" src=./ImagenesCasillasLinja/CasillaVacia.png alt=\"\"></img></td></tr><tr><td>2</td><td><img class=\"game\" src=./ImagenesCasillasLinja/CasillaVacia.png alt=\"\"></img></td><td><img class=\"game\" src=./ImagenesCasillasLinja/CasillaVacia.png alt=\"\"></img></td><td><img class=\"game\" src=./ImagenesCasillasLinja/CasillaVacia.png alt=\"\"></img></td><td><img class=\"game\" src=./ImagenesCasillasLinja/CasillaVacia.png alt=\"\"></img></td><td><img class=\"game\" src=./ImagenesCasillasLinja/CasillaVacia.png alt=\"\"></img></td><td><img class=\"game\" src=./ImagenesCasillasLinja/CasillaVacia.png alt=\"\"></img></td></tr><tr><td>3</td><td><img class=\"game\" src=./ImagenesCasillasLinja/CasillaVacia.png alt=\"\"></img></td><td><img class=\"game\" src=./ImagenesCasillasLinja/CasillaVacia.png alt=\"\"></img></td><td><img class=\"game\" src=./ImagenesCasillasLinja/CasillaVacia.png alt=\"\"></img></td><td><img class=\"game\" src=./ImagenesCasillasLinja/CasillaVacia.png alt=\"\"></img></td><td><img class=\"game\" src=./ImagenesCasillasLinja/CasillaVacia.png alt=\"\"></img></td><td><img class=\"game\" src=./ImagenesCasillasLinja/CasillaVacia.png alt=\"\"></img></td></tr><tr><td>4</td><td><img class=\"game\" src=./ImagenesCasillasLinja/CasillaVacia.png alt=\"\"></img></td><td><img class=\"game\" src=./ImagenesCasillasLinja/CasillaVacia.png alt=\"\"></img></td><td><img class=\"game\" src=./ImagenesCasillasLinja/CasillaNegra.png alt=\"\"></img></td><td><img class=\"game\" src=./ImagenesCasillasLinja/CasillaNegra.png alt=\"\"></img></td><td><img class=\"game\" src=./ImagenesCasillasLinja/CasillaNegra.png alt=\"\"></img></td><td><img class=\"game\" src=./ImagenesCasillasLinja/CasillaVacia.png alt=\"\"></img></td></tr><tr><td>5</td><td><img class=\"game\" src=./ImagenesCasillasLinja/CasillaVacia.png alt=\"\"></img></td><td><img class=\"game\" src=./ImagenesCasillasLinja/CasillaNegra.png alt=\"\"></img></td><td><img class=\"game\" src=./ImagenesCasillasLinja/CasillaNegra.png alt=\"\"></img></td><td><img class=\"game\" src=./ImagenesCasillasLinja/CasillaNegra.png alt=\"\"></img></td><td><img class=\"game\" src=./ImagenesCasillasLinja/CasillaVacia.png alt=\"\"></img></td><td><img class=\"game\" src=./ImagenesCasillasLinja/CasillaVacia.png alt=\"\"></img></td></tr><tr><td>6</td><td><img class=\"game\" src=./ImagenesCasillasLinja/CasillaNegra.png alt=\"\"></img></td><td><img class=\"game\" src=./ImagenesCasillasLinja/CasillaNegra.png alt=\"\"></img></td><td><img class=\"game\" src=./ImagenesCasillasLinja/CasillaNegra.png alt=\"\"></img></td><td><img class=\"game\" src=./ImagenesCasillasLinja/CasillaNegra.png alt=\"\"></img></td><td><img class=\"game\" src=./ImagenesCasillasLinja/CasillaRoja.png alt=\"\"></img></td><td><img class=\"game\" src=./ImagenesCasillasLinja/CasillaVacia.png alt=\"\"></img></td></tr><tr><td>7</td><td><img class=\"game\" src=./ImagenesCasillasLinja/CasillaNegra.png alt=\"\"></img></td><td><img class=\"game\" src=./ImagenesCasillasLinja/CasillaNegra.png alt=\"\"></img></td><td><img class=\"game\" src=./ImagenesCasillasLinja/CasillaVacia.png alt=\"\"></img></td><td><img class=\"game\" src=./ImagenesCasillasLinja/CasillaRoja.png alt=\"\"></img></td><td><img class=\"game\" src=./ImagenesCasillasLinja/CasillaRoja.png alt=\"\"></img></td><td><img class=\"game\" src=./ImagenesCasillasLinja/CasillaRoja.png alt=\"\"></img></td></tr></table>"
      ],
      "text/plain": [
       "<IPython.core.display.HTML object>"
      ]
     },
     "metadata": {},
     "output_type": "display_data"
    },
    {
     "name": "stdout",
     "output_type": "stream",
     "text": [
      "\n",
      "\n",
      "\u001b[1m\u001b[38;5;232m\u001b[48;5;253m Jugador 1                         \u001b[0m\n"
     ]
    },
    {
     "data": {
      "text/html": [
       "<style> img.game {width: 30px !important; height: 25px !important;}</style><table><tr><td></td><td>0</td><td>1</td><td>2</td><td>3</td><td>4</td><td>5</td></tr><tr><td>0</td><td><img class=\"game\" src=./ImagenesCasillasLinja/CasillaRoja.png alt=\"\"></img></td><td><img class=\"game\" src=./ImagenesCasillasLinja/CasillaRoja.png alt=\"\"></img></td><td><img class=\"game\" src=./ImagenesCasillasLinja/CasillaRoja.png alt=\"\"></img></td><td><img class=\"game\" src=./ImagenesCasillasLinja/CasillaRoja.png alt=\"\"></img></td><td><img class=\"game\" src=./ImagenesCasillasLinja/CasillaRoja.png alt=\"\"></img></td><td><img class=\"game\" src=./ImagenesCasillasLinja/CasillaRoja.png alt=\"\"></img></td></tr><tr><td>1</td><td><img class=\"game\" src=./ImagenesCasillasLinja/CasillaRoja.png alt=\"\"></img></td><td><img class=\"game\" src=./ImagenesCasillasLinja/CasillaRoja.png alt=\"\"></img></td><td><img class=\"game\" src=./ImagenesCasillasLinja/CasillaVacia.png alt=\"\"></img></td><td><img class=\"game\" src=./ImagenesCasillasLinja/CasillaVacia.png alt=\"\"></img></td><td><img class=\"game\" src=./ImagenesCasillasLinja/CasillaVacia.png alt=\"\"></img></td><td><img class=\"game\" src=./ImagenesCasillasLinja/CasillaVacia.png alt=\"\"></img></td></tr><tr><td>2</td><td><img class=\"game\" src=./ImagenesCasillasLinja/CasillaVacia.png alt=\"\"></img></td><td><img class=\"game\" src=./ImagenesCasillasLinja/CasillaVacia.png alt=\"\"></img></td><td><img class=\"game\" src=./ImagenesCasillasLinja/CasillaVacia.png alt=\"\"></img></td><td><img class=\"game\" src=./ImagenesCasillasLinja/CasillaVacia.png alt=\"\"></img></td><td><img class=\"game\" src=./ImagenesCasillasLinja/CasillaVacia.png alt=\"\"></img></td><td><img class=\"game\" src=./ImagenesCasillasLinja/CasillaVacia.png alt=\"\"></img></td></tr><tr><td>3</td><td><img class=\"game\" src=./ImagenesCasillasLinja/CasillaVacia.png alt=\"\"></img></td><td><img class=\"game\" src=./ImagenesCasillasLinja/CasillaVacia.png alt=\"\"></img></td><td><img class=\"game\" src=./ImagenesCasillasLinja/CasillaVacia.png alt=\"\"></img></td><td><img class=\"game\" src=./ImagenesCasillasLinja/CasillaVacia.png alt=\"\"></img></td><td><img class=\"game\" src=./ImagenesCasillasLinja/CasillaVacia.png alt=\"\"></img></td><td><img class=\"game\" src=./ImagenesCasillasLinja/CasillaVacia.png alt=\"\"></img></td></tr><tr><td>4</td><td><img class=\"game\" src=./ImagenesCasillasLinja/CasillaVacia.png alt=\"\"></img></td><td><img class=\"game\" src=./ImagenesCasillasLinja/CasillaVacia.png alt=\"\"></img></td><td><img class=\"game\" src=./ImagenesCasillasLinja/CasillaVacia.png alt=\"\"></img></td><td><img class=\"game\" src=./ImagenesCasillasLinja/CasillaVacia.png alt=\"\"></img></td><td><img class=\"game\" src=./ImagenesCasillasLinja/CasillaNegra.png alt=\"\"></img></td><td><img class=\"game\" src=./ImagenesCasillasLinja/CasillaVacia.png alt=\"\"></img></td></tr><tr><td>5</td><td><img class=\"game\" src=./ImagenesCasillasLinja/CasillaNegra.png alt=\"\"></img></td><td><img class=\"game\" src=./ImagenesCasillasLinja/CasillaNegra.png alt=\"\"></img></td><td><img class=\"game\" src=./ImagenesCasillasLinja/CasillaNegra.png alt=\"\"></img></td><td><img class=\"game\" src=./ImagenesCasillasLinja/CasillaNegra.png alt=\"\"></img></td><td><img class=\"game\" src=./ImagenesCasillasLinja/CasillaVacia.png alt=\"\"></img></td><td><img class=\"game\" src=./ImagenesCasillasLinja/CasillaVacia.png alt=\"\"></img></td></tr><tr><td>6</td><td><img class=\"game\" src=./ImagenesCasillasLinja/CasillaNegra.png alt=\"\"></img></td><td><img class=\"game\" src=./ImagenesCasillasLinja/CasillaNegra.png alt=\"\"></img></td><td><img class=\"game\" src=./ImagenesCasillasLinja/CasillaNegra.png alt=\"\"></img></td><td><img class=\"game\" src=./ImagenesCasillasLinja/CasillaNegra.png alt=\"\"></img></td><td><img class=\"game\" src=./ImagenesCasillasLinja/CasillaRoja.png alt=\"\"></img></td><td><img class=\"game\" src=./ImagenesCasillasLinja/CasillaVacia.png alt=\"\"></img></td></tr><tr><td>7</td><td><img class=\"game\" src=./ImagenesCasillasLinja/CasillaNegra.png alt=\"\"></img></td><td><img class=\"game\" src=./ImagenesCasillasLinja/CasillaNegra.png alt=\"\"></img></td><td><img class=\"game\" src=./ImagenesCasillasLinja/CasillaNegra.png alt=\"\"></img></td><td><img class=\"game\" src=./ImagenesCasillasLinja/CasillaRoja.png alt=\"\"></img></td><td><img class=\"game\" src=./ImagenesCasillasLinja/CasillaRoja.png alt=\"\"></img></td><td><img class=\"game\" src=./ImagenesCasillasLinja/CasillaRoja.png alt=\"\"></img></td></tr></table>"
      ],
      "text/plain": [
       "<IPython.core.display.HTML object>"
      ]
     },
     "metadata": {},
     "output_type": "display_data"
    },
    {
     "name": "stdout",
     "output_type": "stream",
     "text": [
      "\n",
      "\n",
      "\u001b[1m\u001b[38;5;160m\u001b[48;5;223m                         Jugador 2 \u001b[0m\n"
     ]
    },
    {
     "data": {
      "text/html": [
       "<style> img.game {width: 30px !important; height: 25px !important;}</style><table><tr><td></td><td>0</td><td>1</td><td>2</td><td>3</td><td>4</td><td>5</td></tr><tr><td>0</td><td><img class=\"game\" src=./ImagenesCasillasLinja/CasillaRoja.png alt=\"\"></img></td><td><img class=\"game\" src=./ImagenesCasillasLinja/CasillaRoja.png alt=\"\"></img></td><td><img class=\"game\" src=./ImagenesCasillasLinja/CasillaRoja.png alt=\"\"></img></td><td><img class=\"game\" src=./ImagenesCasillasLinja/CasillaRoja.png alt=\"\"></img></td><td><img class=\"game\" src=./ImagenesCasillasLinja/CasillaRoja.png alt=\"\"></img></td><td><img class=\"game\" src=./ImagenesCasillasLinja/CasillaRoja.png alt=\"\"></img></td></tr><tr><td>1</td><td><img class=\"game\" src=./ImagenesCasillasLinja/CasillaRoja.png alt=\"\"></img></td><td><img class=\"game\" src=./ImagenesCasillasLinja/CasillaRoja.png alt=\"\"></img></td><td><img class=\"game\" src=./ImagenesCasillasLinja/CasillaRoja.png alt=\"\"></img></td><td><img class=\"game\" src=./ImagenesCasillasLinja/CasillaVacia.png alt=\"\"></img></td><td><img class=\"game\" src=./ImagenesCasillasLinja/CasillaVacia.png alt=\"\"></img></td><td><img class=\"game\" src=./ImagenesCasillasLinja/CasillaVacia.png alt=\"\"></img></td></tr><tr><td>2</td><td><img class=\"game\" src=./ImagenesCasillasLinja/CasillaVacia.png alt=\"\"></img></td><td><img class=\"game\" src=./ImagenesCasillasLinja/CasillaVacia.png alt=\"\"></img></td><td><img class=\"game\" src=./ImagenesCasillasLinja/CasillaVacia.png alt=\"\"></img></td><td><img class=\"game\" src=./ImagenesCasillasLinja/CasillaVacia.png alt=\"\"></img></td><td><img class=\"game\" src=./ImagenesCasillasLinja/CasillaVacia.png alt=\"\"></img></td><td><img class=\"game\" src=./ImagenesCasillasLinja/CasillaVacia.png alt=\"\"></img></td></tr><tr><td>3</td><td><img class=\"game\" src=./ImagenesCasillasLinja/CasillaVacia.png alt=\"\"></img></td><td><img class=\"game\" src=./ImagenesCasillasLinja/CasillaVacia.png alt=\"\"></img></td><td><img class=\"game\" src=./ImagenesCasillasLinja/CasillaVacia.png alt=\"\"></img></td><td><img class=\"game\" src=./ImagenesCasillasLinja/CasillaVacia.png alt=\"\"></img></td><td><img class=\"game\" src=./ImagenesCasillasLinja/CasillaVacia.png alt=\"\"></img></td><td><img class=\"game\" src=./ImagenesCasillasLinja/CasillaVacia.png alt=\"\"></img></td></tr><tr><td>4</td><td><img class=\"game\" src=./ImagenesCasillasLinja/CasillaVacia.png alt=\"\"></img></td><td><img class=\"game\" src=./ImagenesCasillasLinja/CasillaVacia.png alt=\"\"></img></td><td><img class=\"game\" src=./ImagenesCasillasLinja/CasillaVacia.png alt=\"\"></img></td><td><img class=\"game\" src=./ImagenesCasillasLinja/CasillaVacia.png alt=\"\"></img></td><td><img class=\"game\" src=./ImagenesCasillasLinja/CasillaNegra.png alt=\"\"></img></td><td><img class=\"game\" src=./ImagenesCasillasLinja/CasillaVacia.png alt=\"\"></img></td></tr><tr><td>5</td><td><img class=\"game\" src=./ImagenesCasillasLinja/CasillaNegra.png alt=\"\"></img></td><td><img class=\"game\" src=./ImagenesCasillasLinja/CasillaNegra.png alt=\"\"></img></td><td><img class=\"game\" src=./ImagenesCasillasLinja/CasillaNegra.png alt=\"\"></img></td><td><img class=\"game\" src=./ImagenesCasillasLinja/CasillaNegra.png alt=\"\"></img></td><td><img class=\"game\" src=./ImagenesCasillasLinja/CasillaVacia.png alt=\"\"></img></td><td><img class=\"game\" src=./ImagenesCasillasLinja/CasillaVacia.png alt=\"\"></img></td></tr><tr><td>6</td><td><img class=\"game\" src=./ImagenesCasillasLinja/CasillaNegra.png alt=\"\"></img></td><td><img class=\"game\" src=./ImagenesCasillasLinja/CasillaNegra.png alt=\"\"></img></td><td><img class=\"game\" src=./ImagenesCasillasLinja/CasillaNegra.png alt=\"\"></img></td><td><img class=\"game\" src=./ImagenesCasillasLinja/CasillaNegra.png alt=\"\"></img></td><td><img class=\"game\" src=./ImagenesCasillasLinja/CasillaVacia.png alt=\"\"></img></td><td><img class=\"game\" src=./ImagenesCasillasLinja/CasillaVacia.png alt=\"\"></img></td></tr><tr><td>7</td><td><img class=\"game\" src=./ImagenesCasillasLinja/CasillaNegra.png alt=\"\"></img></td><td><img class=\"game\" src=./ImagenesCasillasLinja/CasillaNegra.png alt=\"\"></img></td><td><img class=\"game\" src=./ImagenesCasillasLinja/CasillaNegra.png alt=\"\"></img></td><td><img class=\"game\" src=./ImagenesCasillasLinja/CasillaRoja.png alt=\"\"></img></td><td><img class=\"game\" src=./ImagenesCasillasLinja/CasillaRoja.png alt=\"\"></img></td><td><img class=\"game\" src=./ImagenesCasillasLinja/CasillaRoja.png alt=\"\"></img></td></tr></table>"
      ],
      "text/plain": [
       "<IPython.core.display.HTML object>"
      ]
     },
     "metadata": {},
     "output_type": "display_data"
    },
    {
     "name": "stdout",
     "output_type": "stream",
     "text": [
      "\n",
      "\n",
      "\u001b[1m\u001b[38;5;232m\u001b[48;5;253m Jugador 1                         \u001b[0m\n"
     ]
    },
    {
     "data": {
      "text/html": [
       "<style> img.game {width: 30px !important; height: 25px !important;}</style><table><tr><td></td><td>0</td><td>1</td><td>2</td><td>3</td><td>4</td><td>5</td></tr><tr><td>0</td><td><img class=\"game\" src=./ImagenesCasillasLinja/CasillaRoja.png alt=\"\"></img></td><td><img class=\"game\" src=./ImagenesCasillasLinja/CasillaRoja.png alt=\"\"></img></td><td><img class=\"game\" src=./ImagenesCasillasLinja/CasillaRoja.png alt=\"\"></img></td><td><img class=\"game\" src=./ImagenesCasillasLinja/CasillaRoja.png alt=\"\"></img></td><td><img class=\"game\" src=./ImagenesCasillasLinja/CasillaRoja.png alt=\"\"></img></td><td><img class=\"game\" src=./ImagenesCasillasLinja/CasillaRoja.png alt=\"\"></img></td></tr><tr><td>1</td><td><img class=\"game\" src=./ImagenesCasillasLinja/CasillaRoja.png alt=\"\"></img></td><td><img class=\"game\" src=./ImagenesCasillasLinja/CasillaRoja.png alt=\"\"></img></td><td><img class=\"game\" src=./ImagenesCasillasLinja/CasillaRoja.png alt=\"\"></img></td><td><img class=\"game\" src=./ImagenesCasillasLinja/CasillaVacia.png alt=\"\"></img></td><td><img class=\"game\" src=./ImagenesCasillasLinja/CasillaVacia.png alt=\"\"></img></td><td><img class=\"game\" src=./ImagenesCasillasLinja/CasillaVacia.png alt=\"\"></img></td></tr><tr><td>2</td><td><img class=\"game\" src=./ImagenesCasillasLinja/CasillaVacia.png alt=\"\"></img></td><td><img class=\"game\" src=./ImagenesCasillasLinja/CasillaVacia.png alt=\"\"></img></td><td><img class=\"game\" src=./ImagenesCasillasLinja/CasillaVacia.png alt=\"\"></img></td><td><img class=\"game\" src=./ImagenesCasillasLinja/CasillaVacia.png alt=\"\"></img></td><td><img class=\"game\" src=./ImagenesCasillasLinja/CasillaVacia.png alt=\"\"></img></td><td><img class=\"game\" src=./ImagenesCasillasLinja/CasillaVacia.png alt=\"\"></img></td></tr><tr><td>3</td><td><img class=\"game\" src=./ImagenesCasillasLinja/CasillaVacia.png alt=\"\"></img></td><td><img class=\"game\" src=./ImagenesCasillasLinja/CasillaVacia.png alt=\"\"></img></td><td><img class=\"game\" src=./ImagenesCasillasLinja/CasillaVacia.png alt=\"\"></img></td><td><img class=\"game\" src=./ImagenesCasillasLinja/CasillaVacia.png alt=\"\"></img></td><td><img class=\"game\" src=./ImagenesCasillasLinja/CasillaVacia.png alt=\"\"></img></td><td><img class=\"game\" src=./ImagenesCasillasLinja/CasillaVacia.png alt=\"\"></img></td></tr><tr><td>4</td><td><img class=\"game\" src=./ImagenesCasillasLinja/CasillaVacia.png alt=\"\"></img></td><td><img class=\"game\" src=./ImagenesCasillasLinja/CasillaVacia.png alt=\"\"></img></td><td><img class=\"game\" src=./ImagenesCasillasLinja/CasillaVacia.png alt=\"\"></img></td><td><img class=\"game\" src=./ImagenesCasillasLinja/CasillaVacia.png alt=\"\"></img></td><td><img class=\"game\" src=./ImagenesCasillasLinja/CasillaNegra.png alt=\"\"></img></td><td><img class=\"game\" src=./ImagenesCasillasLinja/CasillaVacia.png alt=\"\"></img></td></tr><tr><td>5</td><td><img class=\"game\" src=./ImagenesCasillasLinja/CasillaNegra.png alt=\"\"></img></td><td><img class=\"game\" src=./ImagenesCasillasLinja/CasillaNegra.png alt=\"\"></img></td><td><img class=\"game\" src=./ImagenesCasillasLinja/CasillaNegra.png alt=\"\"></img></td><td><img class=\"game\" src=./ImagenesCasillasLinja/CasillaNegra.png alt=\"\"></img></td><td><img class=\"game\" src=./ImagenesCasillasLinja/CasillaVacia.png alt=\"\"></img></td><td><img class=\"game\" src=./ImagenesCasillasLinja/CasillaVacia.png alt=\"\"></img></td></tr><tr><td>6</td><td><img class=\"game\" src=./ImagenesCasillasLinja/CasillaNegra.png alt=\"\"></img></td><td><img class=\"game\" src=./ImagenesCasillasLinja/CasillaNegra.png alt=\"\"></img></td><td><img class=\"game\" src=./ImagenesCasillasLinja/CasillaNegra.png alt=\"\"></img></td><td><img class=\"game\" src=./ImagenesCasillasLinja/CasillaNegra.png alt=\"\"></img></td><td><img class=\"game\" src=./ImagenesCasillasLinja/CasillaVacia.png alt=\"\"></img></td><td><img class=\"game\" src=./ImagenesCasillasLinja/CasillaVacia.png alt=\"\"></img></td></tr><tr><td>7</td><td><img class=\"game\" src=./ImagenesCasillasLinja/CasillaNegra.png alt=\"\"></img></td><td><img class=\"game\" src=./ImagenesCasillasLinja/CasillaNegra.png alt=\"\"></img></td><td><img class=\"game\" src=./ImagenesCasillasLinja/CasillaNegra.png alt=\"\"></img></td><td><img class=\"game\" src=./ImagenesCasillasLinja/CasillaRoja.png alt=\"\"></img></td><td><img class=\"game\" src=./ImagenesCasillasLinja/CasillaRoja.png alt=\"\"></img></td><td><img class=\"game\" src=./ImagenesCasillasLinja/CasillaRoja.png alt=\"\"></img></td></tr></table>"
      ],
      "text/plain": [
       "<IPython.core.display.HTML object>"
      ]
     },
     "metadata": {},
     "output_type": "display_data"
    },
    {
     "name": "stdout",
     "output_type": "stream",
     "text": [
      "\n",
      "\n",
      "\u001b[1m\u001b[38;5;160m\u001b[48;5;223m                         Jugador 2 \u001b[0m\n"
     ]
    },
    {
     "data": {
      "text/html": [
       "<style> img.game {width: 30px !important; height: 25px !important;}</style><table><tr><td></td><td>0</td><td>1</td><td>2</td><td>3</td><td>4</td><td>5</td></tr><tr><td>0</td><td><img class=\"game\" src=./ImagenesCasillasLinja/CasillaRoja.png alt=\"\"></img></td><td><img class=\"game\" src=./ImagenesCasillasLinja/CasillaRoja.png alt=\"\"></img></td><td><img class=\"game\" src=./ImagenesCasillasLinja/CasillaRoja.png alt=\"\"></img></td><td><img class=\"game\" src=./ImagenesCasillasLinja/CasillaRoja.png alt=\"\"></img></td><td><img class=\"game\" src=./ImagenesCasillasLinja/CasillaRoja.png alt=\"\"></img></td><td><img class=\"game\" src=./ImagenesCasillasLinja/CasillaRoja.png alt=\"\"></img></td></tr><tr><td>1</td><td><img class=\"game\" src=./ImagenesCasillasLinja/CasillaRoja.png alt=\"\"></img></td><td><img class=\"game\" src=./ImagenesCasillasLinja/CasillaRoja.png alt=\"\"></img></td><td><img class=\"game\" src=./ImagenesCasillasLinja/CasillaRoja.png alt=\"\"></img></td><td><img class=\"game\" src=./ImagenesCasillasLinja/CasillaVacia.png alt=\"\"></img></td><td><img class=\"game\" src=./ImagenesCasillasLinja/CasillaVacia.png alt=\"\"></img></td><td><img class=\"game\" src=./ImagenesCasillasLinja/CasillaVacia.png alt=\"\"></img></td></tr><tr><td>2</td><td><img class=\"game\" src=./ImagenesCasillasLinja/CasillaRoja.png alt=\"\"></img></td><td><img class=\"game\" src=./ImagenesCasillasLinja/CasillaVacia.png alt=\"\"></img></td><td><img class=\"game\" src=./ImagenesCasillasLinja/CasillaVacia.png alt=\"\"></img></td><td><img class=\"game\" src=./ImagenesCasillasLinja/CasillaVacia.png alt=\"\"></img></td><td><img class=\"game\" src=./ImagenesCasillasLinja/CasillaVacia.png alt=\"\"></img></td><td><img class=\"game\" src=./ImagenesCasillasLinja/CasillaVacia.png alt=\"\"></img></td></tr><tr><td>3</td><td><img class=\"game\" src=./ImagenesCasillasLinja/CasillaVacia.png alt=\"\"></img></td><td><img class=\"game\" src=./ImagenesCasillasLinja/CasillaVacia.png alt=\"\"></img></td><td><img class=\"game\" src=./ImagenesCasillasLinja/CasillaVacia.png alt=\"\"></img></td><td><img class=\"game\" src=./ImagenesCasillasLinja/CasillaVacia.png alt=\"\"></img></td><td><img class=\"game\" src=./ImagenesCasillasLinja/CasillaVacia.png alt=\"\"></img></td><td><img class=\"game\" src=./ImagenesCasillasLinja/CasillaVacia.png alt=\"\"></img></td></tr><tr><td>4</td><td><img class=\"game\" src=./ImagenesCasillasLinja/CasillaVacia.png alt=\"\"></img></td><td><img class=\"game\" src=./ImagenesCasillasLinja/CasillaVacia.png alt=\"\"></img></td><td><img class=\"game\" src=./ImagenesCasillasLinja/CasillaVacia.png alt=\"\"></img></td><td><img class=\"game\" src=./ImagenesCasillasLinja/CasillaVacia.png alt=\"\"></img></td><td><img class=\"game\" src=./ImagenesCasillasLinja/CasillaNegra.png alt=\"\"></img></td><td><img class=\"game\" src=./ImagenesCasillasLinja/CasillaVacia.png alt=\"\"></img></td></tr><tr><td>5</td><td><img class=\"game\" src=./ImagenesCasillasLinja/CasillaNegra.png alt=\"\"></img></td><td><img class=\"game\" src=./ImagenesCasillasLinja/CasillaNegra.png alt=\"\"></img></td><td><img class=\"game\" src=./ImagenesCasillasLinja/CasillaNegra.png alt=\"\"></img></td><td><img class=\"game\" src=./ImagenesCasillasLinja/CasillaNegra.png alt=\"\"></img></td><td><img class=\"game\" src=./ImagenesCasillasLinja/CasillaVacia.png alt=\"\"></img></td><td><img class=\"game\" src=./ImagenesCasillasLinja/CasillaVacia.png alt=\"\"></img></td></tr><tr><td>6</td><td><img class=\"game\" src=./ImagenesCasillasLinja/CasillaNegra.png alt=\"\"></img></td><td><img class=\"game\" src=./ImagenesCasillasLinja/CasillaNegra.png alt=\"\"></img></td><td><img class=\"game\" src=./ImagenesCasillasLinja/CasillaNegra.png alt=\"\"></img></td><td><img class=\"game\" src=./ImagenesCasillasLinja/CasillaNegra.png alt=\"\"></img></td><td><img class=\"game\" src=./ImagenesCasillasLinja/CasillaVacia.png alt=\"\"></img></td><td><img class=\"game\" src=./ImagenesCasillasLinja/CasillaVacia.png alt=\"\"></img></td></tr><tr><td>7</td><td><img class=\"game\" src=./ImagenesCasillasLinja/CasillaNegra.png alt=\"\"></img></td><td><img class=\"game\" src=./ImagenesCasillasLinja/CasillaNegra.png alt=\"\"></img></td><td><img class=\"game\" src=./ImagenesCasillasLinja/CasillaNegra.png alt=\"\"></img></td><td><img class=\"game\" src=./ImagenesCasillasLinja/CasillaVacia.png alt=\"\"></img></td><td><img class=\"game\" src=./ImagenesCasillasLinja/CasillaRoja.png alt=\"\"></img></td><td><img class=\"game\" src=./ImagenesCasillasLinja/CasillaRoja.png alt=\"\"></img></td></tr></table>"
      ],
      "text/plain": [
       "<IPython.core.display.HTML object>"
      ]
     },
     "metadata": {},
     "output_type": "display_data"
    },
    {
     "name": "stdout",
     "output_type": "stream",
     "text": [
      "\n",
      "\n",
      "\u001b[1m\u001b[38;5;232m\u001b[48;5;253m Jugador 1                         \u001b[0m\n"
     ]
    },
    {
     "data": {
      "text/html": [
       "<style> img.game {width: 30px !important; height: 25px !important;}</style><table><tr><td></td><td>0</td><td>1</td><td>2</td><td>3</td><td>4</td><td>5</td></tr><tr><td>0</td><td><img class=\"game\" src=./ImagenesCasillasLinja/CasillaRoja.png alt=\"\"></img></td><td><img class=\"game\" src=./ImagenesCasillasLinja/CasillaRoja.png alt=\"\"></img></td><td><img class=\"game\" src=./ImagenesCasillasLinja/CasillaRoja.png alt=\"\"></img></td><td><img class=\"game\" src=./ImagenesCasillasLinja/CasillaRoja.png alt=\"\"></img></td><td><img class=\"game\" src=./ImagenesCasillasLinja/CasillaRoja.png alt=\"\"></img></td><td><img class=\"game\" src=./ImagenesCasillasLinja/CasillaRoja.png alt=\"\"></img></td></tr><tr><td>1</td><td><img class=\"game\" src=./ImagenesCasillasLinja/CasillaRoja.png alt=\"\"></img></td><td><img class=\"game\" src=./ImagenesCasillasLinja/CasillaRoja.png alt=\"\"></img></td><td><img class=\"game\" src=./ImagenesCasillasLinja/CasillaRoja.png alt=\"\"></img></td><td><img class=\"game\" src=./ImagenesCasillasLinja/CasillaVacia.png alt=\"\"></img></td><td><img class=\"game\" src=./ImagenesCasillasLinja/CasillaVacia.png alt=\"\"></img></td><td><img class=\"game\" src=./ImagenesCasillasLinja/CasillaVacia.png alt=\"\"></img></td></tr><tr><td>2</td><td><img class=\"game\" src=./ImagenesCasillasLinja/CasillaRoja.png alt=\"\"></img></td><td><img class=\"game\" src=./ImagenesCasillasLinja/CasillaVacia.png alt=\"\"></img></td><td><img class=\"game\" src=./ImagenesCasillasLinja/CasillaVacia.png alt=\"\"></img></td><td><img class=\"game\" src=./ImagenesCasillasLinja/CasillaVacia.png alt=\"\"></img></td><td><img class=\"game\" src=./ImagenesCasillasLinja/CasillaVacia.png alt=\"\"></img></td><td><img class=\"game\" src=./ImagenesCasillasLinja/CasillaVacia.png alt=\"\"></img></td></tr><tr><td>3</td><td><img class=\"game\" src=./ImagenesCasillasLinja/CasillaVacia.png alt=\"\"></img></td><td><img class=\"game\" src=./ImagenesCasillasLinja/CasillaVacia.png alt=\"\"></img></td><td><img class=\"game\" src=./ImagenesCasillasLinja/CasillaVacia.png alt=\"\"></img></td><td><img class=\"game\" src=./ImagenesCasillasLinja/CasillaVacia.png alt=\"\"></img></td><td><img class=\"game\" src=./ImagenesCasillasLinja/CasillaVacia.png alt=\"\"></img></td><td><img class=\"game\" src=./ImagenesCasillasLinja/CasillaVacia.png alt=\"\"></img></td></tr><tr><td>4</td><td><img class=\"game\" src=./ImagenesCasillasLinja/CasillaVacia.png alt=\"\"></img></td><td><img class=\"game\" src=./ImagenesCasillasLinja/CasillaVacia.png alt=\"\"></img></td><td><img class=\"game\" src=./ImagenesCasillasLinja/CasillaVacia.png alt=\"\"></img></td><td><img class=\"game\" src=./ImagenesCasillasLinja/CasillaVacia.png alt=\"\"></img></td><td><img class=\"game\" src=./ImagenesCasillasLinja/CasillaVacia.png alt=\"\"></img></td><td><img class=\"game\" src=./ImagenesCasillasLinja/CasillaVacia.png alt=\"\"></img></td></tr><tr><td>5</td><td><img class=\"game\" src=./ImagenesCasillasLinja/CasillaNegra.png alt=\"\"></img></td><td><img class=\"game\" src=./ImagenesCasillasLinja/CasillaNegra.png alt=\"\"></img></td><td><img class=\"game\" src=./ImagenesCasillasLinja/CasillaNegra.png alt=\"\"></img></td><td><img class=\"game\" src=./ImagenesCasillasLinja/CasillaNegra.png alt=\"\"></img></td><td><img class=\"game\" src=./ImagenesCasillasLinja/CasillaNegra.png alt=\"\"></img></td><td><img class=\"game\" src=./ImagenesCasillasLinja/CasillaVacia.png alt=\"\"></img></td></tr><tr><td>6</td><td><img class=\"game\" src=./ImagenesCasillasLinja/CasillaVacia.png alt=\"\"></img></td><td><img class=\"game\" src=./ImagenesCasillasLinja/CasillaNegra.png alt=\"\"></img></td><td><img class=\"game\" src=./ImagenesCasillasLinja/CasillaNegra.png alt=\"\"></img></td><td><img class=\"game\" src=./ImagenesCasillasLinja/CasillaNegra.png alt=\"\"></img></td><td><img class=\"game\" src=./ImagenesCasillasLinja/CasillaVacia.png alt=\"\"></img></td><td><img class=\"game\" src=./ImagenesCasillasLinja/CasillaVacia.png alt=\"\"></img></td></tr><tr><td>7</td><td><img class=\"game\" src=./ImagenesCasillasLinja/CasillaNegra.png alt=\"\"></img></td><td><img class=\"game\" src=./ImagenesCasillasLinja/CasillaNegra.png alt=\"\"></img></td><td><img class=\"game\" src=./ImagenesCasillasLinja/CasillaNegra.png alt=\"\"></img></td><td><img class=\"game\" src=./ImagenesCasillasLinja/CasillaNegra.png alt=\"\"></img></td><td><img class=\"game\" src=./ImagenesCasillasLinja/CasillaRoja.png alt=\"\"></img></td><td><img class=\"game\" src=./ImagenesCasillasLinja/CasillaRoja.png alt=\"\"></img></td></tr></table>"
      ],
      "text/plain": [
       "<IPython.core.display.HTML object>"
      ]
     },
     "metadata": {},
     "output_type": "display_data"
    },
    {
     "name": "stdout",
     "output_type": "stream",
     "text": [
      "\n",
      "\n",
      "\u001b[1m\u001b[38;5;160m\u001b[48;5;223m                         Jugador 2 \u001b[0m\n"
     ]
    },
    {
     "data": {
      "text/html": [
       "<style> img.game {width: 30px !important; height: 25px !important;}</style><table><tr><td></td><td>0</td><td>1</td><td>2</td><td>3</td><td>4</td><td>5</td></tr><tr><td>0</td><td><img class=\"game\" src=./ImagenesCasillasLinja/CasillaRoja.png alt=\"\"></img></td><td><img class=\"game\" src=./ImagenesCasillasLinja/CasillaRoja.png alt=\"\"></img></td><td><img class=\"game\" src=./ImagenesCasillasLinja/CasillaRoja.png alt=\"\"></img></td><td><img class=\"game\" src=./ImagenesCasillasLinja/CasillaRoja.png alt=\"\"></img></td><td><img class=\"game\" src=./ImagenesCasillasLinja/CasillaRoja.png alt=\"\"></img></td><td><img class=\"game\" src=./ImagenesCasillasLinja/CasillaRoja.png alt=\"\"></img></td></tr><tr><td>1</td><td><img class=\"game\" src=./ImagenesCasillasLinja/CasillaRoja.png alt=\"\"></img></td><td><img class=\"game\" src=./ImagenesCasillasLinja/CasillaRoja.png alt=\"\"></img></td><td><img class=\"game\" src=./ImagenesCasillasLinja/CasillaRoja.png alt=\"\"></img></td><td><img class=\"game\" src=./ImagenesCasillasLinja/CasillaRoja.png alt=\"\"></img></td><td><img class=\"game\" src=./ImagenesCasillasLinja/CasillaVacia.png alt=\"\"></img></td><td><img class=\"game\" src=./ImagenesCasillasLinja/CasillaVacia.png alt=\"\"></img></td></tr><tr><td>2</td><td><img class=\"game\" src=./ImagenesCasillasLinja/CasillaVacia.png alt=\"\"></img></td><td><img class=\"game\" src=./ImagenesCasillasLinja/CasillaVacia.png alt=\"\"></img></td><td><img class=\"game\" src=./ImagenesCasillasLinja/CasillaVacia.png alt=\"\"></img></td><td><img class=\"game\" src=./ImagenesCasillasLinja/CasillaVacia.png alt=\"\"></img></td><td><img class=\"game\" src=./ImagenesCasillasLinja/CasillaVacia.png alt=\"\"></img></td><td><img class=\"game\" src=./ImagenesCasillasLinja/CasillaVacia.png alt=\"\"></img></td></tr><tr><td>3</td><td><img class=\"game\" src=./ImagenesCasillasLinja/CasillaVacia.png alt=\"\"></img></td><td><img class=\"game\" src=./ImagenesCasillasLinja/CasillaVacia.png alt=\"\"></img></td><td><img class=\"game\" src=./ImagenesCasillasLinja/CasillaVacia.png alt=\"\"></img></td><td><img class=\"game\" src=./ImagenesCasillasLinja/CasillaVacia.png alt=\"\"></img></td><td><img class=\"game\" src=./ImagenesCasillasLinja/CasillaVacia.png alt=\"\"></img></td><td><img class=\"game\" src=./ImagenesCasillasLinja/CasillaVacia.png alt=\"\"></img></td></tr><tr><td>4</td><td><img class=\"game\" src=./ImagenesCasillasLinja/CasillaRoja.png alt=\"\"></img></td><td><img class=\"game\" src=./ImagenesCasillasLinja/CasillaVacia.png alt=\"\"></img></td><td><img class=\"game\" src=./ImagenesCasillasLinja/CasillaVacia.png alt=\"\"></img></td><td><img class=\"game\" src=./ImagenesCasillasLinja/CasillaVacia.png alt=\"\"></img></td><td><img class=\"game\" src=./ImagenesCasillasLinja/CasillaVacia.png alt=\"\"></img></td><td><img class=\"game\" src=./ImagenesCasillasLinja/CasillaVacia.png alt=\"\"></img></td></tr><tr><td>5</td><td><img class=\"game\" src=./ImagenesCasillasLinja/CasillaNegra.png alt=\"\"></img></td><td><img class=\"game\" src=./ImagenesCasillasLinja/CasillaNegra.png alt=\"\"></img></td><td><img class=\"game\" src=./ImagenesCasillasLinja/CasillaNegra.png alt=\"\"></img></td><td><img class=\"game\" src=./ImagenesCasillasLinja/CasillaNegra.png alt=\"\"></img></td><td><img class=\"game\" src=./ImagenesCasillasLinja/CasillaNegra.png alt=\"\"></img></td><td><img class=\"game\" src=./ImagenesCasillasLinja/CasillaVacia.png alt=\"\"></img></td></tr><tr><td>6</td><td><img class=\"game\" src=./ImagenesCasillasLinja/CasillaVacia.png alt=\"\"></img></td><td><img class=\"game\" src=./ImagenesCasillasLinja/CasillaNegra.png alt=\"\"></img></td><td><img class=\"game\" src=./ImagenesCasillasLinja/CasillaNegra.png alt=\"\"></img></td><td><img class=\"game\" src=./ImagenesCasillasLinja/CasillaNegra.png alt=\"\"></img></td><td><img class=\"game\" src=./ImagenesCasillasLinja/CasillaVacia.png alt=\"\"></img></td><td><img class=\"game\" src=./ImagenesCasillasLinja/CasillaVacia.png alt=\"\"></img></td></tr><tr><td>7</td><td><img class=\"game\" src=./ImagenesCasillasLinja/CasillaNegra.png alt=\"\"></img></td><td><img class=\"game\" src=./ImagenesCasillasLinja/CasillaNegra.png alt=\"\"></img></td><td><img class=\"game\" src=./ImagenesCasillasLinja/CasillaNegra.png alt=\"\"></img></td><td><img class=\"game\" src=./ImagenesCasillasLinja/CasillaNegra.png alt=\"\"></img></td><td><img class=\"game\" src=./ImagenesCasillasLinja/CasillaVacia.png alt=\"\"></img></td><td><img class=\"game\" src=./ImagenesCasillasLinja/CasillaRoja.png alt=\"\"></img></td></tr></table>"
      ],
      "text/plain": [
       "<IPython.core.display.HTML object>"
      ]
     },
     "metadata": {},
     "output_type": "display_data"
    },
    {
     "name": "stdout",
     "output_type": "stream",
     "text": [
      "\n",
      "\n",
      "\u001b[1m\u001b[38;5;232m\u001b[48;5;253m Jugador 1                         \u001b[0m\n"
     ]
    },
    {
     "data": {
      "text/html": [
       "<style> img.game {width: 30px !important; height: 25px !important;}</style><table><tr><td></td><td>0</td><td>1</td><td>2</td><td>3</td><td>4</td><td>5</td></tr><tr><td>0</td><td><img class=\"game\" src=./ImagenesCasillasLinja/CasillaRoja.png alt=\"\"></img></td><td><img class=\"game\" src=./ImagenesCasillasLinja/CasillaRoja.png alt=\"\"></img></td><td><img class=\"game\" src=./ImagenesCasillasLinja/CasillaRoja.png alt=\"\"></img></td><td><img class=\"game\" src=./ImagenesCasillasLinja/CasillaRoja.png alt=\"\"></img></td><td><img class=\"game\" src=./ImagenesCasillasLinja/CasillaRoja.png alt=\"\"></img></td><td><img class=\"game\" src=./ImagenesCasillasLinja/CasillaRoja.png alt=\"\"></img></td></tr><tr><td>1</td><td><img class=\"game\" src=./ImagenesCasillasLinja/CasillaRoja.png alt=\"\"></img></td><td><img class=\"game\" src=./ImagenesCasillasLinja/CasillaRoja.png alt=\"\"></img></td><td><img class=\"game\" src=./ImagenesCasillasLinja/CasillaRoja.png alt=\"\"></img></td><td><img class=\"game\" src=./ImagenesCasillasLinja/CasillaRoja.png alt=\"\"></img></td><td><img class=\"game\" src=./ImagenesCasillasLinja/CasillaVacia.png alt=\"\"></img></td><td><img class=\"game\" src=./ImagenesCasillasLinja/CasillaVacia.png alt=\"\"></img></td></tr><tr><td>2</td><td><img class=\"game\" src=./ImagenesCasillasLinja/CasillaVacia.png alt=\"\"></img></td><td><img class=\"game\" src=./ImagenesCasillasLinja/CasillaVacia.png alt=\"\"></img></td><td><img class=\"game\" src=./ImagenesCasillasLinja/CasillaVacia.png alt=\"\"></img></td><td><img class=\"game\" src=./ImagenesCasillasLinja/CasillaVacia.png alt=\"\"></img></td><td><img class=\"game\" src=./ImagenesCasillasLinja/CasillaVacia.png alt=\"\"></img></td><td><img class=\"game\" src=./ImagenesCasillasLinja/CasillaVacia.png alt=\"\"></img></td></tr><tr><td>3</td><td><img class=\"game\" src=./ImagenesCasillasLinja/CasillaVacia.png alt=\"\"></img></td><td><img class=\"game\" src=./ImagenesCasillasLinja/CasillaVacia.png alt=\"\"></img></td><td><img class=\"game\" src=./ImagenesCasillasLinja/CasillaVacia.png alt=\"\"></img></td><td><img class=\"game\" src=./ImagenesCasillasLinja/CasillaVacia.png alt=\"\"></img></td><td><img class=\"game\" src=./ImagenesCasillasLinja/CasillaVacia.png alt=\"\"></img></td><td><img class=\"game\" src=./ImagenesCasillasLinja/CasillaVacia.png alt=\"\"></img></td></tr><tr><td>4</td><td><img class=\"game\" src=./ImagenesCasillasLinja/CasillaRoja.png alt=\"\"></img></td><td><img class=\"game\" src=./ImagenesCasillasLinja/CasillaVacia.png alt=\"\"></img></td><td><img class=\"game\" src=./ImagenesCasillasLinja/CasillaVacia.png alt=\"\"></img></td><td><img class=\"game\" src=./ImagenesCasillasLinja/CasillaVacia.png alt=\"\"></img></td><td><img class=\"game\" src=./ImagenesCasillasLinja/CasillaVacia.png alt=\"\"></img></td><td><img class=\"game\" src=./ImagenesCasillasLinja/CasillaVacia.png alt=\"\"></img></td></tr><tr><td>5</td><td><img class=\"game\" src=./ImagenesCasillasLinja/CasillaVacia.png alt=\"\"></img></td><td><img class=\"game\" src=./ImagenesCasillasLinja/CasillaNegra.png alt=\"\"></img></td><td><img class=\"game\" src=./ImagenesCasillasLinja/CasillaNegra.png alt=\"\"></img></td><td><img class=\"game\" src=./ImagenesCasillasLinja/CasillaNegra.png alt=\"\"></img></td><td><img class=\"game\" src=./ImagenesCasillasLinja/CasillaNegra.png alt=\"\"></img></td><td><img class=\"game\" src=./ImagenesCasillasLinja/CasillaVacia.png alt=\"\"></img></td></tr><tr><td>6</td><td><img class=\"game\" src=./ImagenesCasillasLinja/CasillaNegra.png alt=\"\"></img></td><td><img class=\"game\" src=./ImagenesCasillasLinja/CasillaVacia.png alt=\"\"></img></td><td><img class=\"game\" src=./ImagenesCasillasLinja/CasillaNegra.png alt=\"\"></img></td><td><img class=\"game\" src=./ImagenesCasillasLinja/CasillaNegra.png alt=\"\"></img></td><td><img class=\"game\" src=./ImagenesCasillasLinja/CasillaVacia.png alt=\"\"></img></td><td><img class=\"game\" src=./ImagenesCasillasLinja/CasillaVacia.png alt=\"\"></img></td></tr><tr><td>7</td><td><img class=\"game\" src=./ImagenesCasillasLinja/CasillaNegra.png alt=\"\"></img></td><td><img class=\"game\" src=./ImagenesCasillasLinja/CasillaNegra.png alt=\"\"></img></td><td><img class=\"game\" src=./ImagenesCasillasLinja/CasillaNegra.png alt=\"\"></img></td><td><img class=\"game\" src=./ImagenesCasillasLinja/CasillaNegra.png alt=\"\"></img></td><td><img class=\"game\" src=./ImagenesCasillasLinja/CasillaNegra.png alt=\"\"></img></td><td><img class=\"game\" src=./ImagenesCasillasLinja/CasillaRoja.png alt=\"\"></img></td></tr></table>"
      ],
      "text/plain": [
       "<IPython.core.display.HTML object>"
      ]
     },
     "metadata": {},
     "output_type": "display_data"
    },
    {
     "name": "stdout",
     "output_type": "stream",
     "text": [
      "\n",
      "\n",
      "\u001b[1m\u001b[38;5;160m\u001b[48;5;223m                         Jugador 2 \u001b[0m\n"
     ]
    },
    {
     "data": {
      "text/html": [
       "<style> img.game {width: 30px !important; height: 25px !important;}</style><table><tr><td></td><td>0</td><td>1</td><td>2</td><td>3</td><td>4</td><td>5</td></tr><tr><td>0</td><td><img class=\"game\" src=./ImagenesCasillasLinja/CasillaRoja.png alt=\"\"></img></td><td><img class=\"game\" src=./ImagenesCasillasLinja/CasillaRoja.png alt=\"\"></img></td><td><img class=\"game\" src=./ImagenesCasillasLinja/CasillaRoja.png alt=\"\"></img></td><td><img class=\"game\" src=./ImagenesCasillasLinja/CasillaRoja.png alt=\"\"></img></td><td><img class=\"game\" src=./ImagenesCasillasLinja/CasillaRoja.png alt=\"\"></img></td><td><img class=\"game\" src=./ImagenesCasillasLinja/CasillaRoja.png alt=\"\"></img></td></tr><tr><td>1</td><td><img class=\"game\" src=./ImagenesCasillasLinja/CasillaRoja.png alt=\"\"></img></td><td><img class=\"game\" src=./ImagenesCasillasLinja/CasillaRoja.png alt=\"\"></img></td><td><img class=\"game\" src=./ImagenesCasillasLinja/CasillaRoja.png alt=\"\"></img></td><td><img class=\"game\" src=./ImagenesCasillasLinja/CasillaRoja.png alt=\"\"></img></td><td><img class=\"game\" src=./ImagenesCasillasLinja/CasillaRoja.png alt=\"\"></img></td><td><img class=\"game\" src=./ImagenesCasillasLinja/CasillaVacia.png alt=\"\"></img></td></tr><tr><td>2</td><td><img class=\"game\" src=./ImagenesCasillasLinja/CasillaVacia.png alt=\"\"></img></td><td><img class=\"game\" src=./ImagenesCasillasLinja/CasillaVacia.png alt=\"\"></img></td><td><img class=\"game\" src=./ImagenesCasillasLinja/CasillaVacia.png alt=\"\"></img></td><td><img class=\"game\" src=./ImagenesCasillasLinja/CasillaVacia.png alt=\"\"></img></td><td><img class=\"game\" src=./ImagenesCasillasLinja/CasillaVacia.png alt=\"\"></img></td><td><img class=\"game\" src=./ImagenesCasillasLinja/CasillaVacia.png alt=\"\"></img></td></tr><tr><td>3</td><td><img class=\"game\" src=./ImagenesCasillasLinja/CasillaVacia.png alt=\"\"></img></td><td><img class=\"game\" src=./ImagenesCasillasLinja/CasillaVacia.png alt=\"\"></img></td><td><img class=\"game\" src=./ImagenesCasillasLinja/CasillaVacia.png alt=\"\"></img></td><td><img class=\"game\" src=./ImagenesCasillasLinja/CasillaVacia.png alt=\"\"></img></td><td><img class=\"game\" src=./ImagenesCasillasLinja/CasillaVacia.png alt=\"\"></img></td><td><img class=\"game\" src=./ImagenesCasillasLinja/CasillaVacia.png alt=\"\"></img></td></tr><tr><td>4</td><td><img class=\"game\" src=./ImagenesCasillasLinja/CasillaVacia.png alt=\"\"></img></td><td><img class=\"game\" src=./ImagenesCasillasLinja/CasillaVacia.png alt=\"\"></img></td><td><img class=\"game\" src=./ImagenesCasillasLinja/CasillaVacia.png alt=\"\"></img></td><td><img class=\"game\" src=./ImagenesCasillasLinja/CasillaVacia.png alt=\"\"></img></td><td><img class=\"game\" src=./ImagenesCasillasLinja/CasillaVacia.png alt=\"\"></img></td><td><img class=\"game\" src=./ImagenesCasillasLinja/CasillaVacia.png alt=\"\"></img></td></tr><tr><td>5</td><td><img class=\"game\" src=./ImagenesCasillasLinja/CasillaVacia.png alt=\"\"></img></td><td><img class=\"game\" src=./ImagenesCasillasLinja/CasillaNegra.png alt=\"\"></img></td><td><img class=\"game\" src=./ImagenesCasillasLinja/CasillaNegra.png alt=\"\"></img></td><td><img class=\"game\" src=./ImagenesCasillasLinja/CasillaNegra.png alt=\"\"></img></td><td><img class=\"game\" src=./ImagenesCasillasLinja/CasillaNegra.png alt=\"\"></img></td><td><img class=\"game\" src=./ImagenesCasillasLinja/CasillaVacia.png alt=\"\"></img></td></tr><tr><td>6</td><td><img class=\"game\" src=./ImagenesCasillasLinja/CasillaNegra.png alt=\"\"></img></td><td><img class=\"game\" src=./ImagenesCasillasLinja/CasillaRoja.png alt=\"\"></img></td><td><img class=\"game\" src=./ImagenesCasillasLinja/CasillaNegra.png alt=\"\"></img></td><td><img class=\"game\" src=./ImagenesCasillasLinja/CasillaNegra.png alt=\"\"></img></td><td><img class=\"game\" src=./ImagenesCasillasLinja/CasillaVacia.png alt=\"\"></img></td><td><img class=\"game\" src=./ImagenesCasillasLinja/CasillaVacia.png alt=\"\"></img></td></tr><tr><td>7</td><td><img class=\"game\" src=./ImagenesCasillasLinja/CasillaNegra.png alt=\"\"></img></td><td><img class=\"game\" src=./ImagenesCasillasLinja/CasillaNegra.png alt=\"\"></img></td><td><img class=\"game\" src=./ImagenesCasillasLinja/CasillaNegra.png alt=\"\"></img></td><td><img class=\"game\" src=./ImagenesCasillasLinja/CasillaNegra.png alt=\"\"></img></td><td><img class=\"game\" src=./ImagenesCasillasLinja/CasillaNegra.png alt=\"\"></img></td><td><img class=\"game\" src=./ImagenesCasillasLinja/CasillaVacia.png alt=\"\"></img></td></tr></table>"
      ],
      "text/plain": [
       "<IPython.core.display.HTML object>"
      ]
     },
     "metadata": {},
     "output_type": "display_data"
    },
    {
     "name": "stdout",
     "output_type": "stream",
     "text": [
      "\n",
      "\n",
      "\u001b[1m\u001b[38;5;232m\u001b[48;5;253m Jugador 1                         \u001b[0m\n"
     ]
    },
    {
     "data": {
      "text/html": [
       "<style> img.game {width: 30px !important; height: 25px !important;}</style><table><tr><td></td><td>0</td><td>1</td><td>2</td><td>3</td><td>4</td><td>5</td></tr><tr><td>0</td><td><img class=\"game\" src=./ImagenesCasillasLinja/CasillaRoja.png alt=\"\"></img></td><td><img class=\"game\" src=./ImagenesCasillasLinja/CasillaRoja.png alt=\"\"></img></td><td><img class=\"game\" src=./ImagenesCasillasLinja/CasillaRoja.png alt=\"\"></img></td><td><img class=\"game\" src=./ImagenesCasillasLinja/CasillaRoja.png alt=\"\"></img></td><td><img class=\"game\" src=./ImagenesCasillasLinja/CasillaRoja.png alt=\"\"></img></td><td><img class=\"game\" src=./ImagenesCasillasLinja/CasillaRoja.png alt=\"\"></img></td></tr><tr><td>1</td><td><img class=\"game\" src=./ImagenesCasillasLinja/CasillaRoja.png alt=\"\"></img></td><td><img class=\"game\" src=./ImagenesCasillasLinja/CasillaRoja.png alt=\"\"></img></td><td><img class=\"game\" src=./ImagenesCasillasLinja/CasillaRoja.png alt=\"\"></img></td><td><img class=\"game\" src=./ImagenesCasillasLinja/CasillaRoja.png alt=\"\"></img></td><td><img class=\"game\" src=./ImagenesCasillasLinja/CasillaRoja.png alt=\"\"></img></td><td><img class=\"game\" src=./ImagenesCasillasLinja/CasillaVacia.png alt=\"\"></img></td></tr><tr><td>2</td><td><img class=\"game\" src=./ImagenesCasillasLinja/CasillaVacia.png alt=\"\"></img></td><td><img class=\"game\" src=./ImagenesCasillasLinja/CasillaVacia.png alt=\"\"></img></td><td><img class=\"game\" src=./ImagenesCasillasLinja/CasillaVacia.png alt=\"\"></img></td><td><img class=\"game\" src=./ImagenesCasillasLinja/CasillaVacia.png alt=\"\"></img></td><td><img class=\"game\" src=./ImagenesCasillasLinja/CasillaVacia.png alt=\"\"></img></td><td><img class=\"game\" src=./ImagenesCasillasLinja/CasillaVacia.png alt=\"\"></img></td></tr><tr><td>3</td><td><img class=\"game\" src=./ImagenesCasillasLinja/CasillaVacia.png alt=\"\"></img></td><td><img class=\"game\" src=./ImagenesCasillasLinja/CasillaVacia.png alt=\"\"></img></td><td><img class=\"game\" src=./ImagenesCasillasLinja/CasillaVacia.png alt=\"\"></img></td><td><img class=\"game\" src=./ImagenesCasillasLinja/CasillaVacia.png alt=\"\"></img></td><td><img class=\"game\" src=./ImagenesCasillasLinja/CasillaVacia.png alt=\"\"></img></td><td><img class=\"game\" src=./ImagenesCasillasLinja/CasillaVacia.png alt=\"\"></img></td></tr><tr><td>4</td><td><img class=\"game\" src=./ImagenesCasillasLinja/CasillaVacia.png alt=\"\"></img></td><td><img class=\"game\" src=./ImagenesCasillasLinja/CasillaVacia.png alt=\"\"></img></td><td><img class=\"game\" src=./ImagenesCasillasLinja/CasillaVacia.png alt=\"\"></img></td><td><img class=\"game\" src=./ImagenesCasillasLinja/CasillaVacia.png alt=\"\"></img></td><td><img class=\"game\" src=./ImagenesCasillasLinja/CasillaVacia.png alt=\"\"></img></td><td><img class=\"game\" src=./ImagenesCasillasLinja/CasillaVacia.png alt=\"\"></img></td></tr><tr><td>5</td><td><img class=\"game\" src=./ImagenesCasillasLinja/CasillaVacia.png alt=\"\"></img></td><td><img class=\"game\" src=./ImagenesCasillasLinja/CasillaVacia.png alt=\"\"></img></td><td><img class=\"game\" src=./ImagenesCasillasLinja/CasillaNegra.png alt=\"\"></img></td><td><img class=\"game\" src=./ImagenesCasillasLinja/CasillaNegra.png alt=\"\"></img></td><td><img class=\"game\" src=./ImagenesCasillasLinja/CasillaNegra.png alt=\"\"></img></td><td><img class=\"game\" src=./ImagenesCasillasLinja/CasillaVacia.png alt=\"\"></img></td></tr><tr><td>6</td><td><img class=\"game\" src=./ImagenesCasillasLinja/CasillaNegra.png alt=\"\"></img></td><td><img class=\"game\" src=./ImagenesCasillasLinja/CasillaRoja.png alt=\"\"></img></td><td><img class=\"game\" src=./ImagenesCasillasLinja/CasillaNegra.png alt=\"\"></img></td><td><img class=\"game\" src=./ImagenesCasillasLinja/CasillaNegra.png alt=\"\"></img></td><td><img class=\"game\" src=./ImagenesCasillasLinja/CasillaVacia.png alt=\"\"></img></td><td><img class=\"game\" src=./ImagenesCasillasLinja/CasillaVacia.png alt=\"\"></img></td></tr><tr><td>7</td><td><img class=\"game\" src=./ImagenesCasillasLinja/CasillaNegra.png alt=\"\"></img></td><td><img class=\"game\" src=./ImagenesCasillasLinja/CasillaNegra.png alt=\"\"></img></td><td><img class=\"game\" src=./ImagenesCasillasLinja/CasillaNegra.png alt=\"\"></img></td><td><img class=\"game\" src=./ImagenesCasillasLinja/CasillaNegra.png alt=\"\"></img></td><td><img class=\"game\" src=./ImagenesCasillasLinja/CasillaNegra.png alt=\"\"></img></td><td><img class=\"game\" src=./ImagenesCasillasLinja/CasillaNegra.png alt=\"\"></img></td></tr></table>"
      ],
      "text/plain": [
       "<IPython.core.display.HTML object>"
      ]
     },
     "metadata": {},
     "output_type": "display_data"
    },
    {
     "name": "stdout",
     "output_type": "stream",
     "text": [
      "\n",
      "\n",
      "\u001b[1m\u001b[38;5;160m\u001b[48;5;223m                         Jugador 2 \u001b[0m\n"
     ]
    },
    {
     "data": {
      "text/html": [
       "<style> img.game {width: 30px !important; height: 25px !important;}</style><table><tr><td></td><td>0</td><td>1</td><td>2</td><td>3</td><td>4</td><td>5</td></tr><tr><td>0</td><td><img class=\"game\" src=./ImagenesCasillasLinja/CasillaRoja.png alt=\"\"></img></td><td><img class=\"game\" src=./ImagenesCasillasLinja/CasillaRoja.png alt=\"\"></img></td><td><img class=\"game\" src=./ImagenesCasillasLinja/CasillaRoja.png alt=\"\"></img></td><td><img class=\"game\" src=./ImagenesCasillasLinja/CasillaRoja.png alt=\"\"></img></td><td><img class=\"game\" src=./ImagenesCasillasLinja/CasillaRoja.png alt=\"\"></img></td><td><img class=\"game\" src=./ImagenesCasillasLinja/CasillaRoja.png alt=\"\"></img></td></tr><tr><td>1</td><td><img class=\"game\" src=./ImagenesCasillasLinja/CasillaRoja.png alt=\"\"></img></td><td><img class=\"game\" src=./ImagenesCasillasLinja/CasillaRoja.png alt=\"\"></img></td><td><img class=\"game\" src=./ImagenesCasillasLinja/CasillaRoja.png alt=\"\"></img></td><td><img class=\"game\" src=./ImagenesCasillasLinja/CasillaRoja.png alt=\"\"></img></td><td><img class=\"game\" src=./ImagenesCasillasLinja/CasillaRoja.png alt=\"\"></img></td><td><img class=\"game\" src=./ImagenesCasillasLinja/CasillaVacia.png alt=\"\"></img></td></tr><tr><td>2</td><td><img class=\"game\" src=./ImagenesCasillasLinja/CasillaRoja.png alt=\"\"></img></td><td><img class=\"game\" src=./ImagenesCasillasLinja/CasillaVacia.png alt=\"\"></img></td><td><img class=\"game\" src=./ImagenesCasillasLinja/CasillaVacia.png alt=\"\"></img></td><td><img class=\"game\" src=./ImagenesCasillasLinja/CasillaVacia.png alt=\"\"></img></td><td><img class=\"game\" src=./ImagenesCasillasLinja/CasillaVacia.png alt=\"\"></img></td><td><img class=\"game\" src=./ImagenesCasillasLinja/CasillaVacia.png alt=\"\"></img></td></tr><tr><td>3</td><td><img class=\"game\" src=./ImagenesCasillasLinja/CasillaVacia.png alt=\"\"></img></td><td><img class=\"game\" src=./ImagenesCasillasLinja/CasillaVacia.png alt=\"\"></img></td><td><img class=\"game\" src=./ImagenesCasillasLinja/CasillaVacia.png alt=\"\"></img></td><td><img class=\"game\" src=./ImagenesCasillasLinja/CasillaVacia.png alt=\"\"></img></td><td><img class=\"game\" src=./ImagenesCasillasLinja/CasillaVacia.png alt=\"\"></img></td><td><img class=\"game\" src=./ImagenesCasillasLinja/CasillaVacia.png alt=\"\"></img></td></tr><tr><td>4</td><td><img class=\"game\" src=./ImagenesCasillasLinja/CasillaVacia.png alt=\"\"></img></td><td><img class=\"game\" src=./ImagenesCasillasLinja/CasillaVacia.png alt=\"\"></img></td><td><img class=\"game\" src=./ImagenesCasillasLinja/CasillaVacia.png alt=\"\"></img></td><td><img class=\"game\" src=./ImagenesCasillasLinja/CasillaVacia.png alt=\"\"></img></td><td><img class=\"game\" src=./ImagenesCasillasLinja/CasillaVacia.png alt=\"\"></img></td><td><img class=\"game\" src=./ImagenesCasillasLinja/CasillaVacia.png alt=\"\"></img></td></tr><tr><td>5</td><td><img class=\"game\" src=./ImagenesCasillasLinja/CasillaVacia.png alt=\"\"></img></td><td><img class=\"game\" src=./ImagenesCasillasLinja/CasillaVacia.png alt=\"\"></img></td><td><img class=\"game\" src=./ImagenesCasillasLinja/CasillaNegra.png alt=\"\"></img></td><td><img class=\"game\" src=./ImagenesCasillasLinja/CasillaNegra.png alt=\"\"></img></td><td><img class=\"game\" src=./ImagenesCasillasLinja/CasillaNegra.png alt=\"\"></img></td><td><img class=\"game\" src=./ImagenesCasillasLinja/CasillaVacia.png alt=\"\"></img></td></tr><tr><td>6</td><td><img class=\"game\" src=./ImagenesCasillasLinja/CasillaNegra.png alt=\"\"></img></td><td><img class=\"game\" src=./ImagenesCasillasLinja/CasillaVacia.png alt=\"\"></img></td><td><img class=\"game\" src=./ImagenesCasillasLinja/CasillaNegra.png alt=\"\"></img></td><td><img class=\"game\" src=./ImagenesCasillasLinja/CasillaNegra.png alt=\"\"></img></td><td><img class=\"game\" src=./ImagenesCasillasLinja/CasillaVacia.png alt=\"\"></img></td><td><img class=\"game\" src=./ImagenesCasillasLinja/CasillaVacia.png alt=\"\"></img></td></tr><tr><td>7</td><td><img class=\"game\" src=./ImagenesCasillasLinja/CasillaNegra.png alt=\"\"></img></td><td><img class=\"game\" src=./ImagenesCasillasLinja/CasillaNegra.png alt=\"\"></img></td><td><img class=\"game\" src=./ImagenesCasillasLinja/CasillaNegra.png alt=\"\"></img></td><td><img class=\"game\" src=./ImagenesCasillasLinja/CasillaNegra.png alt=\"\"></img></td><td><img class=\"game\" src=./ImagenesCasillasLinja/CasillaNegra.png alt=\"\"></img></td><td><img class=\"game\" src=./ImagenesCasillasLinja/CasillaNegra.png alt=\"\"></img></td></tr></table>"
      ],
      "text/plain": [
       "<IPython.core.display.HTML object>"
      ]
     },
     "metadata": {},
     "output_type": "display_data"
    },
    {
     "name": "stdout",
     "output_type": "stream",
     "text": [
      "\n",
      "JUEGO FINALIZADO -> GANADOR: \u001b[1m\u001b[38;5;160mJugador 2\u001b[0m\n"
     ]
    }
   ],
   "source": [
    "matTab, imgs = extraerArchivo(\"PrimerTableroLinja.txt\")\n",
    "tab = Tablerolinja(deepcopy(matTab))\n",
    "imprimirCabecera(False)\n",
    "print(\"  >>>>>>> TABLERO INICIAL <<<<<<<  \")\n",
    "display(HTML(get_html(matTab, imgs)))\n",
    "\n",
    "turno = 1\n",
    "\n",
    "# Comienza la partida\n",
    "while not tab.haFinalizadoJuego():\n",
    "    if turno == 1:\n",
    "        print(f\"\\n\\n{Co.BLK2} Jugador 1                         {Co.RESET}\")\n",
    "        AIAction(tab,1)\n",
    "    else:\n",
    "        print(f\"\\n\\n{Co.RED2}                         Jugador 2 {Co.RESET}\")\n",
    "        AIAction(tab,2)\n",
    "    \n",
    "    tab.imprimirTablero()\n",
    "    turno = 2 if turno == 1 else 1 # Si el turno era del jugador 1, cambiará al jugador 2 y viceversa.       \n",
    "\n",
    "ganador = tab.endGame()\n",
    "print()\n",
    "if ganador == 1:\n",
    "    print(f\"JUEGO FINALIZADO -> GANADOR: {Co.BLK}Jugador {ganador}{Co.RESET}\")\n",
    "else:\n",
    "    print(f\"JUEGO FINALIZADO -> GANADOR: {Co.RED}Jugador {ganador}{Co.RESET}\")"
   ]
  },
  {
   "cell_type": "markdown",
   "id": "182641f5",
   "metadata": {},
   "source": [
    "### *Ordenador vs. Jugador físico* (Visual)"
   ]
  },
  {
   "cell_type": "code",
   "execution_count": 15,
   "id": "9a706b72",
   "metadata": {
    "scrolled": false
   },
   "outputs": [
    {
     "name": "stdout",
     "output_type": "stream",
     "text": [
      "╔═════════════════════════════════════════════════════╗\n",
      "║                                                     ║\n",
      "║           \u001b[1m\u001b[38;5;0m\u001b[48;5;156m--------- JUEGO LINJA ---------\u001b[0m           ║\n",
      "║                                                     ║\n",
      "║        \u001b[1m\u001b[38;5;232mJugador 1 (Ordenador) -> Fichas negras\u001b[0m       ║\n",
      "║            \u001b[1m\u001b[38;5;160mJugador 2 (Tú) -> Fichas rojas\u001b[0m           ║\n",
      "║                                                     ║\n",
      "╚═════════════════════════════════════════════════════╝\n",
      "\n",
      "  >>>>>>> TABLERO INICIAL <<<<<<<  \n"
     ]
    },
    {
     "data": {
      "text/html": [
       "<style> img.game {width: 30px !important; height: 25px !important;}</style><table><tr><td></td><td>0</td><td>1</td><td>2</td><td>3</td><td>4</td><td>5</td></tr><tr><td>0</td><td><img class=\"game\" src=./ImagenesCasillasLinja/CasillaNegra.png alt=\"\"></img></td><td><img class=\"game\" src=./ImagenesCasillasLinja/CasillaNegra.png alt=\"\"></img></td><td><img class=\"game\" src=./ImagenesCasillasLinja/CasillaNegra.png alt=\"\"></img></td><td><img class=\"game\" src=./ImagenesCasillasLinja/CasillaNegra.png alt=\"\"></img></td><td><img class=\"game\" src=./ImagenesCasillasLinja/CasillaNegra.png alt=\"\"></img></td><td><img class=\"game\" src=./ImagenesCasillasLinja/CasillaNegra.png alt=\"\"></img></td></tr><tr><td>1</td><td><img class=\"game\" src=./ImagenesCasillasLinja/CasillaNegra.png alt=\"\"></img></td><td><img class=\"game\" src=./ImagenesCasillasLinja/CasillaVacia.png alt=\"\"></img></td><td><img class=\"game\" src=./ImagenesCasillasLinja/CasillaVacia.png alt=\"\"></img></td><td><img class=\"game\" src=./ImagenesCasillasLinja/CasillaVacia.png alt=\"\"></img></td><td><img class=\"game\" src=./ImagenesCasillasLinja/CasillaVacia.png alt=\"\"></img></td><td><img class=\"game\" src=./ImagenesCasillasLinja/CasillaRoja.png alt=\"\"></img></td></tr><tr><td>2</td><td><img class=\"game\" src=./ImagenesCasillasLinja/CasillaNegra.png alt=\"\"></img></td><td><img class=\"game\" src=./ImagenesCasillasLinja/CasillaVacia.png alt=\"\"></img></td><td><img class=\"game\" src=./ImagenesCasillasLinja/CasillaVacia.png alt=\"\"></img></td><td><img class=\"game\" src=./ImagenesCasillasLinja/CasillaVacia.png alt=\"\"></img></td><td><img class=\"game\" src=./ImagenesCasillasLinja/CasillaVacia.png alt=\"\"></img></td><td><img class=\"game\" src=./ImagenesCasillasLinja/CasillaRoja.png alt=\"\"></img></td></tr><tr><td>3</td><td><img class=\"game\" src=./ImagenesCasillasLinja/CasillaNegra.png alt=\"\"></img></td><td><img class=\"game\" src=./ImagenesCasillasLinja/CasillaVacia.png alt=\"\"></img></td><td><img class=\"game\" src=./ImagenesCasillasLinja/CasillaVacia.png alt=\"\"></img></td><td><img class=\"game\" src=./ImagenesCasillasLinja/CasillaVacia.png alt=\"\"></img></td><td><img class=\"game\" src=./ImagenesCasillasLinja/CasillaVacia.png alt=\"\"></img></td><td><img class=\"game\" src=./ImagenesCasillasLinja/CasillaRoja.png alt=\"\"></img></td></tr><tr><td>4</td><td><img class=\"game\" src=./ImagenesCasillasLinja/CasillaNegra.png alt=\"\"></img></td><td><img class=\"game\" src=./ImagenesCasillasLinja/CasillaVacia.png alt=\"\"></img></td><td><img class=\"game\" src=./ImagenesCasillasLinja/CasillaVacia.png alt=\"\"></img></td><td><img class=\"game\" src=./ImagenesCasillasLinja/CasillaVacia.png alt=\"\"></img></td><td><img class=\"game\" src=./ImagenesCasillasLinja/CasillaVacia.png alt=\"\"></img></td><td><img class=\"game\" src=./ImagenesCasillasLinja/CasillaRoja.png alt=\"\"></img></td></tr><tr><td>5</td><td><img class=\"game\" src=./ImagenesCasillasLinja/CasillaNegra.png alt=\"\"></img></td><td><img class=\"game\" src=./ImagenesCasillasLinja/CasillaVacia.png alt=\"\"></img></td><td><img class=\"game\" src=./ImagenesCasillasLinja/CasillaVacia.png alt=\"\"></img></td><td><img class=\"game\" src=./ImagenesCasillasLinja/CasillaVacia.png alt=\"\"></img></td><td><img class=\"game\" src=./ImagenesCasillasLinja/CasillaVacia.png alt=\"\"></img></td><td><img class=\"game\" src=./ImagenesCasillasLinja/CasillaRoja.png alt=\"\"></img></td></tr><tr><td>6</td><td><img class=\"game\" src=./ImagenesCasillasLinja/CasillaNegra.png alt=\"\"></img></td><td><img class=\"game\" src=./ImagenesCasillasLinja/CasillaVacia.png alt=\"\"></img></td><td><img class=\"game\" src=./ImagenesCasillasLinja/CasillaVacia.png alt=\"\"></img></td><td><img class=\"game\" src=./ImagenesCasillasLinja/CasillaVacia.png alt=\"\"></img></td><td><img class=\"game\" src=./ImagenesCasillasLinja/CasillaVacia.png alt=\"\"></img></td><td><img class=\"game\" src=./ImagenesCasillasLinja/CasillaRoja.png alt=\"\"></img></td></tr><tr><td>7</td><td><img class=\"game\" src=./ImagenesCasillasLinja/CasillaRoja.png alt=\"\"></img></td><td><img class=\"game\" src=./ImagenesCasillasLinja/CasillaRoja.png alt=\"\"></img></td><td><img class=\"game\" src=./ImagenesCasillasLinja/CasillaRoja.png alt=\"\"></img></td><td><img class=\"game\" src=./ImagenesCasillasLinja/CasillaRoja.png alt=\"\"></img></td><td><img class=\"game\" src=./ImagenesCasillasLinja/CasillaRoja.png alt=\"\"></img></td><td><img class=\"game\" src=./ImagenesCasillasLinja/CasillaRoja.png alt=\"\"></img></td></tr></table>"
      ],
      "text/plain": [
       "<IPython.core.display.HTML object>"
      ]
     },
     "metadata": {},
     "output_type": "display_data"
    },
    {
     "name": "stdout",
     "output_type": "stream",
     "text": [
      "\n",
      "\n",
      "\u001b[1m\u001b[38;5;160m\u001b[48;5;223m                         Jugador 2 \u001b[0m\n"
     ]
    },
    {
     "ename": "KeyboardInterrupt",
     "evalue": "Interrupted by user",
     "output_type": "error",
     "traceback": [
      "\u001b[1;31m---------------------------------------------------------------------------\u001b[0m",
      "\u001b[1;31mKeyboardInterrupt\u001b[0m                         Traceback (most recent call last)",
      "Cell \u001b[1;32mIn[15], line 16\u001b[0m\n\u001b[0;32m     14\u001b[0m \u001b[38;5;28;01melse\u001b[39;00m:\n\u001b[0;32m     15\u001b[0m     \u001b[38;5;28mprint\u001b[39m(\u001b[38;5;124mf\u001b[39m\u001b[38;5;124m\"\u001b[39m\u001b[38;5;130;01m\\n\u001b[39;00m\u001b[38;5;130;01m\\n\u001b[39;00m\u001b[38;5;132;01m{\u001b[39;00mCo\u001b[38;5;241m.\u001b[39mRED2\u001b[38;5;132;01m}\u001b[39;00m\u001b[38;5;124m                         Jugador 2 \u001b[39m\u001b[38;5;132;01m{\u001b[39;00mCo\u001b[38;5;241m.\u001b[39mRESET\u001b[38;5;132;01m}\u001b[39;00m\u001b[38;5;124m\"\u001b[39m)\n\u001b[1;32m---> 16\u001b[0m     tab\u001b[38;5;241m.\u001b[39mturnoJugador(matTab,imgs)\n\u001b[0;32m     18\u001b[0m tab\u001b[38;5;241m.\u001b[39mimprimirTablero()\n\u001b[0;32m     19\u001b[0m turno \u001b[38;5;241m=\u001b[39m \u001b[38;5;241m2\u001b[39m \u001b[38;5;28;01mif\u001b[39;00m turno \u001b[38;5;241m==\u001b[39m \u001b[38;5;241m1\u001b[39m \u001b[38;5;28;01melse\u001b[39;00m \u001b[38;5;241m1\u001b[39m \u001b[38;5;66;03m# Si el turno era del jugador 1, cambiará al jugador 2 y viceversa.    \u001b[39;00m\n",
      "Cell \u001b[1;32mIn[2], line 284\u001b[0m, in \u001b[0;36mTablerolinja.turnoJugador\u001b[1;34m(self, matTab, imgs)\u001b[0m\n\u001b[0;32m    281\u001b[0m \u001b[38;5;66;03m# ------------------------------------- PRIMER MOVIMIENTO -------------------------------------\u001b[39;00m\n\u001b[0;32m    282\u001b[0m \u001b[38;5;28;01mwhile\u001b[39;00m \u001b[38;5;129;01mnot\u001b[39;00m valido:\n\u001b[1;32m--> 284\u001b[0m     coordsInput \u001b[38;5;241m=\u001b[39m \u001b[38;5;28minput\u001b[39m(\u001b[38;5;124m\"\u001b[39m\u001b[38;5;124m[1er mov] Ingrese la FILA y COLUMNA de la ficha que desea mover (ej: f,c): \u001b[39m\u001b[38;5;124m\"\u001b[39m)\n\u001b[0;32m    285\u001b[0m     fila_str, columna_str \u001b[38;5;241m=\u001b[39m coordsInput\u001b[38;5;241m.\u001b[39msplit(\u001b[38;5;124m'\u001b[39m\u001b[38;5;124m,\u001b[39m\u001b[38;5;124m'\u001b[39m)\n\u001b[0;32m    286\u001b[0m     rowIni \u001b[38;5;241m=\u001b[39m \u001b[38;5;28mint\u001b[39m(fila_str)\n",
      "File \u001b[1;32m~\\anaconda3\\Lib\\site-packages\\ipykernel\\kernelbase.py:1175\u001b[0m, in \u001b[0;36mKernel.raw_input\u001b[1;34m(self, prompt)\u001b[0m\n\u001b[0;32m   1171\u001b[0m \u001b[38;5;28;01mif\u001b[39;00m \u001b[38;5;129;01mnot\u001b[39;00m \u001b[38;5;28mself\u001b[39m\u001b[38;5;241m.\u001b[39m_allow_stdin:\n\u001b[0;32m   1172\u001b[0m     \u001b[38;5;28;01mraise\u001b[39;00m StdinNotImplementedError(\n\u001b[0;32m   1173\u001b[0m         \u001b[38;5;124m\"\u001b[39m\u001b[38;5;124mraw_input was called, but this frontend does not support input requests.\u001b[39m\u001b[38;5;124m\"\u001b[39m\n\u001b[0;32m   1174\u001b[0m     )\n\u001b[1;32m-> 1175\u001b[0m \u001b[38;5;28;01mreturn\u001b[39;00m \u001b[38;5;28mself\u001b[39m\u001b[38;5;241m.\u001b[39m_input_request(\n\u001b[0;32m   1176\u001b[0m     \u001b[38;5;28mstr\u001b[39m(prompt),\n\u001b[0;32m   1177\u001b[0m     \u001b[38;5;28mself\u001b[39m\u001b[38;5;241m.\u001b[39m_parent_ident[\u001b[38;5;124m\"\u001b[39m\u001b[38;5;124mshell\u001b[39m\u001b[38;5;124m\"\u001b[39m],\n\u001b[0;32m   1178\u001b[0m     \u001b[38;5;28mself\u001b[39m\u001b[38;5;241m.\u001b[39mget_parent(\u001b[38;5;124m\"\u001b[39m\u001b[38;5;124mshell\u001b[39m\u001b[38;5;124m\"\u001b[39m),\n\u001b[0;32m   1179\u001b[0m     password\u001b[38;5;241m=\u001b[39m\u001b[38;5;28;01mFalse\u001b[39;00m,\n\u001b[0;32m   1180\u001b[0m )\n",
      "File \u001b[1;32m~\\anaconda3\\Lib\\site-packages\\ipykernel\\kernelbase.py:1217\u001b[0m, in \u001b[0;36mKernel._input_request\u001b[1;34m(self, prompt, ident, parent, password)\u001b[0m\n\u001b[0;32m   1214\u001b[0m             \u001b[38;5;28;01mbreak\u001b[39;00m\n\u001b[0;32m   1215\u001b[0m \u001b[38;5;28;01mexcept\u001b[39;00m \u001b[38;5;167;01mKeyboardInterrupt\u001b[39;00m:\n\u001b[0;32m   1216\u001b[0m     \u001b[38;5;66;03m# re-raise KeyboardInterrupt, to truncate traceback\u001b[39;00m\n\u001b[1;32m-> 1217\u001b[0m     \u001b[38;5;28;01mraise\u001b[39;00m \u001b[38;5;167;01mKeyboardInterrupt\u001b[39;00m(\u001b[38;5;124m\"\u001b[39m\u001b[38;5;124mInterrupted by user\u001b[39m\u001b[38;5;124m\"\u001b[39m) \u001b[38;5;28;01mfrom\u001b[39;00m \u001b[38;5;28;01mNone\u001b[39;00m\n\u001b[0;32m   1218\u001b[0m \u001b[38;5;28;01mexcept\u001b[39;00m \u001b[38;5;167;01mException\u001b[39;00m:\n\u001b[0;32m   1219\u001b[0m     \u001b[38;5;28mself\u001b[39m\u001b[38;5;241m.\u001b[39mlog\u001b[38;5;241m.\u001b[39mwarning(\u001b[38;5;124m\"\u001b[39m\u001b[38;5;124mInvalid Message:\u001b[39m\u001b[38;5;124m\"\u001b[39m, exc_info\u001b[38;5;241m=\u001b[39m\u001b[38;5;28;01mTrue\u001b[39;00m)\n",
      "\u001b[1;31mKeyboardInterrupt\u001b[0m: Interrupted by user"
     ]
    }
   ],
   "source": [
    "matTab, imgs = extraerArchivo(\"PrimerTableroLinja.txt\")\n",
    "tab = Tablerolinja(deepcopy(matTab))\n",
    "imprimirCabecera(True)\n",
    "print(\"  >>>>>>> TABLERO INICIAL <<<<<<<  \")\n",
    "display(HTML(get_html(matTab, imgs)))\n",
    "\n",
    "turno = 2\n",
    "\n",
    "# Comienza la partida\n",
    "while not tab.haFinalizadoJuego():\n",
    "    if turno == 1:\n",
    "        print(f\"\\n\\n{Co.BLK2} Jugador 1                         {Co.RESET}\")\n",
    "        AIAction(tab,1)\n",
    "    else:\n",
    "        print(f\"\\n\\n{Co.RED2}                         Jugador 2 {Co.RESET}\")\n",
    "        tab.turnoJugador(matTab,imgs)\n",
    "        \n",
    "    tab.imprimirTablero()\n",
    "    turno = 2 if turno == 1 else 1 # Si el turno era del jugador 1, cambiará al jugador 2 y viceversa.    \n",
    "    \n",
    "ganador = tab.endGame()\n",
    "print()\n",
    "if ganador == 1:\n",
    "    print(f\"JUEGO FINALIZADO -> GANADOR: {Co.BLK}Jugador {ganador}{Co.RESET}\")\n",
    "else:\n",
    "    print(f\"JUEGO FINALIZADO -> GANADOR: {Co.RED}Jugador {ganador}{Co.RESET}\")"
   ]
  }
 ],
 "metadata": {
  "kernelspec": {
   "display_name": "Python 3 (ipykernel)",
   "language": "python",
   "name": "python3"
  },
  "language_info": {
   "codemirror_mode": {
    "name": "ipython",
    "version": 3
   },
   "file_extension": ".py",
   "mimetype": "text/x-python",
   "name": "python",
   "nbconvert_exporter": "python",
   "pygments_lexer": "ipython3",
   "version": "3.11.4"
  }
 },
 "nbformat": 4,
 "nbformat_minor": 5
}
